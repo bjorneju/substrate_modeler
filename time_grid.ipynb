{
 "cells": [
  {
   "cell_type": "markdown",
   "id": "82805591-d3e6-46ce-a5f8-03b3835ad54d",
   "metadata": {
    "tags": []
   },
   "source": [
    "# main.ipynb\n",
    "A notebook designing the substrate for the matching system"
   ]
  },
  {
   "cell_type": "code",
   "execution_count": 55,
   "id": "a613a638-2c6f-40ea-ab3d-f9cde966aadf",
   "metadata": {
    "tags": []
   },
   "outputs": [
    {
     "name": "stdout",
     "output_type": "stream",
     "text": [
      "The autoreload extension is already loaded. To reload it, use:\n",
      "  %reload_ext autoreload\n",
      "The blackcellmagic extension is already loaded. To reload it, use:\n",
      "  %reload_ext blackcellmagic\n"
     ]
    }
   ],
   "source": [
    "%load_ext autoreload\n",
    "%autoreload 2\n",
    "%load_ext blackcellmagic"
   ]
  },
  {
   "cell_type": "code",
   "execution_count": 56,
   "id": "9f2200d1-6da4-47d7-8c53-9ff2a2e0502a",
   "metadata": {
    "tags": []
   },
   "outputs": [],
   "source": [
    "import pyphi\n",
    "from substrate_modeler import unit, substrate\n",
    "\n",
    "from tqdm.auto import tqdm\n",
    "import numpy as np\n",
    "import pickle"
   ]
  },
  {
   "cell_type": "code",
   "execution_count": 57,
   "id": "fc36dd50-a94f-4ed2-93b7-59f2e2311850",
   "metadata": {
    "tags": []
   },
   "outputs": [],
   "source": [
    "pyphi.config.PARTITION_TYPE = 'TRI'\n",
    "pyphi.config.PROGRESS_BARS = False\n",
    "OUTPUT_DIR = 'data/for_matteo/'"
   ]
  },
  {
   "cell_type": "code",
   "execution_count": 58,
   "id": "33ade9a0-73eb-4349-81da-eb5796df08cf",
   "metadata": {
    "tags": []
   },
   "outputs": [],
   "source": [
    "labels = [\"A\", \"B\", \"C\", \"D\", \"E\", \"F\", \"G\", \"H\"] \n",
    "N = len(labels)"
   ]
  },
  {
   "cell_type": "markdown",
   "id": "1f4ecc53-de1e-42f4-a5e8-322c969a0106",
   "metadata": {},
   "source": [
    "# For a time grid"
   ]
  },
  {
   "cell_type": "code",
   "execution_count": 72,
   "id": "79df4e82-e25f-4164-ba7c-ea2b817456cb",
   "metadata": {
    "tags": []
   },
   "outputs": [],
   "source": [
    "# parameters for sigmoidal subunit\n",
    "\n",
    "# V1_determinism = 4\n",
    "V1_determinism = 1\n",
    "\n",
    "V1_threshold = 0.0\n",
    "V1_floor = 0.00\n",
    "V1_ceiling = 1.00\n",
    "\n",
    "# define mapping to scale weight based on (unit_state, input_state)\n",
    "V1_weight_scale_mapping = {\n",
    "    (0, 0): 1.0,\n",
    "    (1, 0): 0.5,\n",
    "    (0, 1): 0.75,\n",
    "    (1, 1): 1.5\n",
    "}\n",
    "\n",
    "self_loop = 0.3\n",
    "lateral = 0.6\n",
    "second = -0.1\n",
    "w = [\n",
    "    self_loop,  # self\n",
    "    lateral,  # near neighbor\n",
    "    second\n",
    "]\n",
    "V1_weights = [\n",
    "    w,w,w,w,w,w,\n",
    "    [\n",
    "        self_loop,  # self\n",
    "        lateral,  # near neighbor\n",
    "    ],\n",
    "    [\n",
    "        self_loop,  # self\n",
    "    ],\n",
    "]"
   ]
  },
  {
   "cell_type": "code",
   "execution_count": 73,
   "id": "0e4a39e4-bb1c-4622-9dd1-906933693973",
   "metadata": {
    "tags": []
   },
   "outputs": [],
   "source": [
    "\n",
    "V1_sigmoid_inputs = [\n",
    "    (0,1,2),\n",
    "    (1,2,3),\n",
    "    (2,3,4),\n",
    "    (3,4,5),\n",
    "    (4,5,6),\n",
    "    (5,6,7),\n",
    "    (6,7,),\n",
    "    (7,),\n",
    "]\n",
    "\n",
    "V1 = [\n",
    "    unit.Unit(\n",
    "        index=i,\n",
    "        label=labels[i],\n",
    "        state=(0,),\n",
    "        inputs=V1_sigmoid_inputs[i],\n",
    "        input_state=(0,)*len(V1_weights[i]),\n",
    "        mechanism=\"resonnator\",\n",
    "        params=dict(\n",
    "            input_weights=V1_weights[i],\n",
    "            determinism=V1_determinism,\n",
    "            threshold=V1_threshold,\n",
    "            weight_scale_mapping=V1_weight_scale_mapping,\n",
    "            floor=V1_floor,\n",
    "            ceiling=V1_ceiling,\n",
    "        ),\n",
    "    )\n",
    "    for i in range(N)\n",
    "] "
   ]
  },
  {
   "cell_type": "markdown",
   "id": "a69766c3-5b9f-419f-a310-c967c57e62fc",
   "metadata": {},
   "source": [
    "# All states"
   ]
  },
  {
   "cell_type": "code",
   "execution_count": 89,
   "id": "2604b830-b92b-42f8-8899-bea3f9934a88",
   "metadata": {},
   "outputs": [],
   "source": [
    "substrate_states = [\n",
    "    (0,0,0,0,0,0,0,0,),\n",
    "    (0,0,1,0,0,0,0,0,),\n",
    "    (0,0,1,0,1,0,0,0,),\n",
    "    (0,0,1,1,0,0,0,0,),\n",
    "    (1,1,1,1,1,0,0,0,),\n",
    "    (1,1,1,1,1,1,1,1,),\n",
    "]"
   ]
  },
  {
   "cell_type": "markdown",
   "id": "dfc5a9eb-6348-4d0f-9e10-74c3e6ae8cb3",
   "metadata": {},
   "source": [
    "# create subsystems for all states"
   ]
  },
  {
   "cell_type": "code",
   "execution_count": 90,
   "id": "4b306299-ef85-4c62-89e4-6b96ce630278",
   "metadata": {
    "tags": []
   },
   "outputs": [
    {
     "data": {
      "application/vnd.jupyter.widget-view+json": {
       "model_id": "6c9ff284d3ad4eeb8af87643d46f706d",
       "version_major": 2,
       "version_minor": 0
      },
      "text/plain": [
       "  0%|          | 0/6 [00:00<?, ?it/s]"
      ]
     },
     "metadata": {},
     "output_type": "display_data"
    }
   ],
   "source": [
    "systems = {\n",
    "    state:\n",
    "    substrate.Substrate(\n",
    "        V1, state, state, implicit=True\n",
    "    ).subsystem()\n",
    "    for state in tqdm(substrate_states)\n",
    "}\n"
   ]
  },
  {
   "cell_type": "code",
   "execution_count": 91,
   "id": "7499aacb-5e54-4b14-bc10-def138fa0d34",
   "metadata": {
    "tags": []
   },
   "outputs": [],
   "source": [
    "with open(OUTPUT_DIR+'systems_time.pkl','wb') as f:\n",
    "    pickle.dump(systems,f)\n",
    "    "
   ]
  },
  {
   "cell_type": "code",
   "execution_count": 92,
   "id": "d28e8dd3-f6fe-4b49-b9b6-e7fb915e6bbd",
   "metadata": {
    "tags": []
   },
   "outputs": [],
   "source": [
    "def get_concepts(\n",
    "    subsystem,\n",
    "    mechanisms,\n",
    "    purviews=False,\n",
    "    cause_purviews=False,\n",
    "    effect_purviews=False\n",
    "):\n",
    "    if not purviews:\n",
    "        purviews = [purviews]*len(mechanisms)\n",
    "    if not cause_purviews:\n",
    "        cause_purviews = [cause_purviews]*len(mechanisms)\n",
    "    if not effect_purviews:\n",
    "        effect_purviews = [effect_purviews]*len(mechanisms)\n",
    "        \n",
    "    return [\n",
    "        subsystem.concept(\n",
    "            mechanism,\n",
    "            purview,\n",
    "            cause_purview,\n",
    "            effect_purview\n",
    "        )\n",
    "        for (\n",
    "            mechanism,\n",
    "            purview,\n",
    "            cause_purview,\n",
    "            effect_purview\n",
    "        ) in tqdm(\n",
    "            zip(mechanisms,purviews,cause_purviews,effect_purviews),\n",
    "            total=len(mechanisms)\n",
    "        )\n",
    "    ]"
   ]
  },
  {
   "cell_type": "code",
   "execution_count": 93,
   "id": "e199be2d-4865-47fb-8c87-b903eb1b5fea",
   "metadata": {
    "tags": []
   },
   "outputs": [],
   "source": [
    "mechanisms= [\n",
    "    (1,),(3,),(5,),(7,),\n",
    "    (1,2),(3,4),(5,6),\n",
    "    (1,2,3),(4,5,6),\n",
    "    (1,2,3,4),(4,5,6,7),\n",
    "    (1,2,3,4,5)\n",
    "]"
   ]
  },
  {
   "cell_type": "code",
   "execution_count": 94,
   "id": "0c40c598-cf62-4cb8-ac63-ab8125bc7408",
   "metadata": {
    "tags": []
   },
   "outputs": [
    {
     "data": {
      "application/vnd.jupyter.widget-view+json": {
       "model_id": "133df232c3cf463f8de18b0c681258e0",
       "version_major": 2,
       "version_minor": 0
      },
      "text/plain": [
       "  0%|          | 0/6 [00:00<?, ?it/s]"
      ]
     },
     "metadata": {},
     "output_type": "display_data"
    },
    {
     "data": {
      "application/vnd.jupyter.widget-view+json": {
       "model_id": "68ff5cc2361540cda5de573378eb57e6",
       "version_major": 2,
       "version_minor": 0
      },
      "text/plain": [
       "  0%|          | 0/12 [00:00<?, ?it/s]"
      ]
     },
     "metadata": {},
     "output_type": "display_data"
    },
    {
     "data": {
      "application/vnd.jupyter.widget-view+json": {
       "model_id": "d4b67533dca14773b456a81d03b4595c",
       "version_major": 2,
       "version_minor": 0
      },
      "text/plain": [
       "  0%|          | 0/12 [00:00<?, ?it/s]"
      ]
     },
     "metadata": {},
     "output_type": "display_data"
    },
    {
     "data": {
      "application/vnd.jupyter.widget-view+json": {
       "model_id": "a92acfd222244caf84bf8fb53d48d533",
       "version_major": 2,
       "version_minor": 0
      },
      "text/plain": [
       "  0%|          | 0/12 [00:00<?, ?it/s]"
      ]
     },
     "metadata": {},
     "output_type": "display_data"
    },
    {
     "data": {
      "application/vnd.jupyter.widget-view+json": {
       "model_id": "f79ffcad2534494d92e09a95423dcdc7",
       "version_major": 2,
       "version_minor": 0
      },
      "text/plain": [
       "  0%|          | 0/12 [00:00<?, ?it/s]"
      ]
     },
     "metadata": {},
     "output_type": "display_data"
    },
    {
     "data": {
      "application/vnd.jupyter.widget-view+json": {
       "model_id": "02c7c845dc584ef384d87304919f6d7d",
       "version_major": 2,
       "version_minor": 0
      },
      "text/plain": [
       "  0%|          | 0/12 [00:00<?, ?it/s]"
      ]
     },
     "metadata": {},
     "output_type": "display_data"
    },
    {
     "data": {
      "application/vnd.jupyter.widget-view+json": {
       "model_id": "70deea3012174c63b9d2cf623014a3b5",
       "version_major": 2,
       "version_minor": 0
      },
      "text/plain": [
       "  0%|          | 0/12 [00:00<?, ?it/s]"
      ]
     },
     "metadata": {},
     "output_type": "display_data"
    }
   ],
   "source": [
    "concepts = {\n",
    "    state:\n",
    "    get_concepts(system, mechanisms)\n",
    "    for state, system in tqdm(systems.items())\n",
    "}"
   ]
  },
  {
   "cell_type": "code",
   "execution_count": 95,
   "id": "996c2812-9f74-4120-a298-bbe7c5fa03ca",
   "metadata": {},
   "outputs": [],
   "source": [
    "df_time = [\n",
    "    ces2df(CES(cons, subsystem=system), node_labels=system.node_labels)\n",
    "    for cons, system in zip(concepts.values(),systems.values())\n",
    "]"
   ]
  },
  {
   "cell_type": "code",
   "execution_count": 102,
   "id": "73ab946d-5e9e-4f14-81dc-7a9ea394fadd",
   "metadata": {},
   "outputs": [
    {
     "data": {
      "text/html": [
       "<div>\n",
       "<style scoped>\n",
       "    .dataframe tbody tr th:only-of-type {\n",
       "        vertical-align: middle;\n",
       "    }\n",
       "\n",
       "    .dataframe tbody tr th {\n",
       "        vertical-align: top;\n",
       "    }\n",
       "\n",
       "    .dataframe thead th {\n",
       "        text-align: right;\n",
       "    }\n",
       "</style>\n",
       "<table border=\"1\" class=\"dataframe\">\n",
       "  <thead>\n",
       "    <tr style=\"text-align: right;\">\n",
       "      <th></th>\n",
       "      <th>mechanism</th>\n",
       "      <th>mechanism_state</th>\n",
       "      <th>phi</th>\n",
       "      <th>cause_purview</th>\n",
       "      <th>cause_state</th>\n",
       "      <th>cause_phi</th>\n",
       "      <th>effect_purview</th>\n",
       "      <th>effect_state</th>\n",
       "      <th>effect_phi</th>\n",
       "    </tr>\n",
       "  </thead>\n",
       "  <tbody>\n",
       "    <tr>\n",
       "      <th>0</th>\n",
       "      <td>B|</td>\n",
       "      <td>0</td>\n",
       "      <td>0.171652</td>\n",
       "      <td>C|</td>\n",
       "      <td>1</td>\n",
       "      <td>0.171652</td>\n",
       "      <td>A|</td>\n",
       "      <td>0</td>\n",
       "      <td>0.232478</td>\n",
       "    </tr>\n",
       "    <tr>\n",
       "      <th>1</th>\n",
       "      <td>D|</td>\n",
       "      <td>0</td>\n",
       "      <td>0.124151</td>\n",
       "      <td>E|</td>\n",
       "      <td>1</td>\n",
       "      <td>0.171652</td>\n",
       "      <td>C|D</td>\n",
       "      <td>10</td>\n",
       "      <td>0.124151</td>\n",
       "    </tr>\n",
       "    <tr>\n",
       "      <th>2</th>\n",
       "      <td>F|</td>\n",
       "      <td>0</td>\n",
       "      <td>0.121758</td>\n",
       "      <td>G|</td>\n",
       "      <td>0</td>\n",
       "      <td>0.232235</td>\n",
       "      <td>E|F</td>\n",
       "      <td>10</td>\n",
       "      <td>0.121758</td>\n",
       "    </tr>\n",
       "    <tr>\n",
       "      <th>3</th>\n",
       "      <td>H|</td>\n",
       "      <td>0</td>\n",
       "      <td>0.115023</td>\n",
       "      <td>H|</td>\n",
       "      <td>0</td>\n",
       "      <td>0.115023</td>\n",
       "      <td>G|</td>\n",
       "      <td>0</td>\n",
       "      <td>0.232790</td>\n",
       "    </tr>\n",
       "    <tr>\n",
       "      <th>4</th>\n",
       "      <td>B|C</td>\n",
       "      <td>01</td>\n",
       "      <td>0.107752</td>\n",
       "      <td>C|</td>\n",
       "      <td>1</td>\n",
       "      <td>0.198856</td>\n",
       "      <td>B|</td>\n",
       "      <td>0</td>\n",
       "      <td>0.107752</td>\n",
       "    </tr>\n",
       "    <tr>\n",
       "      <th>5</th>\n",
       "      <td>D|E</td>\n",
       "      <td>01</td>\n",
       "      <td>0.107752</td>\n",
       "      <td>E|</td>\n",
       "      <td>1</td>\n",
       "      <td>0.199479</td>\n",
       "      <td>D|</td>\n",
       "      <td>0</td>\n",
       "      <td>0.107752</td>\n",
       "    </tr>\n",
       "    <tr>\n",
       "      <th>6</th>\n",
       "      <td>F|G</td>\n",
       "      <td>00</td>\n",
       "      <td>0.103325</td>\n",
       "      <td>G|</td>\n",
       "      <td>0</td>\n",
       "      <td>0.129734</td>\n",
       "      <td>F|</td>\n",
       "      <td>0</td>\n",
       "      <td>0.103325</td>\n",
       "    </tr>\n",
       "    <tr>\n",
       "      <th>7</th>\n",
       "      <td>B|C|D</td>\n",
       "      <td>010</td>\n",
       "      <td>0.043854</td>\n",
       "      <td>C|D</td>\n",
       "      <td>10</td>\n",
       "      <td>0.043854</td>\n",
       "      <td>B|C</td>\n",
       "      <td>01</td>\n",
       "      <td>0.049635</td>\n",
       "    </tr>\n",
       "    <tr>\n",
       "      <th>8</th>\n",
       "      <td>E|F|G</td>\n",
       "      <td>100</td>\n",
       "      <td>0.049811</td>\n",
       "      <td>F|G</td>\n",
       "      <td>00</td>\n",
       "      <td>0.049811</td>\n",
       "      <td>E|F</td>\n",
       "      <td>10</td>\n",
       "      <td>0.057964</td>\n",
       "    </tr>\n",
       "    <tr>\n",
       "      <th>9</th>\n",
       "      <td>B|C|D|E</td>\n",
       "      <td>0101</td>\n",
       "      <td>0.008978</td>\n",
       "      <td>C|D|E</td>\n",
       "      <td>101</td>\n",
       "      <td>0.008978</td>\n",
       "      <td>B|C|D</td>\n",
       "      <td>010</td>\n",
       "      <td>0.011579</td>\n",
       "    </tr>\n",
       "    <tr>\n",
       "      <th>10</th>\n",
       "      <td>E|F|G|H</td>\n",
       "      <td>1000</td>\n",
       "      <td>0.030366</td>\n",
       "      <td>F|G|H</td>\n",
       "      <td>000</td>\n",
       "      <td>0.030366</td>\n",
       "      <td>E|F|G</td>\n",
       "      <td>100</td>\n",
       "      <td>0.033854</td>\n",
       "    </tr>\n",
       "    <tr>\n",
       "      <th>11</th>\n",
       "      <td>B|C|D|E|F</td>\n",
       "      <td>01010</td>\n",
       "      <td>0.005478</td>\n",
       "      <td>C|D|E|F</td>\n",
       "      <td>1010</td>\n",
       "      <td>0.005478</td>\n",
       "      <td>B|C|D|E</td>\n",
       "      <td>0101</td>\n",
       "      <td>0.007611</td>\n",
       "    </tr>\n",
       "  </tbody>\n",
       "</table>\n",
       "</div>"
      ],
      "text/plain": [
       "    mechanism mechanism_state       phi cause_purview cause_state  cause_phi  \\\n",
       "0          B|               0  0.171652            C|           1   0.171652   \n",
       "1          D|               0  0.124151            E|           1   0.171652   \n",
       "2          F|               0  0.121758            G|           0   0.232235   \n",
       "3          H|               0  0.115023            H|           0   0.115023   \n",
       "4         B|C              01  0.107752            C|           1   0.198856   \n",
       "5         D|E              01  0.107752            E|           1   0.199479   \n",
       "6         F|G              00  0.103325            G|           0   0.129734   \n",
       "7       B|C|D             010  0.043854           C|D          10   0.043854   \n",
       "8       E|F|G             100  0.049811           F|G          00   0.049811   \n",
       "9     B|C|D|E            0101  0.008978         C|D|E         101   0.008978   \n",
       "10    E|F|G|H            1000  0.030366         F|G|H         000   0.030366   \n",
       "11  B|C|D|E|F           01010  0.005478       C|D|E|F        1010   0.005478   \n",
       "\n",
       "   effect_purview effect_state  effect_phi  \n",
       "0              A|            0    0.232478  \n",
       "1             C|D           10    0.124151  \n",
       "2             E|F           10    0.121758  \n",
       "3              G|            0    0.232790  \n",
       "4              B|            0    0.107752  \n",
       "5              D|            0    0.107752  \n",
       "6              F|            0    0.103325  \n",
       "7             B|C           01    0.049635  \n",
       "8             E|F           10    0.057964  \n",
       "9           B|C|D          010    0.011579  \n",
       "10          E|F|G          100    0.033854  \n",
       "11        B|C|D|E         0101    0.007611  "
      ]
     },
     "execution_count": 102,
     "metadata": {},
     "output_type": "execute_result"
    }
   ],
   "source": [
    "df_time[2]"
   ]
  }
 ],
 "metadata": {
  "kernelspec": {
   "display_name": "Python 3 (ipykernel)",
   "language": "python",
   "name": "python3"
  },
  "language_info": {
   "codemirror_mode": {
    "name": "ipython",
    "version": 3
   },
   "file_extension": ".py",
   "mimetype": "text/x-python",
   "name": "python",
   "nbconvert_exporter": "python",
   "pygments_lexer": "ipython3",
   "version": "3.10.9"
  }
 },
 "nbformat": 4,
 "nbformat_minor": 5
}
