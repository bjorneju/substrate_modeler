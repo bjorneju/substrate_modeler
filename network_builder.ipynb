{
 "cells": [
  {
   "cell_type": "markdown",
   "id": "c27fd63d-af37-4ce8-9ad0-75e937c2b788",
   "metadata": {},
   "source": [
    "# Notebook to build a network generator module"
   ]
  },
  {
   "cell_type": "code",
   "execution_count": 28,
   "id": "f2094596-48a4-4b15-9453-0339e36f688e",
   "metadata": {
    "tags": []
   },
   "outputs": [
    {
     "name": "stdout",
     "output_type": "stream",
     "text": [
      "The blackcellmagic extension is already loaded. To reload it, use:\n",
      "  %reload_ext blackcellmagic\n",
      "The autoreload extension is already loaded. To reload it, use:\n",
      "  %reload_ext autoreload\n"
     ]
    }
   ],
   "source": [
    "%load_ext blackcellmagic\n",
    "%load_ext autoreload\n",
    "\n",
    "%matplotlib inline\n",
    "%autoreload 2\n",
    "\n",
    "import pyphi\n",
    "from units import network_builder as nb\n",
    "import matplotlib.pyplot as plt\n",
    "import numpy as np"
   ]
  },
  {
   "cell_type": "markdown",
   "id": "e95b290c-4e08-4cc5-87b0-77d902c44609",
   "metadata": {},
   "source": [
    "# Example units that are default logic gates"
   ]
  },
  {
   "cell_type": "code",
   "execution_count": 2,
   "id": "f29b8d2c-490b-400a-bbd6-67f5181516a6",
   "metadata": {},
   "outputs": [],
   "source": [
    "xor_unit = nb.Unit(\n",
    "    index=0,\n",
    "    label=\"A\",\n",
    "    inputs=(1,2),\n",
    "    params=dict(mechanism=\"xor\",params={'floor': 0.01, 'ceiling': 0.95}),\n",
    "    state=(0,),\n",
    "    input_state=(0, 1)\n",
    ")"
   ]
  },
  {
   "cell_type": "code",
   "execution_count": 3,
   "id": "a9f3878c-7c66-45cb-a649-dd480050a87d",
   "metadata": {},
   "outputs": [
    {
     "data": {
      "text/plain": [
       "{'mechanism': 'xor', 'params': {'floor': 0.01, 'ceiling': 0.95}}"
      ]
     },
     "execution_count": 3,
     "metadata": {},
     "output_type": "execute_result"
    }
   ],
   "source": [
    "xor_unit.params"
   ]
  },
  {
   "cell_type": "code",
   "execution_count": 4,
   "id": "947f85ef-e5bf-4288-9312-f33e36baa134",
   "metadata": {},
   "outputs": [
    {
     "data": {
      "text/plain": [
       "array([[0.01, 0.95],\n",
       "       [0.95, 0.01]])"
      ]
     },
     "execution_count": 4,
     "metadata": {},
     "output_type": "execute_result"
    }
   ],
   "source": [
    "xor_unit.tpm"
   ]
  },
  {
   "cell_type": "code",
   "execution_count": 5,
   "id": "38178556-fce9-47b0-8539-165c39fef4d0",
   "metadata": {},
   "outputs": [
    {
     "data": {
      "text/plain": [
       "(1, 2)"
      ]
     },
     "execution_count": 5,
     "metadata": {},
     "output_type": "execute_result"
    }
   ],
   "source": [
    "xor_unit.inputs"
   ]
  },
  {
   "cell_type": "code",
   "execution_count": null,
   "id": "5a480015-eea9-4266-87f5-f16ad83cd3b6",
   "metadata": {},
   "outputs": [],
   "source": [
    "xor_unit."
   ]
  },
  {
   "cell_type": "markdown",
   "id": "1291997a-cbf0-4577-a7b9-8a461373d72e",
   "metadata": {},
   "source": [
    "## An example unit composed of two distinct mechanisms\n"
   ]
  },
  {
   "cell_type": "code",
   "execution_count": 8,
   "id": "fc06b8d1-d91c-443b-86d9-a3be71999f1a",
   "metadata": {},
   "outputs": [],
   "source": [
    "determinism = 4\n",
    "threshold = 0.5\n",
    "floor = 0.2\n",
    "ceiling = 0.95"
   ]
  },
  {
   "cell_type": "code",
   "execution_count": null,
   "id": "990465e0-6f94-4426-aefe-578e09e99550",
   "metadata": {},
   "outputs": [],
   "source": []
  },
  {
   "cell_type": "code",
   "execution_count": 9,
   "id": "3f2d1932-8ac6-4693-af12-1a3a9e15ab56",
   "metadata": {},
   "outputs": [],
   "source": [
    "# The unit mechanisms\n",
    "grid_unit = dict(\n",
    "    mechanism=\"sigmoid\",\n",
    "    params=dict(\n",
    "        input_weights=[0.1, 0.9, 0.1],\n",
    "        determinism=determinism,\n",
    "        threshold=threshold,\n",
    "        floor=floor,\n",
    "        ceiling=ceiling,\n",
    "    ),\n",
    ")\n",
    "\n",
    "mismatch_corrector = dict(\n",
    "    mechanism=\"mismatch_corrector\",\n",
    "    params=dict(\n",
    "        floor=floor,\n",
    "        ceiling=ceiling,\n",
    "    ),\n",
    ")"
   ]
  },
  {
   "cell_type": "code",
   "execution_count": 10,
   "id": "59659e2e-5581-4f5d-8fa1-85b21dbd2afd",
   "metadata": {},
   "outputs": [],
   "source": [
    "# The definition for how the unit as one responds given the response of the individual mechanisms\n",
    "mechanism_combination = dict(\n",
    "    mechanism=\"biased_sigmoid\",\n",
    "    params=dict(\n",
    "        input_weights=[0.4, 4.],\n",
    "        determinism=4,\n",
    "        threshold=0.5,\n",
    "        floor=floor,\n",
    "        ceiling=ceiling,\n",
    "    ),\n",
    ")"
   ]
  },
  {
   "cell_type": "code",
   "execution_count": 11,
   "id": "a77405f2-f634-4130-a6a1-836ea22b454e",
   "metadata": {},
   "outputs": [],
   "source": [
    "params = dict(\n",
    "    index=0,\n",
    "    label=\"A_w\",\n",
    "    inputs=[(6, 7, 9), (2,)],\n",
    "    params=[grid_unit, mismatch_corrector],\n",
    "    mechanism_combination=mechanism_combination,\n",
    "    state=(1,),\n",
    "    input_state=[(0, 1, 0), (0,)]\n",
    ")"
   ]
  },
  {
   "cell_type": "code",
   "execution_count": 12,
   "id": "06c5e383-b3ea-494c-80dd-9a3abc9c24f1",
   "metadata": {},
   "outputs": [],
   "source": [
    "a = nb.CompositeUnit(**params)"
   ]
  },
  {
   "cell_type": "code",
   "execution_count": 13,
   "id": "6201f463-da86-4070-b69c-cb4030f6f13c",
   "metadata": {},
   "outputs": [
    {
     "data": {
      "text/plain": [
       "CompositeUnit(type=['sigmoid', 'mismatch_corrector'], label=A_w, state=(1,))"
      ]
     },
     "execution_count": 13,
     "metadata": {},
     "output_type": "execute_result"
    }
   ],
   "source": [
    "a"
   ]
  },
  {
   "cell_type": "code",
   "execution_count": 14,
   "id": "14922c23-194f-4dc1-b1bd-9f86f09083ff",
   "metadata": {},
   "outputs": [
    {
     "data": {
      "text/plain": [
       "array([0.46217571])"
      ]
     },
     "execution_count": 14,
     "metadata": {},
     "output_type": "execute_result"
    }
   ],
   "source": [
    "a.tpm[(1,0,0,0)]"
   ]
  },
  {
   "cell_type": "code",
   "execution_count": 16,
   "id": "76c860d3-f451-492c-a8b8-ea716c84d3a4",
   "metadata": {},
   "outputs": [
    {
     "data": {
      "text/plain": [
       "array([[[[[0.46018863],\n",
       "          [0.46018863]],\n",
       "\n",
       "         [[0.46217571],\n",
       "          [0.46217571]]],\n",
       "\n",
       "\n",
       "        [[[0.48922631],\n",
       "          [0.48922631]],\n",
       "\n",
       "         [[0.49121338],\n",
       "          [0.49121338]]]],\n",
       "\n",
       "\n",
       "\n",
       "       [[[[0.46217571],\n",
       "          [0.46217571]],\n",
       "\n",
       "         [[0.46476222],\n",
       "          [0.46476222]]],\n",
       "\n",
       "\n",
       "        [[[0.49121338],\n",
       "          [0.49121338]],\n",
       "\n",
       "         [[0.49268113],\n",
       "          [0.49268113]]]]])"
      ]
     },
     "execution_count": 16,
     "metadata": {},
     "output_type": "execute_result"
    }
   ],
   "source": [
    "a.tpm"
   ]
  },
  {
   "cell_type": "markdown",
   "id": "f7fbf140-19f9-423f-94d3-f19a5509cbb3",
   "metadata": {
    "tags": []
   },
   "source": [
    "# Create the Wiki substrate"
   ]
  },
  {
   "cell_type": "markdown",
   "id": "5f59e114-92a6-4325-8a51-5c390894a5e6",
   "metadata": {},
   "source": [
    "### First, define the basic building blocks of the units"
   ]
  },
  {
   "cell_type": "code",
   "execution_count": 18,
   "id": "549c2bee-81ad-4c4d-bc5e-b3c2ab53e320",
   "metadata": {},
   "outputs": [],
   "source": [
    "floor = 0.01\n",
    "ceiling = 0.99\n",
    "selectivity = 10\n",
    "determinism=15\n",
    "threshold=0.3\n",
    "\n",
    "# simple self loop\n",
    "self_loop = dict(\n",
    "    mechanism=\"sigmoid\",\n",
    "    params=dict(\n",
    "        input_weights=[0.9],\n",
    "        determinism=determinism,\n",
    "        threshold=threshold,\n",
    "        floor=floor,\n",
    "        ceiling=ceiling,\n",
    "    ),\n",
    ")\n",
    "\n",
    "# modulated self loop\n",
    "modulated_self_loop = dict(\n",
    "    mechanism=\"biased_sigmoid\",\n",
    "    params=dict(\n",
    "        input_weights=[0.9, 1.5],\n",
    "        determinism=determinism,\n",
    "        threshold=threshold,\n",
    "        floor=floor,\n",
    "        ceiling=ceiling,\n",
    "    ),\n",
    ")\n",
    "\n",
    "# a mismatch corrector\n",
    "mismatch_corrector = dict(\n",
    "    mechanism=\"mismatch_corrector\",\n",
    "    params=dict(\n",
    "        floor=0.2,\n",
    "        ceiling=0.8,\n",
    "    ),\n",
    ")\n",
    "\n",
    "# a grid unit, with modulation\n",
    "grid_unit = dict(\n",
    "    mechanism=\"modulated_sigmoid\",\n",
    "    params=dict(\n",
    "        input_weights=[-0.1, 1.2, -0.1, 0.5],\n",
    "        determinism=determinism,\n",
    "        threshold=threshold,\n",
    "        floor=floor,\n",
    "        ceiling=ceiling,\n",
    "    ),\n",
    ")\n",
    "\n",
    "# a sor gate \"dot\" detector\n",
    "open_sor = dict(\n",
    "    mechanism=\"sor\",\n",
    "    params=dict(\n",
    "        pattern_selection=[s for s in pyphi.utils.all_states(3) if sum(s)>0],\n",
    "        selectivity=selectivity,\n",
    "        floor=floor,\n",
    "        ceiling=ceiling,\n",
    "    ),\n",
    ")\n",
    "\n"
   ]
  },
  {
   "cell_type": "markdown",
   "id": "8b35b218-4054-40aa-a563-ba51388b4eb7",
   "metadata": {},
   "source": [
    "### Define logic for how unit components are combined"
   ]
  },
  {
   "cell_type": "code",
   "execution_count": 28,
   "id": "77180cc1-da19-49b9-ad68-e3670ed769d7",
   "metadata": {},
   "outputs": [
    {
     "data": {
      "text/plain": [
       "'input_combination = dict(\\n    mechanism=\"weighted_mean\",\\n    params=dict(\\n        weights=[0.8, 0.2],\\n        floor=floor,\\n        ceiling=ceiling,\\n    ),\\n)'"
      ]
     },
     "execution_count": 28,
     "metadata": {},
     "output_type": "execute_result"
    }
   ],
   "source": [
    "input_combination = dict(\n",
    "    mechanism=\"and\",\n",
    "    params=dict(\n",
    "        floor=floor,\n",
    "        ceiling=ceiling,\n",
    "    ),\n",
    ")\n",
    "'''input_combination = dict(\n",
    "    mechanism=\"weighted_mean\",\n",
    "    params=dict(\n",
    "        weights=[0.8, 0.2],\n",
    "        floor=floor,\n",
    "        ceiling=ceiling,\n",
    "    ),\n",
    ")'''\n",
    "\n",
    "#input_combination=None"
   ]
  },
  {
   "cell_type": "markdown",
   "id": "b6d25a33-f147-46bb-b710-ac7dd8b5630f",
   "metadata": {},
   "source": [
    "### Define the particular units"
   ]
  },
  {
   "cell_type": "code",
   "execution_count": 29,
   "id": "cd9ae03d-dd07-4119-b53a-7ad5ccb1238f",
   "metadata": {},
   "outputs": [],
   "source": [
    "# 3 input units representing distinct sensory modalities\n",
    "I1 = dict(\n",
    "    index=0,\n",
    "    label=\"I1\",\n",
    "    inputs=[(0, 3)],\n",
    "    params=[modulated_self_loop],\n",
    "    mechanism_combination=None,\n",
    "    state=(0,),\n",
    "    input_state=[(0, 0,)]\n",
    ")\n",
    "I2 = dict(\n",
    "    index=1,\n",
    "    label=\"I2\",\n",
    "    inputs=[(1, 4)],\n",
    "    params=[modulated_self_loop],\n",
    "    mechanism_combination=None,\n",
    "    state=(0,),\n",
    "    input_state=[(0, 0,)]\n",
    ")\n",
    "I3 = dict(\n",
    "    index=2,\n",
    "    label=\"I3\",\n",
    "    inputs=[(2, 5)],\n",
    "    params=[modulated_self_loop],\n",
    "    mechanism_combination=None,\n",
    "    state=(0,),\n",
    "    input_state=[(0, 0,)]\n",
    ")\n",
    "\n",
    "# 3 units representing sensory cortices\n",
    "A = dict(\n",
    "        index=3,\n",
    "        label=\"A\",\n",
    "        inputs=[(4, 3, 5, 6), (0,)],\n",
    "        params=[grid_unit, mismatch_corrector],\n",
    "        mechanism_combination=input_combination,\n",
    "        state=(0,),\n",
    "        input_state=[(0,0,0,0), (0,)]\n",
    "    )\n",
    "B = dict(\n",
    "        index=4,\n",
    "        label=\"B\",\n",
    "        inputs=[(3, 4, 5, 6), (1,)],\n",
    "        params=[grid_unit, mismatch_corrector],\n",
    "        mechanism_combination=input_combination,\n",
    "        state=(0,),\n",
    "        input_state=[(0,0,0,0), (0,)]\n",
    "    )\n",
    "B = dict(\n",
    "        index=4,\n",
    "        label=\"B\",\n",
    "        inputs=[(3, 4, 5, 6)],\n",
    "        params=[grid_unit],\n",
    "        mechanism_combination=input_combination,\n",
    "        state=(0,),\n",
    "        input_state=[(0,0,0,0)]\n",
    "    )\n",
    "C = dict(\n",
    "        index=5,\n",
    "        label=\"C\",\n",
    "        inputs=[(4, 5, 3, 6), (2,)],\n",
    "        params=[grid_unit, mismatch_corrector],\n",
    "        mechanism_combination=input_combination,\n",
    "        state=(0,),\n",
    "        input_state=[(0,0,0,0), (0,)]\n",
    "    )\n",
    "\n",
    "# SOR gate\n",
    "D = dict(\n",
    "        index=6,\n",
    "        label=\"D\",\n",
    "        inputs=[(3,4,5), (6,7)],\n",
    "        params=[open_sor, modulated_self_loop],\n",
    "        mechanism_combination=input_combination,\n",
    "        state=(0,),\n",
    "        input_state=[(0,0,0), (0,0)]\n",
    "    )\n",
    "\n",
    "# Output\n",
    "O = dict(\n",
    "        index=7,\n",
    "        label=\"O\",\n",
    "        inputs=[(6,), (7,)],\n",
    "        params=[mismatch_corrector, self_loop],\n",
    "        mechanism_combination=input_combination,\n",
    "        state=(0,),\n",
    "        input_state=[(0,), (0,)]\n",
    "    )\n"
   ]
  },
  {
   "cell_type": "markdown",
   "id": "e0fc9b25-19e4-490d-b001-1ed1ca26b0db",
   "metadata": {},
   "source": [
    "### Creating units and substrate"
   ]
  },
  {
   "cell_type": "code",
   "execution_count": 30,
   "id": "b72179d8-353c-4ac4-a2fc-174eaac64343",
   "metadata": {},
   "outputs": [
    {
     "name": "stdout",
     "output_type": "stream",
     "text": [
      "No combination defined, using OR-logic\n",
      "No combination defined, using OR-logic\n",
      "No combination defined, using OR-logic\n"
     ]
    }
   ],
   "source": [
    "units = [I1, I2, I3, A, B, C, D, O]\n",
    "wiki_units = [nb.CompositeUnit(**params).Unit for params in units]"
   ]
  },
  {
   "cell_type": "code",
   "execution_count": 31,
   "id": "5810a780-6b73-4215-9db0-a18f7a168c07",
   "metadata": {
    "tags": []
   },
   "outputs": [
    {
     "name": "stderr",
     "output_type": "stream",
     "text": [
      "100%|████████████████████████████████████████████████████████████████████████████████| 256/256 [00:01<00:00, 141.88it/s]\n"
     ]
    },
    {
     "data": {
      "text/plain": [
       "Substrate(I1|I2|I3|A|B|C|D|O)"
      ]
     },
     "execution_count": 31,
     "metadata": {},
     "output_type": "execute_result"
    }
   ],
   "source": [
    "substrate_state = (0,1,0,0,1,0,1,1)\n",
    "substrate = nb.Substrate(wiki_units)\n",
    "substrate"
   ]
  },
  {
   "cell_type": "code",
   "execution_count": 32,
   "id": "bd72f458-5886-45bf-ba85-16a1dd6b1b39",
   "metadata": {},
   "outputs": [
    {
     "data": {
      "text/plain": [
       "\"Unit(type=Composite unit: ['biased_sigmoid'], label=I1, state=(0,))\""
      ]
     },
     "execution_count": 32,
     "metadata": {},
     "output_type": "execute_result"
    }
   ],
   "source": [
    "substrate.units[substrate_state][0].__repr__()"
   ]
  },
  {
   "cell_type": "code",
   "execution_count": 33,
   "id": "65a397b9-bca1-4135-96a5-61109afebceb",
   "metadata": {},
   "outputs": [
    {
     "name": "stdout",
     "output_type": "stream",
     "text": [
      "0.016038474798350695\n"
     ]
    },
    {
     "data": {
      "image/png": "[encoded data removed]",
      "text/plain": [
       "<Figure size 432x288 with 1 Axes>"
      ]
     },
     "metadata": {},
     "output_type": "display_data"
    }
   ],
   "source": [
    "state = (0,1,0,0,1,0,1,1)\n",
    "print(substrate.tpm[(state)][3])\n",
    "substrate.plot_model(state)"
   ]
  },
  {
   "cell_type": "code",
   "execution_count": 44,
   "id": "3f485b88-4e3d-4243-9015-d4240344c775",
   "metadata": {
    "tags": []
   },
   "outputs": [],
   "source": [
    "import string"
   ]
  },
  {
   "cell_type": "code",
   "execution_count": null,
   "id": "1df61b1f-133b-4b17-9177-576479e7afbe",
   "metadata": {},
   "outputs": [],
   "source": []
  },
  {
   "cell_type": "markdown",
   "id": "c518cfcf-6082-483c-8b4c-0080c29e6d9d",
   "metadata": {},
   "source": [
    "# create functionality to create units (and substrate) from weight matrix"
   ]
  },
  {
   "cell_type": "code",
   "execution_count": 72,
   "id": "0cf45d9a-a9ca-469d-b3a5-d7e6ca3f04db",
   "metadata": {
    "tags": []
   },
   "outputs": [
    {
     "ename": "NameError",
     "evalue": "name 'standard_labels' is not defined",
     "output_type": "error",
     "traceback": [
      "\u001b[0;31m---------------------------------------------------------------------------\u001b[0m",
      "\u001b[0;31mNameError\u001b[0m                                 Traceback (most recent call last)",
      "Cell \u001b[0;32mIn[72], line 1\u001b[0m\n\u001b[0;32m----> 1\u001b[0m \u001b[43mnb\u001b[49m\u001b[38;5;241;43m.\u001b[39;49m\u001b[43mBuild\u001b[49m\u001b[38;5;241;43m.\u001b[39;49m\u001b[43munits_from_weights\u001b[49m\u001b[43m(\u001b[49m\u001b[43mweights\u001b[49m\u001b[43m,\u001b[49m\u001b[43m \u001b[49m\u001b[43munit_types\u001b[49m\u001b[43m,\u001b[49m\u001b[43m \u001b[49m\u001b[43munit_params\u001b[49m\u001b[43m)\u001b[49m\n",
      "File \u001b[0;32m/Volumes/scratch/wmayner/projects/matching/data/pyphi_units/units/network_builder.py:161\u001b[0m, in \u001b[0;36mBuild.units_from_weights\u001b[0;34m(weights, unit_types, unit_params, labels, indices)\u001b[0m\n\u001b[1;32m    158\u001b[0m N \u001b[38;5;241m=\u001b[39m \u001b[38;5;28mlen\u001b[39m(weights[\u001b[38;5;241m0\u001b[39m])\n\u001b[1;32m    160\u001b[0m \u001b[38;5;28;01mif\u001b[39;00m labels\u001b[38;5;241m==\u001b[39m\u001b[38;5;28;01mNone\u001b[39;00m:\n\u001b[0;32m--> 161\u001b[0m     labels \u001b[38;5;241m=\u001b[39m \u001b[43mstandard_labels\u001b[49m[:N]\n\u001b[1;32m    162\u001b[0m \u001b[38;5;28;01mif\u001b[39;00m indices\u001b[38;5;241m==\u001b[39m\u001b[38;5;28;01mNone\u001b[39;00m:\n\u001b[1;32m    163\u001b[0m     indices \u001b[38;5;241m=\u001b[39m \u001b[38;5;28mtuple\u001b[39m(\u001b[38;5;28mrange\u001b[39m(N))\n",
      "\u001b[0;31mNameError\u001b[0m: name 'standard_labels' is not defined"
     ]
    }
   ],
   "source": [
    "nb.Build.units_from_weights(weights, unit_types, unit_params)"
   ]
  },
  {
   "cell_type": "code",
   "execution_count": 69,
   "id": "36857045-f72d-4626-8f96-49881f413de7",
   "metadata": {
    "tags": []
   },
   "outputs": [],
   "source": [
    "# define weight matrix\n",
    "s = 0.3\n",
    "l = 0.35\n",
    "weights = np.array([\n",
    "    [s, l, 0, l],\n",
    "    [l, s, l, 0],\n",
    "    [0, l, s, l],\n",
    "    [l, 0, l, s]\n",
    "])\n",
    "\n",
    "# set unit types\n",
    "unit_types = ['resonnator']*len(weights)\n",
    "\n",
    "# define unit parameters\n",
    "unit_params = [\n",
    "    dict(\n",
    "        input_weights=None,\n",
    "        determinism=1,\n",
    "        threshold=0.0,\n",
    "        floor=0.01,\n",
    "        ceiling=0.99,\n",
    "        weight_scale_mapping={(0, 0): 1.0, (1, 0): 0.5, (0, 1): 0.75, (1, 1): 1.5},\n",
    ")]*len(weights)\n",
    "\n",
    "#create units\n",
    "units = units_from_weights(weights, unit_types, unit_params, labels=None, indices=None)\n",
    "\n",
    "# create substrate\n",
    "substrate = nb.Substrate(units)\n",
    "\n",
    "# get subsystem\n",
    "nodes = (1,2,3)\n",
    "state = (0,)*len(substrate)\n",
    "subsystem = substrate.get_subsystem(state,nodes)"
   ]
  },
  {
   "cell_type": "code",
   "execution_count": 70,
   "id": "af785a78-bae8-4256-9544-eb0af38982af",
   "metadata": {
    "tags": []
   },
   "outputs": [
    {
     "data": {
      "text/plain": [
       "Subsystem(B, C, D)"
      ]
     },
     "execution_count": 70,
     "metadata": {},
     "output_type": "execute_result"
    }
   ],
   "source": [
    "subsystem"
   ]
  },
  {
   "cell_type": "code",
   "execution_count": null,
   "id": "fe35966d-b3e7-40dc-818d-50ab29e154fb",
   "metadata": {},
   "outputs": [],
   "source": []
  },
  {
   "cell_type": "code",
   "execution_count": null,
   "id": "1868afdc-bf9b-486d-8ff3-91c25705d66b",
   "metadata": {},
   "outputs": [],
   "source": []
  },
  {
   "cell_type": "code",
   "execution_count": null,
   "id": "7dfb943d-a4c5-4575-8e74-43795244345c",
   "metadata": {},
   "outputs": [],
   "source": []
  },
  {
   "cell_type": "code",
   "execution_count": 40,
   "id": "609c9b1c-bf56-4da4-9cec-95367ba51ef0",
   "metadata": {
    "tags": []
   },
   "outputs": [
    {
     "name": "stdout",
     "output_type": "stream",
     "text": [
      "(0, 1, 3)\n",
      "(0.3, 0.35, 0.35)\n",
      "(0, 1, 2)\n",
      "(0.35, 0.3, 0.35)\n",
      "(1, 2, 3)\n",
      "(0.35, 0.3, 0.35)\n",
      "(0, 2, 3)\n",
      "(0.35, 0.35, 0.3)\n"
     ]
    }
   ],
   "source": [
    "units_from_weights(weights, unit_types, unit_params=None)"
   ]
  },
  {
   "cell_type": "code",
   "execution_count": 29,
   "id": "2308f9f5-9e08-493c-ab29-186f13fb2d1e",
   "metadata": {
    "tags": []
   },
   "outputs": [],
   "source": []
  },
  {
   "cell_type": "code",
   "execution_count": 6,
   "id": "e3a88c1c-a607-46ee-b5a9-abff857d1d3a",
   "metadata": {
    "tags": []
   },
   "outputs": [],
   "source": [
    "\n",
    "\n",
    "params = [\n",
    "    dict(\n",
    "        input_weights=None\n",
    "        determinism=1,\n",
    "        threshold=0.0,\n",
    "        floor=0.01,\n",
    "        ceiling=0.99,\n",
    "        weight_scale_mapping={(0, 0): 1.0, (1, 0): 0.5, (0, 1): 0.75, (1, 1): 1.5},\n",
    ")]*N\n",
    "\n"
   ]
  },
  {
   "cell_type": "code",
   "execution_count": 22,
   "id": "a1eebd8c-26eb-4286-ab8b-d1fb66d6bfb9",
   "metadata": {
    "tags": []
   },
   "outputs": [],
   "source": []
  },
  {
   "cell_type": "code",
   "execution_count": null,
   "id": "824d7375-0e3f-46dc-806e-40554aee885f",
   "metadata": {},
   "outputs": [],
   "source": []
  },
  {
   "cell_type": "code",
   "execution_count": null,
   "id": "8de60e2d-288e-4915-a811-d3121b3d9b94",
   "metadata": {},
   "outputs": [],
   "source": []
  },
  {
   "cell_type": "code",
   "execution_count": null,
   "id": "fa3fced2-ac27-4e91-a309-13c560f2e97f",
   "metadata": {},
   "outputs": [],
   "source": []
  },
  {
   "cell_type": "code",
   "execution_count": null,
   "id": "80835d09-e03d-4260-a208-48795cbb365b",
   "metadata": {},
   "outputs": [],
   "source": []
  },
  {
   "cell_type": "code",
   "execution_count": 9,
   "id": "eb746587-ee17-4352-927c-37c89fbd6567",
   "metadata": {
    "tags": []
   },
   "outputs": [],
   "source": [
    "# parameters for sigmoidal subunit\n",
    "V1_determinism = 1\n",
    "V1_threshold = 0.0\n",
    "V1_floor = 0.01\n",
    "V1_ceiling = 0.99\n",
    "V1_weight_scale_mapping = {\n",
    "    (0, 0): 1.0,\n",
    "    (1, 0): 0.5,\n",
    "    (0, 1): 0.75,\n",
    "    (1, 1): 1.5\n",
    "}\n",
    "\n",
    "self_loop = 0.30\n",
    "lateral = 0.35\n",
    "V1_weights = [\n",
    "    lateral,  # near neighbor\n",
    "    self_loop,  # self\n",
    "    lateral,  # near neighbor\n",
    "]\n",
    "\n",
    "V1_sigmoid = \n"
   ]
  },
  {
   "cell_type": "code",
   "execution_count": 15,
   "id": "99adfec0-fc39-43c2-85d1-db872107072e",
   "metadata": {
    "tags": []
   },
   "outputs": [],
   "source": [
    "index = 1\n",
    "label = \"B\"\n",
    "inputs = (0,1,2)\n",
    "\n"
   ]
  },
  {
   "cell_type": "code",
   "execution_count": 43,
   "id": "1c2f47c2-b010-478d-90fa-d595766ce9ae",
   "metadata": {
    "tags": []
   },
   "outputs": [],
   "source": [
    "\n",
    "V1_sigmoid = dict(\n",
    "    mechanism=\"resonnator\",  #\n",
    "    params=dict(\n",
    "        input_weights=V1_weights,\n",
    "        determinism=V1_determinism,\n",
    "        threshold=V1_threshold,\n",
    "        weight_scale_mapping=V1_weight_scale_mapping,\n",
    "        floor=V1_floor,\n",
    "        ceiling=V1_ceiling,\n",
    "    ),\n",
    ")\n",
    "\n",
    "# parameters for mismatch detector subunit# parameters for sigmoidal subunit\n",
    "V1_mm_floor = 0.01\n",
    "V1_mm_ceiling = 0.99\n",
    "V1_input = dict(\n",
    "    mechanism=\"mismatch_corrector\",\n",
    "    params=dict(\n",
    "        floor=V1_mm_floor,\n",
    "        ceiling=V1_mm_ceiling,\n",
    "    ),\n",
    ")\n"
   ]
  },
  {
   "cell_type": "code",
   "execution_count": 44,
   "id": "bb3242a7-f518-4894-a4b5-9d04b5e33a56",
   "metadata": {
    "tags": []
   },
   "outputs": [
    {
     "name": "stdout",
     "output_type": "stream",
     "text": [
      "Unit A missing bias params, defaulting to 0.0\n"
     ]
    }
   ],
   "source": [
    "\n",
    "# combine the mechanisms into composite units\n",
    "substrate_state = (0,)*N\n",
    "V1_sigmoid_inputs = (15,8,9,10,11,12,13,14,15,8)\n",
    "# feedback amplification\n",
    "feedback = (N-1,)\n",
    "\n",
    "V1 = [\n",
    "    nb.CompositeUnit(\n",
    "        index=M + i,\n",
    "        label=labels[M + i],\n",
    "        inputs=[V1_sigmoid_inputs[i : i + 3] + feedback, (i,)],  #\n",
    "        params=[V1_sigmoid, V1_input],  # FB_sigmoid\n",
    "        substrate_state=substrate_state,\n",
    "        substrate_indices=tuple(range(N)),\n",
    "        mechanism_combination=\"selective\",\n",
    "        modulation=[None, None],  # None\n",
    "        all_tpm=True\n",
    "    ).Unit\n",
    "    for i in range(len(layer_1))\n",
    "] "
   ]
  },
  {
   "cell_type": "code",
   "execution_count": null,
   "id": "f4ac6037-6a30-42ae-b290-b90acd90471a",
   "metadata": {},
   "outputs": [],
   "source": []
  },
  {
   "cell_type": "code",
   "execution_count": null,
   "id": "efdcb495-7a19-4d00-b4eb-064b2bc6b0d1",
   "metadata": {},
   "outputs": [],
   "source": []
  },
  {
   "cell_type": "code",
   "execution_count": null,
   "id": "0a55e0be-9f4b-4f15-b3ad-efb58e1d689a",
   "metadata": {},
   "outputs": [],
   "source": []
  },
  {
   "cell_type": "code",
   "execution_count": null,
   "id": "ad1fa082-f719-4732-9e54-9d568aec38a6",
   "metadata": {},
   "outputs": [],
   "source": []
  },
  {
   "cell_type": "code",
   "execution_count": null,
   "id": "7068046c-8c6f-43d0-a737-53d5847f4baf",
   "metadata": {},
   "outputs": [],
   "source": []
  },
  {
   "cell_type": "code",
   "execution_count": null,
   "id": "6d497369-be3c-44f1-9ad8-e86915263db7",
   "metadata": {},
   "outputs": [],
   "source": []
  },
  {
   "cell_type": "code",
   "execution_count": null,
   "id": "32da98f6-f89b-4e0c-a4a6-36c83c5536db",
   "metadata": {},
   "outputs": [],
   "source": []
  },
  {
   "cell_type": "code",
   "execution_count": null,
   "id": "2c447ea1-33d7-4341-9f07-09d3e03bef96",
   "metadata": {},
   "outputs": [],
   "source": []
  },
  {
   "cell_type": "code",
   "execution_count": null,
   "id": "f132fad1-faa0-427b-9527-a485b4ad4845",
   "metadata": {},
   "outputs": [],
   "source": []
  },
  {
   "cell_type": "code",
   "execution_count": null,
   "id": "718ecb2b-267c-4ad7-b046-a62d9258c51f",
   "metadata": {},
   "outputs": [],
   "source": []
  },
  {
   "cell_type": "code",
   "execution_count": null,
   "id": "1b5d4132-9802-4f63-87bc-9ff52ad510a6",
   "metadata": {},
   "outputs": [],
   "source": []
  },
  {
   "cell_type": "code",
   "execution_count": null,
   "id": "4f569314-dcc5-4051-ac64-60c1411690e7",
   "metadata": {},
   "outputs": [],
   "source": []
  },
  {
   "cell_type": "code",
   "execution_count": null,
   "id": "beab9da8-5810-4770-aa02-c6007b480dd1",
   "metadata": {},
   "outputs": [],
   "source": []
  },
  {
   "cell_type": "code",
   "execution_count": null,
   "id": "8afaf588-ed21-45d4-92f3-97eb9da66818",
   "metadata": {},
   "outputs": [],
   "source": []
  },
  {
   "cell_type": "code",
   "execution_count": null,
   "id": "7670831a-a8d1-43a2-a35e-4fbce0be9de6",
   "metadata": {},
   "outputs": [],
   "source": []
  },
  {
   "cell_type": "code",
   "execution_count": null,
   "id": "e9e8208e-ea16-41f0-9596-7ceb7d732a70",
   "metadata": {},
   "outputs": [],
   "source": []
  },
  {
   "cell_type": "code",
   "execution_count": 34,
   "id": "b91b12ba-3103-4e8a-a582-cee367d0e7a1",
   "metadata": {},
   "outputs": [
    {
     "name": "stdout",
     "output_type": "stream",
     "text": [
      "0.016038474798350695\n"
     ]
    }
   ],
   "source": [
    "\n",
    "print(substrate.tpm[(state)][3])"
   ]
  },
  {
   "cell_type": "code",
   "execution_count": 35,
   "id": "faa59fdb-05a0-47ab-9971-720025488a05",
   "metadata": {},
   "outputs": [
    {
     "name": "stdout",
     "output_type": "stream",
     "text": [
      "0.9901999992716967\n"
     ]
    }
   ],
   "source": [
    "\n",
    "print(substrate.tpm[(state)][4])"
   ]
  },
  {
   "cell_type": "code",
   "execution_count": 27,
   "id": "fba6e6a3-747b-433c-9c6a-300a6e5844c7",
   "metadata": {},
   "outputs": [
    {
     "data": {
      "text/plain": [
       "(0, 0, 0, 0)"
      ]
     },
     "execution_count": 27,
     "metadata": {},
     "output_type": "execute_result"
    }
   ],
   "source": [
    "wiki_units[4].get_substate(wiki_units[4].inputs)"
   ]
  },
  {
   "cell_type": "code",
   "execution_count": 38,
   "id": "890a023e-6a6f-4b06-8250-e86ad34d7c27",
   "metadata": {},
   "outputs": [
    {
     "data": {
      "text/plain": [
       "(0, 0, 0, 0, 0, 0, 0)"
      ]
     },
     "execution_count": 38,
     "metadata": {},
     "output_type": "execute_result"
    }
   ],
   "source": [
    "wiki_units[4].substrate_state"
   ]
  },
  {
   "cell_type": "code",
   "execution_count": 36,
   "id": "77d14edd-a58c-4bc6-97ed-b3e75220adc5",
   "metadata": {},
   "outputs": [
    {
     "data": {
      "text/plain": [
       "array([0.02012747])"
      ]
     },
     "execution_count": 36,
     "metadata": {},
     "output_type": "execute_result"
    }
   ],
   "source": [
    "wiki_units[4].tpm[]\n"
   ]
  },
  {
   "cell_type": "code",
   "execution_count": 110,
   "id": "43e9e94a-6f1c-42a9-a092-97ed4988a8d7",
   "metadata": {},
   "outputs": [],
   "source": [
    "def evaluate_system_partition(subsystem, sys_effect_state, sys_cause_state, partition):\n",
    "    n_nodes = len(subsystem)\n",
    "    all_nodes = subsystem.node_indices\n",
    "\n",
    "    if len(partition) == 1:\n",
    "        cut = pyphi.partition.complete_partition(tuple(all_nodes), tuple(all_nodes))\n",
    "        max_cut_info = n_nodes * n_nodes\n",
    "    else:\n",
    "        cut = pyphi.partition.KPartition(\n",
    "            *[pyphi.partition.Part(tuple(part), tuple(part)) for part in partition]\n",
    "        )\n",
    "        max_cut_info = sum([len(part) * (n_nodes - len(part)) for part in partition])\n",
    "\n",
    "    effect_info, _ = subsystem.evaluate_partition(\n",
    "        pyphi.direction.Direction.EFFECT,\n",
    "        mechanism=all_nodes,\n",
    "        purview=all_nodes,\n",
    "        partition=cut,\n",
    "        state=sys_effect_state,\n",
    "    )\n",
    "    cause_info, _ = subsystem.evaluate_partition(\n",
    "        pyphi.direction.Direction.CAUSE,\n",
    "        mechanism=all_nodes,\n",
    "        purview=all_nodes,\n",
    "        partition=cut,\n",
    "        state=sys_cause_state,\n",
    "    )\n",
    "\n",
    "    cut_info = min(effect_info, cause_info)\n",
    "\n",
    "    return cut_info, cut_info / max_cut_info\n",
    "\n",
    "\n",
    "def min_vertical_cut(subsystem, normalization=False):\n",
    "    n_nodes = len(subsystem)\n",
    "    all_nodes = subsystem.node_indices\n",
    "    \n",
    "    sys_effect_state = subsystem.find_maximal_state_under_complete_partition(\n",
    "        pyphi.direction.Direction.EFFECT,\n",
    "        mechanism=all_nodes,\n",
    "        purview=all_nodes,\n",
    "    )[0]\n",
    "\n",
    "    sys_cause_state = subsystem.find_maximal_state_under_complete_partition(\n",
    "        pyphi.direction.Direction.CAUSE,\n",
    "        mechanism=all_nodes,\n",
    "        purview=all_nodes,\n",
    "    )[0]\n",
    "    min_ii = n_nodes * n_nodes\n",
    "    min_cut = None\n",
    "    min_normalized_ii = 1.0\n",
    "\n",
    "    for partition in pyphi.partition.partitions(all_nodes):\n",
    "        cut_info, normalized_cut_info = evaluate_system_partition(\n",
    "            subsystem, sys_effect_state, sys_cause_state, partition\n",
    "        )\n",
    "\n",
    "        if normalization:\n",
    "            if normalized_cut_info <= min_normalized_ii:\n",
    "                min_ii = cut_info\n",
    "                min_cut = partition\n",
    "                min_normalized_ii = normalized_cut_info\n",
    "        else:\n",
    "            if cut_info <= min_ii:\n",
    "                min_ii = cut_info\n",
    "                min_cut = partition\n",
    "                min_normalized_ii = min_ii\n",
    "\n",
    "    return min_ii, min_cut, sys_effect_state, sys_cause_state"
   ]
  },
  {
   "cell_type": "code",
   "execution_count": 115,
   "id": "8cce19b0-47ce-490b-b8a2-6aaf7e31800d",
   "metadata": {},
   "outputs": [
    {
     "name": "stderr",
     "output_type": "stream",
     "text": [
      "\n",
      "  0%|                                                                                           | 0/255 [00:00<?, ?it/s]\u001b[A\n",
      " 23%|██████████████████▋                                                              | 59/255 [00:00<00:00, 576.06it/s]\u001b[A\n",
      " 46%|████████████████████████████████████▋                                           | 117/255 [00:00<00:00, 332.59it/s]\u001b[A\n",
      " 61%|████████████████████████████████████████████████▉                               | 156/255 [00:00<00:00, 263.95it/s]\u001b[A\n",
      " 73%|██████████████████████████████████████████████████████████▎                     | 186/255 [00:00<00:00, 168.68it/s]\u001b[A\n",
      " 82%|█████████████████████████████████████████████████████████████████▎              | 208/255 [00:01<00:00, 132.84it/s]\u001b[A\n",
      " 88%|███████████████████████████████████████████████████████████████████████▍         | 225/255 [00:01<00:00, 95.88it/s]\u001b[A\n",
      " 93%|███████████████████████████████████████████████████████████████████████████▌     | 238/255 [00:01<00:00, 67.13it/s]\u001b[A\n",
      " 97%|██████████████████████████████████████████████████████████████████████████████▊  | 248/255 [00:02<00:00, 46.85it/s]\u001b[A\n",
      "100%|█████████████████████████████████████████████████████████████████████████████████| 255/255 [00:03<00:00, 66.87it/s]\u001b[A\n"
     ]
    }
   ],
   "source": [
    "from tqdm import tqdm \n",
    "all_ii = {\n",
    "    nodes: min_vertical_cut(substrate.get_subsystem(state, nodes), normalization=False)\n",
    "    for nodes in tqdm(list(pyphi.utils.powerset(substrate.node_indices, nonempty=True)))\n",
    "}"
   ]
  },
  {
   "cell_type": "code",
   "execution_count": 116,
   "id": "70f5bb30-63ed-46e9-9178-cefe61aacfa1",
   "metadata": {},
   "outputs": [],
   "source": [
    "sorted_ii = dict(sorted(all_ii.items(), key=lambda item: item[1][0], reverse=True))"
   ]
  },
  {
   "cell_type": "code",
   "execution_count": 117,
   "id": "17642cbc-02ce-4e0c-ac8a-19c197566bd9",
   "metadata": {},
   "outputs": [
    {
     "data": {
      "text/plain": [
       "(0.0023381424096, [[3, 4, 5], [6]], (0, 0, 0, 0), (1, 1, 1, 0))"
      ]
     },
     "execution_count": 117,
     "metadata": {},
     "output_type": "execute_result"
    }
   ],
   "source": [
    "sorted_ii[(3,4,5,6)]"
   ]
  },
  {
   "cell_type": "code",
   "execution_count": 118,
   "id": "c48f89d6-ff23-4173-ad28-57936c91af13",
   "metadata": {
    "collapsed": true,
    "jupyter": {
     "outputs_hidden": true
    },
    "tags": []
   },
   "outputs": [
    {
     "data": {
      "text/plain": [
       "{(6, 7): (0.4528401774841, [[6], [7]], (0, 1), (1, 0)),\n",
       " (0,): (0.4257587637477, [[0]], (0,), (0,)),\n",
       " (2,): (0.4257587637477, [[2]], (0,), (0,)),\n",
       " (1,): (0.4206146326481, [[1]], (1,), (1,)),\n",
       " (3, 4): (0.3933625850598, [[3], [4]], (0, 0), (1, 0)),\n",
       " (3, 5): (0.313915666282, [[3], [5]], (0, 0), (0, 0)),\n",
       " (3,): (0.2659788792368, [[3]], (0,), (0,)),\n",
       " (5,): (0.1997138190024, [[5]], (0,), (0,)),\n",
       " (4, 5): (0.184446880631, [[4], [5]], (0, 0), (0, 1)),\n",
       " (1, 4): (0.1576163684811, [[1], [4]], (1, 0), (1, 1)),\n",
       " (1, 3, 4): (0.1261094832399, [[1], [3, 4]], (1, 0, 0), (1, 1, 1)),\n",
       " (2, 5): (0.1248159777176, [[2], [5]], (0, 0), (0, 0)),\n",
       " (2, 4, 5): (0.0892686236237, [[2], [4, 5]], (0, 0, 0), (0, 0, 1)),\n",
       " (0, 3, 4): (0.0794794011649, [[0], [3, 4]], (0, 0, 0), (0, 1, 0)),\n",
       " (0, 1, 3, 4): (0.0782678477069, [[0], [1, 3, 4]], (0, 1, 0, 0), (0, 1, 1, 1)),\n",
       " (0, 3): (0.0702430880128, [[0], [3]], (0, 0), (0, 0)),\n",
       " (2, 3, 5): (0.0691544567285, [[2], [3, 5]], (0, 0, 0), (0, 0, 0)),\n",
       " (3, 4, 5): (0.0562394336323, [[3, 4], [5]], (0, 0, 0), (1, 0, 1)),\n",
       " (1, 3, 4, 5): (0.0522772553937, [[1, 3, 4], [5]], (1, 0, 0, 0), (1, 1, 1, 1)),\n",
       " (0, 3, 5): (0.0364561943001, [[0], [3, 5]], (0, 0, 0), (0, 0, 0)),\n",
       " (1, 4, 5): (0.0248090856165, [[1], [4, 5]], (1, 0, 0), (1, 1, 1)),\n",
       " (1, 2, 4, 5): (0.0210037165765, [[1], [2, 4, 5]], (1, 0, 0, 0), (1, 0, 1, 1)),\n",
       " (0, 2, 3, 5): (0.0205576823323, [[0], [2, 3, 5]], (0, 0, 0, 0), (0, 0, 0, 0)),\n",
       " (0, 3, 4, 5): (0.0201902288223, [[0, 3], [4, 5]], (0, 0, 0, 0), (0, 0, 0, 1)),\n",
       " (2, 3, 4, 5): (0.0080737640747, [[3, 4], [2, 5]], (0, 0, 0, 0), (0, 1, 0, 0)),\n",
       " (0, 1, 2, 3, 4, 5): (0.0071601090771,\n",
       "  [[0], [1, 3, 4], [2, 5]],\n",
       "  (0, 1, 0, 0, 0, 0),\n",
       "  (0, 1, 0, 1, 1, 0)),\n",
       " (1, 2, 3, 4, 5): (0.0063034728213,\n",
       "  [[1, 3, 4], [2, 5]],\n",
       "  (1, 0, 0, 0, 0),\n",
       "  (1, 0, 1, 1, 0)),\n",
       " (0, 1, 3, 4, 5): (0.0047346885357,\n",
       "  [[1], [0, 3, 4, 5]],\n",
       "  (0, 1, 0, 0, 0),\n",
       "  (0, 1, 0, 1, 1)),\n",
       " (0, 2, 3, 4, 5): (0.0046749658503,\n",
       "  [[0], [3, 4], [2, 5]],\n",
       "  (0, 0, 0, 0, 0),\n",
       "  (0, 0, 1, 0, 0)),\n",
       " (3, 6): (0.0045016682141, [[3], [6]], (0, 0), (0, 0)),\n",
       " (3, 5, 6): (0.0044294683218, [[3, 5], [6]], (0, 0, 0), (0, 0, 0)),\n",
       " (0, 3, 5, 6): (0.0043684352611, [[0, 3, 5], [6]], (0, 0, 0, 0), (0, 0, 0, 0)),\n",
       " (0, 2, 3, 5, 6): (0.0043082431669,\n",
       "  [[0, 2, 3, 5], [6]],\n",
       "  (0, 0, 0, 0, 0),\n",
       "  (0, 0, 0, 0, 0)),\n",
       " (0, 3, 6): (0.0037055441463, [[0], [3], [6]], (0, 0, 0), (0, 0, 0)),\n",
       " (2, 3, 5, 6): (0.0031107076929,\n",
       "  [[2], [3, 5], [6]],\n",
       "  (0, 0, 0, 0),\n",
       "  (0, 0, 0, 0)),\n",
       " (3, 4, 6): (0.0026079388808, [[3, 4], [6]], (0, 0, 0), (1, 1, 0)),\n",
       " (1, 3, 4, 6): (0.0025903423539, [[1, 3, 4], [6]], (1, 0, 0, 0), (1, 1, 1, 0)),\n",
       " (0, 3, 4, 6): (0.0025720044344, [[0, 3, 4], [6]], (0, 0, 0, 0), (0, 1, 1, 0)),\n",
       " (0, 1, 3, 4, 6): (0.0025546503677,\n",
       "  [[0, 1, 3, 4], [6]],\n",
       "  (0, 1, 0, 0, 0),\n",
       "  (0, 1, 1, 1, 0)),\n",
       " (3, 4, 5, 6): (0.0023381424096, [[3, 4, 5], [6]], (0, 0, 0, 0), (1, 1, 1, 0)),\n",
       " (1, 3, 4, 5, 6): (0.0023223662784,\n",
       "  [[1, 3, 4, 5], [6]],\n",
       "  (1, 0, 0, 0, 0),\n",
       "  (1, 1, 1, 1, 0)),\n",
       " (0, 3, 4, 5, 6): (0.0023059254532,\n",
       "  [[0, 3, 4, 5], [6]],\n",
       "  (0, 0, 0, 0, 0),\n",
       "  (0, 1, 1, 1, 0)),\n",
       " (0, 1, 3, 4, 5, 6): (0.0022903666993,\n",
       "  [[0, 1, 3, 4, 5], [6]],\n",
       "  (0, 1, 0, 0, 0, 0),\n",
       "  (0, 1, 1, 1, 1, 0)),\n",
       " (3, 6, 7): (0.0022285091634, [[3], [6, 7]], (0, 0, 1), (0, 1, 0)),\n",
       " (0, 3, 6, 7): (0.0021978028291, [[0, 3], [6, 7]], (0, 0, 0, 1), (0, 0, 1, 0)),\n",
       " (3, 5, 6, 7): (0.0021927672753, [[3, 5], [6, 7]], (0, 0, 0, 1), (0, 0, 1, 0)),\n",
       " (0, 3, 5, 6, 7): (0.0021625534238,\n",
       "  [[0, 3, 5], [6, 7]],\n",
       "  (0, 0, 0, 0, 1),\n",
       "  (0, 0, 0, 1, 0)),\n",
       " (2, 3, 5, 6, 7): (0.0021625534238,\n",
       "  [[2, 3, 5], [6, 7]],\n",
       "  (0, 0, 0, 0, 1),\n",
       "  (0, 0, 0, 1, 0)),\n",
       " (0, 2, 3, 5, 6, 7): (0.0021327558849,\n",
       "  [[0, 2, 3, 5], [6, 7]],\n",
       "  (0, 0, 0, 0, 0, 1),\n",
       "  (0, 0, 0, 0, 1, 0)),\n",
       " (4, 5, 6): (0.0018198250756, [[4, 5], [6]], (0, 0, 0), (0, 1, 0)),\n",
       " (2, 4, 5, 6): (0.0017947499455, [[2, 4, 5], [6]], (0, 0, 0, 0), (0, 0, 1, 0)),\n",
       " (4, 6): (0.0014332452884, [[4], [6]], (0, 1), (1, 0)),\n",
       " (1, 4, 6): (0.001370645419, [[1, 4], [6]], (1, 0, 0), (1, 1, 0)),\n",
       " (3, 4, 6, 7): (0.0012910359931, [[3, 4], [6, 7]], (0, 0, 0, 1), (1, 1, 1, 0)),\n",
       " (1, 3, 4, 6, 7): (0.0012823249954,\n",
       "  [[1, 3, 4], [6, 7]],\n",
       "  (1, 0, 0, 0, 1),\n",
       "  (1, 1, 1, 1, 0)),\n",
       " (0, 3, 4, 6, 7): (0.0012732469782,\n",
       "  [[0, 3, 4], [6, 7]],\n",
       "  (0, 0, 0, 0, 1),\n",
       "  (0, 1, 1, 1, 0)),\n",
       " (0, 1, 3, 4, 6, 7): (0.0012646560082,\n",
       "  [[0, 1, 3, 4], [6, 7]],\n",
       "  (0, 1, 0, 0, 0, 1),\n",
       "  (0, 1, 1, 1, 1, 0)),\n",
       " (1, 4, 5, 6): (0.0012429707586, [[1], [4, 5, 6]], (1, 0, 0, 0), (1, 1, 1, 0)),\n",
       " (3, 4, 5, 6, 7): (0.0011574757484,\n",
       "  [[3, 4, 5], [6, 7]],\n",
       "  (0, 0, 0, 0, 1),\n",
       "  (1, 1, 1, 1, 0)),\n",
       " (1, 3, 4, 5, 6, 7): (0.0011496659207,\n",
       "  [[1, 3, 4, 5], [6, 7]],\n",
       "  (1, 0, 0, 0, 0, 1),\n",
       "  (1, 1, 1, 1, 1, 0)),\n",
       " (0, 3, 4, 5, 6, 7): (0.0011415270425,\n",
       "  [[0, 3, 4, 5], [6, 7]],\n",
       "  (0, 0, 0, 0, 0, 1),\n",
       "  (0, 1, 1, 1, 1, 0)),\n",
       " (0, 1, 3, 4, 5, 6, 7): (0.0011338248254,\n",
       "  [[0, 1, 3, 4, 5], [6, 7]],\n",
       "  (0, 1, 0, 0, 0, 0, 1),\n",
       "  (0, 1, 1, 1, 1, 1, 0)),\n",
       " (1, 2, 3, 4, 5, 6): (0.001095183598,\n",
       "  [[2, 5], [1, 3, 4, 6]],\n",
       "  (1, 0, 0, 0, 0, 0),\n",
       "  (1, 0, 1, 1, 0, 0)),\n",
       " (1, 2, 3, 4, 5, 6, 7): (0.0010523951015,\n",
       "  [[2, 5], [1, 3, 4, 6, 7]],\n",
       "  (1, 0, 0, 0, 0, 0, 1),\n",
       "  (1, 0, 1, 1, 0, 1, 0)),\n",
       " (4, 5, 6, 7): (0.0009008875519, [[4, 5], [6, 7]], (0, 0, 0, 1), (0, 1, 1, 0)),\n",
       " (1, 4, 5, 6, 7): (0.0008948089999,\n",
       "  [[1, 4, 5], [6, 7]],\n",
       "  (1, 0, 0, 0, 1),\n",
       "  (1, 1, 1, 1, 0)),\n",
       " (2, 4, 5, 6, 7): (0.0008884743409,\n",
       "  [[2, 4, 5], [6, 7]],\n",
       "  (0, 0, 0, 0, 1),\n",
       "  (0, 0, 1, 1, 0)),\n",
       " (4, 6, 7): (0.0006831346316, [[4], [6, 7]], (0, 0, 1), (1, 1, 0)),\n",
       " (1, 4, 6, 7): (0.0006785253223, [[1, 4], [6, 7]], (1, 0, 0, 1), (1, 1, 1, 0)),\n",
       " (0, 2, 3, 4, 5, 6): (0.0006736124797,\n",
       "  [[0], [2, 5], [3, 4, 6]],\n",
       "  (0, 0, 0, 0, 0, 0),\n",
       "  (0, 0, 1, 1, 0, 0)),\n",
       " (0, 1, 2, 3, 4, 5, 6): (0.0006696987101,\n",
       "  [[0], [1, 2, 3, 4, 5, 6]],\n",
       "  (0, 1, 0, 0, 0, 0, 0),\n",
       "  (0, 1, 0, 1, 1, 0, 0)),\n",
       " (4,): (0.0006652405784, [[4]], (0,), (0,)),\n",
       " (0, 2, 3, 4, 5, 6, 7): (0.0006472946411,\n",
       "  [[0], [2, 5], [3, 4, 6, 7]],\n",
       "  (0, 0, 0, 0, 0, 0, 1),\n",
       "  (0, 0, 1, 1, 0, 1, 0)),\n",
       " (0, 1, 2, 3, 4, 5, 6, 7): (0.0006435337813,\n",
       "  [[0], [1, 2, 3, 4, 5, 6, 7]],\n",
       "  (0, 1, 0, 0, 0, 0, 0, 1),\n",
       "  (0, 1, 0, 1, 1, 0, 1, 0)),\n",
       " (2, 3, 4, 5, 6): (0.0005037449741,\n",
       "  [[2, 5], [3, 4, 6]],\n",
       "  (0, 0, 0, 0, 0),\n",
       "  (0, 1, 1, 0, 0)),\n",
       " (2, 3, 4, 5, 6, 7): (0.0004840638082,\n",
       "  [[2, 5], [3, 4, 6, 7]],\n",
       "  (0, 0, 0, 0, 0, 1),\n",
       "  (0, 1, 1, 0, 1, 0)),\n",
       " (1, 2, 4, 5, 6): (0.0003753622182,\n",
       "  [[1], [2, 4, 5, 6]],\n",
       "  (1, 0, 0, 0, 0),\n",
       "  (1, 0, 1, 1, 0)),\n",
       " (1, 2, 4, 5, 6, 7): (0.0003606969283,\n",
       "  [[1], [2, 4, 5, 6, 7]],\n",
       "  (1, 0, 0, 0, 0, 1),\n",
       "  (1, 0, 1, 1, 1, 0)),\n",
       " (6,): (0.0, [[6]], (0,), (0,)),\n",
       " (7,): (0.0, [[7]], (0,), (0,)),\n",
       " (0, 1): (0.0, [[0], [1]], (0, 1), (0, 1)),\n",
       " (0, 2): (0.0, [[0], [2]], (0, 0), (0, 0)),\n",
       " (0, 4): (0.0, [[0], [4]], (0, 0), (0, 0)),\n",
       " (0, 5): (0.0, [[0], [5]], (0, 0), (0, 0)),\n",
       " (0, 6): (0.0, [[0], [6]], (0, 0), (0, 0)),\n",
       " (0, 7): (0.0, [[0], [7]], (0, 0), (0, 0)),\n",
       " (1, 2): (0.0, [[1], [2]], (1, 0), (1, 0)),\n",
       " (1, 3): (0.0, [[1], [3]], (1, 0), (1, 0)),\n",
       " (1, 5): (0.0, [[1], [5]], (1, 0), (1, 0)),\n",
       " (1, 6): (0.0, [[1], [6]], (1, 0), (1, 0)),\n",
       " (1, 7): (0.0, [[1], [7]], (1, 0), (1, 0)),\n",
       " (2, 3): (0.0, [[2], [3]], (0, 0), (0, 0)),\n",
       " (2, 4): (0.0, [[2], [4]], (0, 0), (0, 0)),\n",
       " (2, 6): (0.0, [[2], [6]], (0, 0), (0, 0)),\n",
       " (2, 7): (0.0, [[2], [7]], (0, 0), (0, 0)),\n",
       " (3, 7): (0.0, [[3], [7]], (0, 0), (0, 0)),\n",
       " (4, 7): (0.0, [[4], [7]], (0, 0), (0, 0)),\n",
       " (5, 6): (0.0, [[5], [6]], (0, 0), (0, 0)),\n",
       " (5, 7): (0.0, [[5], [7]], (0, 0), (0, 0)),\n",
       " (0, 1, 2): (0.0, [[0], [1], [2]], (0, 1, 0), (0, 1, 0)),\n",
       " (0, 1, 3): (0.0, [[1], [0, 3]], (0, 1, 0), (0, 1, 0)),\n",
       " (0, 1, 4): (0.0, [[0], [1, 4]], (0, 1, 0), (0, 1, 1)),\n",
       " (0, 1, 5): (0.0, [[0], [1], [5]], (0, 1, 0), (0, 1, 0)),\n",
       " (0, 1, 6): (0.0, [[0], [1], [6]], (0, 1, 0), (0, 1, 0)),\n",
       " (0, 1, 7): (0.0, [[0], [1], [7]], (0, 1, 0), (0, 1, 0)),\n",
       " (0, 2, 3): (0.0, [[2], [0, 3]], (0, 0, 0), (0, 0, 0)),\n",
       " (0, 2, 4): (0.0, [[0], [2], [4]], (0, 0, 0), (0, 0, 0)),\n",
       " (0, 2, 5): (0.0, [[0], [2, 5]], (0, 0, 0), (0, 0, 0)),\n",
       " (0, 2, 6): (0.0, [[0], [2], [6]], (0, 0, 0), (0, 0, 0)),\n",
       " (0, 2, 7): (0.0, [[0], [2], [7]], (0, 0, 0), (0, 0, 0)),\n",
       " (0, 3, 7): (0.0, [[0, 3], [7]], (0, 0, 0), (0, 0, 0)),\n",
       " (0, 4, 5): (0.0, [[0], [4, 5]], (0, 0, 0), (0, 0, 1)),\n",
       " (0, 4, 6): (0.0, [[0], [4, 6]], (0, 0, 0), (0, 1, 0)),\n",
       " (0, 4, 7): (0.0, [[0], [4], [7]], (0, 0, 0), (0, 0, 0)),\n",
       " (0, 5, 6): (0.0, [[0], [5], [6]], (0, 0, 0), (0, 0, 0)),\n",
       " (0, 5, 7): (0.0, [[0], [5], [7]], (0, 0, 0), (0, 0, 0)),\n",
       " (0, 6, 7): (0.0, [[0], [6, 7]], (0, 0, 1), (0, 1, 0)),\n",
       " (1, 2, 3): (0.0, [[1], [2], [3]], (1, 0, 0), (1, 0, 0)),\n",
       " (1, 2, 4): (0.0, [[2], [1, 4]], (1, 0, 0), (1, 0, 1)),\n",
       " (1, 2, 5): (0.0, [[1], [2, 5]], (1, 0, 0), (1, 0, 0)),\n",
       " (1, 2, 6): (0.0, [[1], [2], [6]], (1, 0, 0), (1, 0, 0)),\n",
       " (1, 2, 7): (0.0, [[1], [2], [7]], (1, 0, 0), (1, 0, 0)),\n",
       " (1, 3, 5): (0.0, [[1], [3, 5]], (1, 0, 0), (1, 0, 0)),\n",
       " (1, 3, 6): (0.0, [[1], [3, 6]], (1, 0, 0), (1, 0, 0)),\n",
       " (1, 3, 7): (0.0, [[1], [3], [7]], (1, 0, 0), (1, 0, 0)),\n",
       " (1, 4, 7): (0.0, [[1, 4], [7]], (1, 0, 0), (1, 1, 0)),\n",
       " (1, 5, 6): (0.0, [[1], [5], [6]], (1, 0, 0), (1, 0, 0)),\n",
       " (1, 5, 7): (0.0, [[1], [5], [7]], (1, 0, 0), (1, 0, 0)),\n",
       " (1, 6, 7): (0.0, [[1], [6, 7]], (1, 0, 1), (1, 1, 0)),\n",
       " (2, 3, 4): (0.0, [[2], [3, 4]], (0, 0, 0), (0, 1, 0)),\n",
       " (2, 3, 6): (0.0, [[2], [3, 6]], (0, 0, 0), (0, 0, 0)),\n",
       " (2, 3, 7): (0.0, [[2], [3], [7]], (0, 0, 0), (0, 0, 0)),\n",
       " (2, 4, 6): (0.0, [[2], [4, 6]], (0, 0, 0), (0, 1, 0)),\n",
       " (2, 4, 7): (0.0, [[2], [4], [7]], (0, 0, 0), (0, 0, 0)),\n",
       " (2, 5, 6): (0.0, [[2, 5], [6]], (0, 0, 0), (0, 0, 0)),\n",
       " (2, 5, 7): (0.0, [[2, 5], [7]], (0, 0, 0), (0, 0, 0)),\n",
       " (2, 6, 7): (0.0, [[2], [6, 7]], (0, 0, 1), (0, 1, 0)),\n",
       " (3, 4, 7): (0.0, [[3, 4], [7]], (0, 0, 0), (1, 0, 0)),\n",
       " (3, 5, 7): (0.0, [[3, 5], [7]], (0, 0, 0), (0, 0, 0)),\n",
       " (4, 5, 7): (0.0, [[4, 5], [7]], (0, 0, 0), (0, 1, 0)),\n",
       " (5, 6, 7): (0.0, [[5], [6, 7]], (0, 0, 1), (0, 1, 0)),\n",
       " (0, 1, 2, 3): (0.0, [[1], [2], [0, 3]], (0, 1, 0, 0), (0, 1, 0, 0)),\n",
       " (0, 1, 2, 4): (0.0, [[0], [2], [1, 4]], (0, 1, 0, 0), (0, 1, 0, 1)),\n",
       " (0, 1, 2, 5): (0.0, [[0], [1], [2, 5]], (0, 1, 0, 0), (0, 1, 0, 0)),\n",
       " (0, 1, 2, 6): (0.0, [[0], [1], [2], [6]], (0, 1, 0, 0), (0, 1, 0, 0)),\n",
       " (0, 1, 2, 7): (0.0, [[0], [1], [2], [7]], (0, 1, 0, 0), (0, 1, 0, 0)),\n",
       " (0, 1, 3, 5): (0.0, [[1], [0, 3, 5]], (0, 1, 0, 0), (0, 1, 0, 0)),\n",
       " (0, 1, 3, 6): (0.0, [[1], [0, 3, 6]], (0, 1, 0, 0), (0, 1, 0, 0)),\n",
       " (0, 1, 3, 7): (0.0, [[1], [0, 3], [7]], (0, 1, 0, 0), (0, 1, 0, 0)),\n",
       " (0, 1, 4, 5): (0.0, [[0], [1, 4, 5]], (0, 1, 0, 0), (0, 1, 1, 1)),\n",
       " (0, 1, 4, 6): (0.0, [[0], [1, 4, 6]], (0, 1, 0, 0), (0, 1, 1, 0)),\n",
       " (0, 1, 4, 7): (0.0, [[0], [1, 4], [7]], (0, 1, 0, 0), (0, 1, 1, 0)),\n",
       " (0, 1, 5, 6): (0.0, [[0], [1], [5], [6]], (0, 1, 0, 0), (0, 1, 0, 0)),\n",
       " (0, 1, 5, 7): (0.0, [[0], [1], [5], [7]], (0, 1, 0, 0), (0, 1, 0, 0)),\n",
       " (0, 1, 6, 7): (0.0, [[0], [1], [6, 7]], (0, 1, 0, 1), (0, 1, 1, 0)),\n",
       " (0, 2, 3, 4): (0.0, [[2], [0, 3, 4]], (0, 0, 0, 0), (0, 0, 1, 0)),\n",
       " (0, 2, 3, 6): (0.0, [[2], [0, 3, 6]], (0, 0, 0, 0), (0, 0, 0, 0)),\n",
       " (0, 2, 3, 7): (0.0, [[2], [0, 3], [7]], (0, 0, 0, 0), (0, 0, 0, 0)),\n",
       " (0, 2, 4, 5): (0.0, [[0], [2, 4, 5]], (0, 0, 0, 0), (0, 0, 0, 1)),\n",
       " (0, 2, 4, 6): (0.0, [[0], [2], [4, 6]], (0, 0, 0, 0), (0, 0, 1, 0)),\n",
       " (0, 2, 4, 7): (0.0, [[0], [2], [4], [7]], (0, 0, 0, 0), (0, 0, 0, 0)),\n",
       " (0, 2, 5, 6): (0.0, [[0], [2, 5], [6]], (0, 0, 0, 0), (0, 0, 0, 0)),\n",
       " (0, 2, 5, 7): (0.0, [[0], [2, 5], [7]], (0, 0, 0, 0), (0, 0, 0, 0)),\n",
       " (0, 2, 6, 7): (0.0, [[0], [2], [6, 7]], (0, 0, 0, 1), (0, 0, 1, 0)),\n",
       " (0, 3, 4, 7): (0.0, [[0, 3, 4], [7]], (0, 0, 0, 0), (0, 1, 0, 0)),\n",
       " (0, 3, 5, 7): (0.0, [[0, 3, 5], [7]], (0, 0, 0, 0), (0, 0, 0, 0)),\n",
       " (0, 4, 5, 6): (0.0, [[0], [4, 5, 6]], (0, 0, 0, 0), (0, 0, 1, 0)),\n",
       " (0, 4, 5, 7): (0.0, [[0], [4, 5], [7]], (0, 0, 0, 0), (0, 0, 1, 0)),\n",
       " (0, 4, 6, 7): (0.0, [[0], [4, 6, 7]], (0, 0, 0, 1), (0, 1, 1, 0)),\n",
       " (0, 5, 6, 7): (0.0, [[0], [5], [6, 7]], (0, 0, 0, 1), (0, 0, 1, 0)),\n",
       " (1, 2, 3, 4): (0.0, [[2], [1, 3, 4]], (1, 0, 0, 0), (1, 0, 1, 1)),\n",
       " (1, 2, 3, 5): (0.0, [[1], [2, 3, 5]], (1, 0, 0, 0), (1, 0, 0, 0)),\n",
       " (1, 2, 3, 6): (0.0, [[1], [2], [3, 6]], (1, 0, 0, 0), (1, 0, 0, 0)),\n",
       " (1, 2, 3, 7): (0.0, [[1], [2], [3], [7]], (1, 0, 0, 0), (1, 0, 0, 0)),\n",
       " (1, 2, 4, 6): (0.0, [[2], [1, 4, 6]], (1, 0, 0, 0), (1, 0, 1, 0)),\n",
       " (1, 2, 4, 7): (0.0, [[2], [1, 4], [7]], (1, 0, 0, 0), (1, 0, 1, 0)),\n",
       " (1, 2, 5, 6): (0.0, [[1], [2, 5], [6]], (1, 0, 0, 0), (1, 0, 0, 0)),\n",
       " (1, 2, 5, 7): (0.0, [[1], [2, 5], [7]], (1, 0, 0, 0), (1, 0, 0, 0)),\n",
       " (1, 2, 6, 7): (0.0, [[1], [2], [6, 7]], (1, 0, 0, 1), (1, 0, 1, 0)),\n",
       " (1, 3, 4, 7): (0.0, [[1, 3, 4], [7]], (1, 0, 0, 0), (1, 1, 1, 0)),\n",
       " (1, 3, 5, 6): (0.0, [[1], [3, 5, 6]], (1, 0, 0, 0), (1, 0, 0, 0)),\n",
       " (1, 3, 5, 7): (0.0, [[1], [3, 5], [7]], (1, 0, 0, 0), (1, 0, 0, 0)),\n",
       " (1, 3, 6, 7): (0.0, [[1], [3, 6, 7]], (1, 0, 0, 1), (1, 0, 1, 0)),\n",
       " (1, 4, 5, 7): (0.0, [[1, 4, 5], [7]], (1, 0, 0, 0), (1, 1, 1, 0)),\n",
       " (1, 5, 6, 7): (0.0, [[1], [5], [6, 7]], (1, 0, 0, 1), (1, 0, 1, 0)),\n",
       " (2, 3, 4, 6): (0.0, [[2], [3, 4, 6]], (0, 0, 0, 0), (0, 1, 1, 0)),\n",
       " (2, 3, 4, 7): (0.0, [[2], [3, 4], [7]], (0, 0, 0, 0), (0, 1, 0, 0)),\n",
       " (2, 3, 5, 7): (0.0, [[2, 3, 5], [7]], (0, 0, 0, 0), (0, 0, 0, 0)),\n",
       " (2, 3, 6, 7): (0.0, [[2], [3, 6, 7]], (0, 0, 0, 1), (0, 0, 1, 0)),\n",
       " (2, 4, 5, 7): (0.0, [[2, 4, 5], [7]], (0, 0, 0, 0), (0, 0, 1, 0)),\n",
       " (2, 4, 6, 7): (0.0, [[2], [4, 6, 7]], (0, 0, 0, 1), (0, 1, 1, 0)),\n",
       " (2, 5, 6, 7): (0.0, [[2, 5], [6, 7]], (0, 0, 0, 1), (0, 0, 1, 0)),\n",
       " (3, 4, 5, 7): (0.0, [[3, 4, 5], [7]], (0, 0, 0, 0), (1, 0, 1, 0)),\n",
       " (0, 1, 2, 3, 4): (0.0, [[2], [0, 1, 3, 4]], (0, 1, 0, 0, 0), (0, 1, 0, 1, 1)),\n",
       " (0, 1, 2, 3, 5): (0.0, [[1], [0, 2, 3, 5]], (0, 1, 0, 0, 0), (0, 1, 0, 0, 0)),\n",
       " (0, 1, 2, 3, 6): (0.0,\n",
       "  [[1], [2], [0, 3, 6]],\n",
       "  (0, 1, 0, 0, 0),\n",
       "  (0, 1, 0, 0, 0)),\n",
       " (0, 1, 2, 3, 7): (0.0,\n",
       "  [[1], [2], [0, 3], [7]],\n",
       "  (0, 1, 0, 0, 0),\n",
       "  (0, 1, 0, 0, 0)),\n",
       " (0, 1, 2, 4, 5): (0.0, [[0], [1, 2, 4, 5]], (0, 1, 0, 0, 0), (0, 1, 0, 1, 1)),\n",
       " (0, 1, 2, 4, 6): (0.0,\n",
       "  [[0], [2], [1, 4, 6]],\n",
       "  (0, 1, 0, 0, 0),\n",
       "  (0, 1, 0, 1, 0)),\n",
       " (0, 1, 2, 4, 7): (0.0,\n",
       "  [[0], [2], [1, 4], [7]],\n",
       "  (0, 1, 0, 0, 0),\n",
       "  (0, 1, 0, 1, 0)),\n",
       " (0, 1, 2, 5, 6): (0.0,\n",
       "  [[0], [1], [2, 5], [6]],\n",
       "  (0, 1, 0, 0, 0),\n",
       "  (0, 1, 0, 0, 0)),\n",
       " (0, 1, 2, 5, 7): (0.0,\n",
       "  [[0], [1], [2, 5], [7]],\n",
       "  (0, 1, 0, 0, 0),\n",
       "  (0, 1, 0, 0, 0)),\n",
       " (0, 1, 2, 6, 7): (0.0,\n",
       "  [[0], [1], [2], [6, 7]],\n",
       "  (0, 1, 0, 0, 1),\n",
       "  (0, 1, 0, 1, 0)),\n",
       " (0, 1, 3, 4, 7): (0.0, [[0, 1, 3, 4], [7]], (0, 1, 0, 0, 0), (0, 1, 1, 1, 0)),\n",
       " (0, 1, 3, 5, 6): (0.0, [[1], [0, 3, 5, 6]], (0, 1, 0, 0, 0), (0, 1, 0, 0, 0)),\n",
       " (0, 1, 3, 5, 7): (0.0,\n",
       "  [[1], [0, 3, 5], [7]],\n",
       "  (0, 1, 0, 0, 0),\n",
       "  (0, 1, 0, 0, 0)),\n",
       " (0, 1, 3, 6, 7): (0.0, [[1], [0, 3, 6, 7]], (0, 1, 0, 0, 1), (0, 1, 0, 1, 0)),\n",
       " (0, 1, 4, 5, 6): (0.0, [[0], [1, 4, 5, 6]], (0, 1, 0, 0, 0), (0, 1, 1, 1, 0)),\n",
       " (0, 1, 4, 5, 7): (0.0,\n",
       "  [[0], [1, 4, 5], [7]],\n",
       "  (0, 1, 0, 0, 0),\n",
       "  (0, 1, 1, 1, 0)),\n",
       " (0, 1, 4, 6, 7): (0.0, [[0], [1, 4, 6, 7]], (0, 1, 0, 0, 1), (0, 1, 1, 1, 0)),\n",
       " (0, 1, 5, 6, 7): (0.0,\n",
       "  [[0], [1], [5], [6, 7]],\n",
       "  (0, 1, 0, 0, 1),\n",
       "  (0, 1, 0, 1, 0)),\n",
       " (0, 2, 3, 4, 6): (0.0, [[2], [0, 3, 4, 6]], (0, 0, 0, 0, 0), (0, 0, 1, 1, 0)),\n",
       " (0, 2, 3, 4, 7): (0.0,\n",
       "  [[2], [0, 3, 4], [7]],\n",
       "  (0, 0, 0, 0, 0),\n",
       "  (0, 0, 1, 0, 0)),\n",
       " (0, 2, 3, 5, 7): (0.0, [[0, 2, 3, 5], [7]], (0, 0, 0, 0, 0), (0, 0, 0, 0, 0)),\n",
       " (0, 2, 3, 6, 7): (0.0, [[2], [0, 3, 6, 7]], (0, 0, 0, 0, 1), (0, 0, 0, 1, 0)),\n",
       " (0, 2, 4, 5, 6): (0.0, [[0], [2, 4, 5, 6]], (0, 0, 0, 0, 0), (0, 0, 0, 1, 0)),\n",
       " (0, 2, 4, 5, 7): (0.0,\n",
       "  [[0], [2, 4, 5], [7]],\n",
       "  (0, 0, 0, 0, 0),\n",
       "  (0, 0, 0, 1, 0)),\n",
       " (0, 2, 4, 6, 7): (0.0,\n",
       "  [[0], [2], [4, 6, 7]],\n",
       "  (0, 0, 0, 0, 1),\n",
       "  (0, 0, 1, 1, 0)),\n",
       " (0, 2, 5, 6, 7): (0.0,\n",
       "  [[0], [2, 5], [6, 7]],\n",
       "  (0, 0, 0, 0, 1),\n",
       "  (0, 0, 0, 1, 0)),\n",
       " (0, 3, 4, 5, 7): (0.0, [[0, 3, 4, 5], [7]], (0, 0, 0, 0, 0), (0, 0, 0, 1, 0)),\n",
       " (0, 4, 5, 6, 7): (0.0, [[0], [4, 5, 6, 7]], (0, 0, 0, 0, 1), (0, 0, 1, 1, 0)),\n",
       " (1, 2, 3, 4, 6): (0.0, [[2], [1, 3, 4, 6]], (1, 0, 0, 0, 0), (1, 0, 1, 1, 0)),\n",
       " (1, 2, 3, 4, 7): (0.0,\n",
       "  [[2], [1, 3, 4], [7]],\n",
       "  (1, 0, 0, 0, 0),\n",
       "  (1, 0, 1, 1, 0)),\n",
       " (1, 2, 3, 5, 6): (0.0, [[1], [2, 3, 5, 6]], (1, 0, 0, 0, 0), (1, 0, 0, 0, 0)),\n",
       " (1, 2, 3, 5, 7): (0.0,\n",
       "  [[1], [2, 3, 5], [7]],\n",
       "  (1, 0, 0, 0, 0),\n",
       "  (1, 0, 0, 0, 0)),\n",
       " (1, 2, 3, 6, 7): (0.0,\n",
       "  [[1], [2], [3, 6, 7]],\n",
       "  (1, 0, 0, 0, 1),\n",
       "  (1, 0, 0, 1, 0)),\n",
       " (1, 2, 4, 5, 7): (0.0, [[1, 2, 4, 5], [7]], (1, 0, 0, 0, 0), (1, 0, 1, 1, 0)),\n",
       " (1, 2, 4, 6, 7): (0.0, [[2], [1, 4, 6, 7]], (1, 0, 0, 0, 1), (1, 0, 1, 1, 0)),\n",
       " (1, 2, 5, 6, 7): (0.0,\n",
       "  [[1], [2, 5], [6, 7]],\n",
       "  (1, 0, 0, 0, 1),\n",
       "  (1, 0, 0, 1, 0)),\n",
       " (1, 3, 4, 5, 7): (0.0, [[1, 3, 4, 5], [7]], (1, 0, 0, 0, 0), (1, 1, 1, 1, 0)),\n",
       " (1, 3, 5, 6, 7): (0.0, [[1], [3, 5, 6, 7]], (1, 0, 0, 0, 1), (1, 0, 0, 1, 0)),\n",
       " (2, 3, 4, 5, 7): (0.0, [[2, 3, 4, 5], [7]], (0, 0, 0, 0, 0), (0, 1, 0, 0, 0)),\n",
       " (2, 3, 4, 6, 7): (0.0, [[2], [3, 4, 6, 7]], (0, 0, 0, 0, 1), (0, 1, 1, 1, 0)),\n",
       " (0, 1, 2, 3, 4, 6): (0.0,\n",
       "  [[2], [0, 1, 3, 4, 6]],\n",
       "  (0, 1, 0, 0, 0, 0),\n",
       "  (0, 1, 0, 1, 1, 0)),\n",
       " (0, 1, 2, 3, 4, 7): (0.0,\n",
       "  [[2], [0, 1, 3, 4], [7]],\n",
       "  (0, 1, 0, 0, 0, 0),\n",
       "  (0, 1, 0, 1, 1, 0)),\n",
       " (0, 1, 2, 3, 5, 6): (0.0,\n",
       "  [[1], [0, 2, 3, 5, 6]],\n",
       "  (0, 1, 0, 0, 0, 0),\n",
       "  (0, 1, 0, 0, 0, 0)),\n",
       " (0, 1, 2, 3, 5, 7): (0.0,\n",
       "  [[1], [0, 2, 3, 5], [7]],\n",
       "  (0, 1, 0, 0, 0, 0),\n",
       "  (0, 1, 0, 0, 0, 0)),\n",
       " (0, 1, 2, 3, 6, 7): (0.0,\n",
       "  [[1], [2], [0, 3, 6, 7]],\n",
       "  (0, 1, 0, 0, 0, 1),\n",
       "  (0, 1, 0, 0, 1, 0)),\n",
       " (0, 1, 2, 4, 5, 6): (0.0,\n",
       "  [[0], [1, 2, 4, 5, 6]],\n",
       "  (0, 1, 0, 0, 0, 0),\n",
       "  (0, 1, 0, 1, 1, 0)),\n",
       " (0, 1, 2, 4, 5, 7): (0.0,\n",
       "  [[0], [1, 2, 4, 5], [7]],\n",
       "  (0, 1, 0, 0, 0, 0),\n",
       "  (0, 1, 0, 1, 1, 0)),\n",
       " (0, 1, 2, 4, 6, 7): (0.0,\n",
       "  [[0], [2], [1, 4, 6, 7]],\n",
       "  (0, 1, 0, 0, 0, 1),\n",
       "  (0, 1, 0, 1, 1, 0)),\n",
       " (0, 1, 2, 5, 6, 7): (0.0,\n",
       "  [[0], [1], [2, 5], [6, 7]],\n",
       "  (0, 1, 0, 0, 0, 1),\n",
       "  (0, 1, 0, 0, 1, 0)),\n",
       " (0, 1, 3, 4, 5, 7): (0.0,\n",
       "  [[0, 1, 3, 4, 5], [7]],\n",
       "  (0, 1, 0, 0, 0, 0),\n",
       "  (0, 1, 0, 1, 1, 0)),\n",
       " (0, 1, 3, 5, 6, 7): (0.0,\n",
       "  [[1], [0, 3, 5, 6, 7]],\n",
       "  (0, 1, 0, 0, 0, 1),\n",
       "  (0, 1, 0, 0, 1, 0)),\n",
       " (0, 1, 4, 5, 6, 7): (0.0,\n",
       "  [[0], [1, 4, 5, 6, 7]],\n",
       "  (0, 1, 0, 0, 0, 1),\n",
       "  (0, 1, 1, 1, 1, 0)),\n",
       " (0, 2, 3, 4, 5, 7): (0.0,\n",
       "  [[0, 2, 3, 4, 5], [7]],\n",
       "  (0, 0, 0, 0, 0, 0),\n",
       "  (0, 0, 1, 0, 0, 0)),\n",
       " (0, 2, 3, 4, 6, 7): (0.0,\n",
       "  [[2], [0, 3, 4, 6, 7]],\n",
       "  (0, 0, 0, 0, 0, 1),\n",
       "  (0, 0, 1, 1, 1, 0)),\n",
       " (0, 2, 4, 5, 6, 7): (0.0,\n",
       "  [[0], [2, 4, 5, 6, 7]],\n",
       "  (0, 0, 0, 0, 0, 1),\n",
       "  (0, 0, 0, 1, 1, 0)),\n",
       " (1, 2, 3, 4, 5, 7): (0.0,\n",
       "  [[1, 2, 3, 4, 5], [7]],\n",
       "  (1, 0, 0, 0, 0, 0),\n",
       "  (1, 0, 1, 1, 0, 0)),\n",
       " (1, 2, 3, 4, 6, 7): (0.0,\n",
       "  [[2], [1, 3, 4, 6, 7]],\n",
       "  (1, 0, 0, 0, 0, 1),\n",
       "  (1, 0, 1, 1, 1, 0)),\n",
       " (1, 2, 3, 5, 6, 7): (0.0,\n",
       "  [[1], [2, 3, 5, 6, 7]],\n",
       "  (1, 0, 0, 0, 0, 1),\n",
       "  (1, 0, 0, 0, 1, 0)),\n",
       " (0, 1, 2, 3, 4, 5, 7): (0.0,\n",
       "  [[0, 1, 2, 3, 4, 5], [7]],\n",
       "  (0, 1, 0, 0, 0, 0, 0),\n",
       "  (0, 1, 0, 1, 1, 0, 0)),\n",
       " (0, 1, 2, 3, 4, 6, 7): (0.0,\n",
       "  [[2], [0, 1, 3, 4, 6, 7]],\n",
       "  (0, 1, 0, 0, 0, 0, 1),\n",
       "  (0, 1, 0, 1, 1, 1, 0)),\n",
       " (0, 1, 2, 3, 5, 6, 7): (0.0,\n",
       "  [[1], [0, 2, 3, 5, 6, 7]],\n",
       "  (0, 1, 0, 0, 0, 0, 1),\n",
       "  (0, 1, 0, 0, 0, 1, 0)),\n",
       " (0, 1, 2, 4, 5, 6, 7): (0.0,\n",
       "  [[0], [1, 2, 4, 5, 6, 7]],\n",
       "  (0, 1, 0, 0, 0, 0, 1),\n",
       "  (0, 1, 0, 1, 1, 1, 0))}"
      ]
     },
     "execution_count": 118,
     "metadata": {},
     "output_type": "execute_result"
    }
   ],
   "source": [
    "sorted_ii"
   ]
  },
  {
   "cell_type": "code",
   "execution_count": 38,
   "id": "34b1c71a-9092-429a-944e-4e2fcf795b28",
   "metadata": {},
   "outputs": [
    {
     "data": {
      "text/plain": [
       "(0, 0, 0, 0)"
      ]
     },
     "execution_count": 38,
     "metadata": {},
     "output_type": "execute_result"
    }
   ],
   "source": [
    "sys_effect_state"
   ]
  },
  {
   "cell_type": "code",
   "execution_count": 29,
   "id": "0f10de61-0f84-4d2b-84e1-02f6f1125d2a",
   "metadata": {},
   "outputs": [
    {
     "name": "stdout",
     "output_type": "stream",
     "text": [
      "> \u001b[0;32m/Volumes/scratch/wmayner/projects/matching/data/pyphi/pyphi/subsystem.py\u001b[0m(357)\u001b[0;36m_single_node_effect_repertoire\u001b[0;34m()\u001b[0m\n",
      "\u001b[0;32m    355 \u001b[0;31m    \u001b[0;32mdef\u001b[0m \u001b[0m_single_node_effect_repertoire\u001b[0m\u001b[0;34m(\u001b[0m\u001b[0mself\u001b[0m\u001b[0;34m,\u001b[0m \u001b[0mmechanism\u001b[0m\u001b[0;34m,\u001b[0m \u001b[0mpurview_node_index\u001b[0m\u001b[0;34m)\u001b[0m\u001b[0;34m:\u001b[0m\u001b[0;34m\u001b[0m\u001b[0;34m\u001b[0m\u001b[0m\n",
      "\u001b[0m\u001b[0;32m    356 \u001b[0;31m        \u001b[0;31m# pylint: disable=missing-docstring\u001b[0m\u001b[0;34m\u001b[0m\u001b[0;34m\u001b[0m\u001b[0m\n",
      "\u001b[0m\u001b[0;32m--> 357 \u001b[0;31m        \u001b[0mpurview_node\u001b[0m \u001b[0;34m=\u001b[0m \u001b[0mself\u001b[0m\u001b[0;34m.\u001b[0m\u001b[0m_index2node\u001b[0m\u001b[0;34m[\u001b[0m\u001b[0mpurview_node_index\u001b[0m\u001b[0;34m]\u001b[0m\u001b[0;34m\u001b[0m\u001b[0;34m\u001b[0m\u001b[0m\n",
      "\u001b[0m\u001b[0;32m    358 \u001b[0;31m        \u001b[0;31m# Condition on the state of the inputs that are in the mechanism.\u001b[0m\u001b[0;34m\u001b[0m\u001b[0;34m\u001b[0m\u001b[0m\n",
      "\u001b[0m\u001b[0;32m    359 \u001b[0;31m        \u001b[0mmechanism_inputs\u001b[0m \u001b[0;34m=\u001b[0m \u001b[0mpurview_node\u001b[0m\u001b[0;34m.\u001b[0m\u001b[0minputs\u001b[0m \u001b[0;34m&\u001b[0m \u001b[0mmechanism\u001b[0m\u001b[0;34m\u001b[0m\u001b[0;34m\u001b[0m\u001b[0m\n",
      "\u001b[0m\n"
     ]
    },
    {
     "name": "stdin",
     "output_type": "stream",
     "text": [
      "ipdb>  self._index2node\n"
     ]
    },
    {
     "name": "stdout",
     "output_type": "stream",
     "text": [
      "{3: A, 4: B, 5: C, 6: D}\n"
     ]
    },
    {
     "name": "stdin",
     "output_type": "stream",
     "text": [
      "ipdb>  n\n"
     ]
    }
   ],
   "source": [
    "%debug"
   ]
  },
  {
   "cell_type": "code",
   "execution_count": 138,
   "id": "d0343b1b-6536-4d71-889c-26846f66b413",
   "metadata": {
    "collapsed": true,
    "jupyter": {
     "outputs_hidden": true
    },
    "tags": []
   },
   "outputs": [
    {
     "name": "stderr",
     "output_type": "stream",
     "text": [
      "Expanding unit tpms to all substrate states: 100%|██████████████████████████████████████| 8/8 [00:00<00:00, 2125.58it/s]\n",
      "combining unit tpms: 100%|██████████████████████████████████████████████████████████████| 8/8 [00:00<00:00, 9546.07it/s]\n",
      "Expanding unit tpms to all substrate states: 100%|██████████████████████████████████████| 8/8 [00:00<00:00, 1295.19it/s]\n",
      "combining unit tpms: 100%|█████████████████████████████████████████████████████████████| 8/8 [00:00<00:00, 14169.95it/s]\n",
      "Expanding unit tpms to all substrate states: 100%|██████████████████████████████████████| 8/8 [00:00<00:00, 1437.88it/s]\n",
      "combining unit tpms: 100%|█████████████████████████████████████████████████████████████| 8/8 [00:00<00:00, 32419.74it/s]\n",
      "Expanding unit tpms to all substrate states: 100%|██████████████████████████████████████| 8/8 [00:00<00:00, 4082.54it/s]\n",
      "combining unit tpms: 100%|█████████████████████████████████████████████████████████████| 8/8 [00:00<00:00, 40378.38it/s]\n",
      "Expanding unit tpms to all substrate states: 100%|██████████████████████████████████████| 8/8 [00:00<00:00, 1461.75it/s]\n",
      "combining unit tpms: 100%|█████████████████████████████████████████████████████████████| 8/8 [00:00<00:00, 15548.86it/s]\n",
      "Expanding unit tpms to all substrate states: 100%|██████████████████████████████████████| 8/8 [00:00<00:00, 2306.62it/s]\n",
      "combining unit tpms: 100%|█████████████████████████████████████████████████████████████| 8/8 [00:00<00:00, 22339.83it/s]\n",
      "Expanding unit tpms to all substrate states: 100%|██████████████████████████████████████| 8/8 [00:00<00:00, 1981.01it/s]\n",
      "combining unit tpms: 100%|█████████████████████████████████████████████████████████████| 8/8 [00:00<00:00, 25059.32it/s]\n",
      "Expanding unit tpms to all substrate states: 100%|██████████████████████████████████████| 8/8 [00:00<00:00, 4058.35it/s]\n",
      "combining unit tpms: 100%|█████████████████████████████████████████████████████████████| 8/8 [00:00<00:00, 43919.41it/s]\n",
      "Expanding unit tpms to all substrate states: 100%|██████████████████████████████████████| 8/8 [00:00<00:00, 4371.91it/s]\n",
      "combining unit tpms: 100%|█████████████████████████████████████████████████████████████| 8/8 [00:00<00:00, 43408.06it/s]\n",
      "Expanding unit tpms to all substrate states: 100%|██████████████████████████████████████| 8/8 [00:00<00:00, 4168.25it/s]\n",
      "combining unit tpms: 100%|█████████████████████████████████████████████████████████████| 8/8 [00:00<00:00, 15520.09it/s]\n",
      "Expanding unit tpms to all substrate states: 100%|██████████████████████████████████████| 8/8 [00:00<00:00, 1397.52it/s]\n",
      "combining unit tpms: 100%|█████████████████████████████████████████████████████████████| 8/8 [00:00<00:00, 42635.87it/s]\n",
      "Expanding unit tpms to all substrate states: 100%|██████████████████████████████████████| 8/8 [00:00<00:00, 3994.10it/s]\n",
      "combining unit tpms: 100%|█████████████████████████████████████████████████████████████| 8/8 [00:00<00:00, 34134.72it/s]\n",
      "Expanding unit tpms to all substrate states: 100%|██████████████████████████████████████| 8/8 [00:00<00:00, 3219.58it/s]\n",
      "combining unit tpms: 100%|█████████████████████████████████████████████████████████████| 8/8 [00:00<00:00, 12501.65it/s]\n",
      "Expanding unit tpms to all substrate states: 100%|██████████████████████████████████████| 8/8 [00:00<00:00, 2492.34it/s]\n",
      "combining unit tpms: 100%|█████████████████████████████████████████████████████████████| 8/8 [00:00<00:00, 27639.57it/s]\n",
      "Expanding unit tpms to all substrate states: 100%|██████████████████████████████████████| 8/8 [00:00<00:00, 2460.18it/s]\n",
      "combining unit tpms: 100%|█████████████████████████████████████████████████████████████| 8/8 [00:00<00:00, 36432.61it/s]\n",
      "Expanding unit tpms to all substrate states: 100%|██████████████████████████████████████| 8/8 [00:00<00:00, 4395.97it/s]\n",
      "combining unit tpms: 100%|█████████████████████████████████████████████████████████████| 8/8 [00:00<00:00, 42853.68it/s]\n",
      "Expanding unit tpms to all substrate states: 100%|██████████████████████████████████████| 8/8 [00:00<00:00, 3494.16it/s]\n",
      "combining unit tpms: 100%|█████████████████████████████████████████████████████████████| 8/8 [00:00<00:00, 22982.49it/s]\n",
      "Expanding unit tpms to all substrate states: 100%|██████████████████████████████████████| 8/8 [00:00<00:00, 3533.91it/s]\n",
      "combining unit tpms: 100%|█████████████████████████████████████████████████████████████| 8/8 [00:00<00:00, 35507.34it/s]\n",
      "Expanding unit tpms to all substrate states: 100%|██████████████████████████████████████| 8/8 [00:00<00:00, 4079.07it/s]\n",
      "combining unit tpms: 100%|█████████████████████████████████████████████████████████████| 8/8 [00:00<00:00, 49200.05it/s]\n",
      "Expanding unit tpms to all substrate states: 100%|██████████████████████████████████████| 8/8 [00:00<00:00, 1288.28it/s]\n",
      "combining unit tpms: 100%|█████████████████████████████████████████████████████████████| 8/8 [00:00<00:00, 14952.96it/s]\n",
      "Expanding unit tpms to all substrate states: 100%|██████████████████████████████████████| 8/8 [00:00<00:00, 1787.95it/s]\n",
      "combining unit tpms: 100%|█████████████████████████████████████████████████████████████| 8/8 [00:00<00:00, 10164.93it/s]\n",
      "Expanding unit tpms to all substrate states: 100%|██████████████████████████████████████| 8/8 [00:00<00:00, 1310.82it/s]\n",
      "combining unit tpms: 100%|█████████████████████████████████████████████████████████████| 8/8 [00:00<00:00, 14926.35it/s]\n",
      "Expanding unit tpms to all substrate states: 100%|██████████████████████████████████████| 8/8 [00:00<00:00, 1399.27it/s]\n",
      "combining unit tpms: 100%|██████████████████████████████████████████████████████████████| 8/8 [00:00<00:00, 9266.62it/s]\n",
      "Expanding unit tpms to all substrate states: 100%|██████████████████████████████████████| 8/8 [00:00<00:00, 1451.44it/s]\n",
      "combining unit tpms: 100%|█████████████████████████████████████████████████████████████| 8/8 [00:00<00:00, 11724.12it/s]\n",
      "Expanding unit tpms to all substrate states: 100%|██████████████████████████████████████| 8/8 [00:00<00:00, 4485.29it/s]\n",
      "combining unit tpms: 100%|█████████████████████████████████████████████████████████████| 8/8 [00:00<00:00, 41221.66it/s]\n",
      "Expanding unit tpms to all substrate states: 100%|██████████████████████████████████████| 8/8 [00:00<00:00, 1813.17it/s]\n",
      "combining unit tpms: 100%|█████████████████████████████████████████████████████████████| 8/8 [00:00<00:00, 21550.69it/s]\n",
      "Expanding unit tpms to all substrate states: 100%|██████████████████████████████████████| 8/8 [00:00<00:00, 4096.50it/s]\n",
      "combining unit tpms: 100%|█████████████████████████████████████████████████████████████| 8/8 [00:00<00:00, 14607.94it/s]\n",
      "Expanding unit tpms to all substrate states: 100%|██████████████████████████████████████| 8/8 [00:00<00:00, 1431.26it/s]\n",
      "combining unit tpms: 100%|█████████████████████████████████████████████████████████████| 8/8 [00:00<00:00, 37659.30it/s]\n",
      "Expanding unit tpms to all substrate states: 100%|██████████████████████████████████████| 8/8 [00:00<00:00, 4092.50it/s]\n",
      "combining unit tpms: 100%|█████████████████████████████████████████████████████████████| 8/8 [00:00<00:00, 34663.67it/s]\n",
      "Expanding unit tpms to all substrate states: 100%|██████████████████████████████████████| 8/8 [00:00<00:00, 3388.99it/s]\n",
      "combining unit tpms: 100%|█████████████████████████████████████████████████████████████| 8/8 [00:00<00:00, 13888.42it/s]\n",
      "Expanding unit tpms to all substrate states: 100%|██████████████████████████████████████| 8/8 [00:00<00:00, 1778.66it/s]\n",
      "combining unit tpms: 100%|█████████████████████████████████████████████████████████████| 8/8 [00:00<00:00, 41425.22it/s]\n",
      "Expanding unit tpms to all substrate states: 100%|██████████████████████████████████████| 8/8 [00:00<00:00, 1321.61it/s]\n",
      "combining unit tpms: 100%|█████████████████████████████████████████████████████████████| 8/8 [00:00<00:00, 37957.50it/s]\n",
      "Expanding unit tpms to all substrate states: 100%|██████████████████████████████████████| 8/8 [00:00<00:00, 4026.69it/s]\n",
      "combining unit tpms: 100%|█████████████████████████████████████████████████████████████| 8/8 [00:00<00:00, 43633.85it/s]\n",
      "Expanding unit tpms to all substrate states: 100%|██████████████████████████████████████| 8/8 [00:00<00:00, 3276.80it/s]\n",
      "combining unit tpms: 100%|█████████████████████████████████████████████████████████████| 8/8 [00:00<00:00, 36235.89it/s]\n",
      "Expanding unit tpms to all substrate states: 100%|██████████████████████████████████████| 8/8 [00:00<00:00, 3058.19it/s]\n",
      "combining unit tpms: 100%|█████████████████████████████████████████████████████████████| 8/8 [00:00<00:00, 13189.64it/s]\n",
      "Expanding unit tpms to all substrate states: 100%|██████████████████████████████████████| 8/8 [00:00<00:00, 2372.18it/s]\n",
      "combining unit tpms: 100%|█████████████████████████████████████████████████████████████| 8/8 [00:00<00:00, 26214.40it/s]\n",
      "Expanding unit tpms to all substrate states: 100%|██████████████████████████████████████| 8/8 [00:00<00:00, 3856.39it/s]\n",
      "combining unit tpms: 100%|█████████████████████████████████████████████████████████████| 8/8 [00:00<00:00, 39850.87it/s]\n",
      "Expanding unit tpms to all substrate states: 100%|██████████████████████████████████████| 8/8 [00:00<00:00, 1658.32it/s]\n",
      "combining unit tpms: 100%|█████████████████████████████████████████████████████████████| 8/8 [00:00<00:00, 26651.65it/s]\n",
      "Expanding unit tpms to all substrate states: 100%|██████████████████████████████████████| 8/8 [00:00<00:00, 2428.14it/s]\n",
      "combining unit tpms: 100%|█████████████████████████████████████████████████████████████| 8/8 [00:00<00:00, 43690.67it/s]\n",
      "Expanding unit tpms to all substrate states: 100%|██████████████████████████████████████| 8/8 [00:00<00:00, 1354.97it/s]\n",
      "combining unit tpms: 100%|█████████████████████████████████████████████████████████████| 8/8 [00:00<00:00, 33091.16it/s]\n",
      "Expanding unit tpms to all substrate states: 100%|██████████████████████████████████████| 8/8 [00:00<00:00, 3061.26it/s]\n",
      "combining unit tpms: 100%|█████████████████████████████████████████████████████████████| 8/8 [00:00<00:00, 15101.00it/s]\n",
      "Expanding unit tpms to all substrate states: 100%|██████████████████████████████████████| 8/8 [00:00<00:00, 1308.62it/s]\n",
      "combining unit tpms: 100%|██████████████████████████████████████████████████████████████| 8/8 [00:00<00:00, 9617.21it/s]\n",
      "Expanding unit tpms to all substrate states: 100%|██████████████████████████████████████| 8/8 [00:00<00:00, 4407.52it/s]\n",
      "combining unit tpms: 100%|█████████████████████████████████████████████████████████████| 8/8 [00:00<00:00, 48419.09it/s]\n",
      "Expanding unit tpms to all substrate states: 100%|██████████████████████████████████████| 8/8 [00:00<00:00, 1386.60it/s]\n",
      "combining unit tpms: 100%|█████████████████████████████████████████████████████████████| 8/8 [00:00<00:00, 19599.55it/s]\n",
      "Expanding unit tpms to all substrate states: 100%|██████████████████████████████████████| 8/8 [00:00<00:00, 1327.36it/s]\n",
      "combining unit tpms: 100%|█████████████████████████████████████████████████████████████| 8/8 [00:00<00:00, 16693.75it/s]\n",
      "Expanding unit tpms to all substrate states: 100%|██████████████████████████████████████| 8/8 [00:00<00:00, 1388.61it/s]\n",
      "combining unit tpms: 100%|█████████████████████████████████████████████████████████████| 8/8 [00:00<00:00, 40475.79it/s]\n",
      "Expanding unit tpms to all substrate states: 100%|██████████████████████████████████████| 8/8 [00:00<00:00, 3817.34it/s]\n",
      "combining unit tpms: 100%|█████████████████████████████████████████████████████████████| 8/8 [00:00<00:00, 42366.71it/s]\n",
      "Expanding unit tpms to all substrate states: 100%|██████████████████████████████████████| 8/8 [00:00<00:00, 3566.59it/s]\n",
      "combining unit tpms: 100%|█████████████████████████████████████████████████████████████| 8/8 [00:00<00:00, 12241.68it/s]\n",
      "Expanding unit tpms to all substrate states: 100%|██████████████████████████████████████| 8/8 [00:00<00:00, 1643.13it/s]\n",
      "combining unit tpms: 100%|█████████████████████████████████████████████████████████████| 8/8 [00:00<00:00, 44150.57it/s]\n",
      "Expanding unit tpms to all substrate states: 100%|██████████████████████████████████████| 8/8 [00:00<00:00, 4201.66it/s]\n",
      "combining unit tpms: 100%|█████████████████████████████████████████████████████████████| 8/8 [00:00<00:00, 39475.80it/s]\n",
      "Expanding unit tpms to all substrate states: 100%|██████████████████████████████████████| 8/8 [00:00<00:00, 3714.65it/s]\n",
      "combining unit tpms: 100%|█████████████████████████████████████████████████████████████| 8/8 [00:00<00:00, 38612.70it/s]\n",
      "Expanding unit tpms to all substrate states: 100%|██████████████████████████████████████| 8/8 [00:00<00:00, 1252.87it/s]\n",
      "combining unit tpms: 100%|█████████████████████████████████████████████████████████████| 8/8 [00:00<00:00, 16760.46it/s]\n",
      "Expanding unit tpms to all substrate states: 100%|██████████████████████████████████████| 8/8 [00:00<00:00, 1685.64it/s]\n",
      "combining unit tpms: 100%|█████████████████████████████████████████████████████████████| 8/8 [00:00<00:00, 34843.65it/s]\n",
      "Expanding unit tpms to all substrate states: 100%|██████████████████████████████████████| 8/8 [00:00<00:00, 3314.35it/s]\n",
      "combining unit tpms: 100%|█████████████████████████████████████████████████████████████| 8/8 [00:00<00:00, 34169.48it/s]\n",
      "Expanding unit tpms to all substrate states: 100%|██████████████████████████████████████| 8/8 [00:00<00:00, 3993.62it/s]\n",
      "combining unit tpms: 100%|█████████████████████████████████████████████████████████████| 8/8 [00:00<00:00, 13729.31it/s]\n",
      "Expanding unit tpms to all substrate states: 100%|██████████████████████████████████████| 8/8 [00:00<00:00, 1656.68it/s]\n",
      "combining unit tpms: 100%|█████████████████████████████████████████████████████████████| 8/8 [00:00<00:00, 18703.70it/s]\n",
      "Expanding unit tpms to all substrate states: 100%|██████████████████████████████████████| 8/8 [00:00<00:00, 4112.06it/s]\n",
      "combining unit tpms: 100%|█████████████████████████████████████████████████████████████| 8/8 [00:00<00:00, 41630.81it/s]\n",
      "Expanding unit tpms to all substrate states: 100%|██████████████████████████████████████| 8/8 [00:00<00:00, 1457.81it/s]\n",
      "combining unit tpms: 100%|█████████████████████████████████████████████████████████████| 8/8 [00:00<00:00, 10710.00it/s]\n",
      "Expanding unit tpms to all substrate states: 100%|██████████████████████████████████████| 8/8 [00:00<00:00, 1360.19it/s]\n",
      "combining unit tpms: 100%|█████████████████████████████████████████████████████████████| 8/8 [00:00<00:00, 48072.25it/s]\n",
      "Expanding unit tpms to all substrate states: 100%|██████████████████████████████████████| 8/8 [00:00<00:00, 4109.54it/s]\n",
      "combining unit tpms: 100%|█████████████████████████████████████████████████████████████| 8/8 [00:00<00:00, 14601.58it/s]\n",
      "Expanding unit tpms to all substrate states: 100%|██████████████████████████████████████| 8/8 [00:00<00:00, 1378.46it/s]\n",
      "combining unit tpms: 100%|█████████████████████████████████████████████████████████████| 8/8 [00:00<00:00, 18957.31it/s]\n",
      "Expanding unit tpms to all substrate states: 100%|██████████████████████████████████████| 8/8 [00:00<00:00, 1477.00it/s]\n",
      "combining unit tpms: 100%|█████████████████████████████████████████████████████████████| 8/8 [00:00<00:00, 14394.87it/s]\n",
      "Expanding unit tpms to all substrate states: 100%|██████████████████████████████████████| 8/8 [00:00<00:00, 2178.15it/s]\n",
      "combining unit tpms: 100%|█████████████████████████████████████████████████████████████| 8/8 [00:00<00:00, 37035.80it/s]\n",
      "Expanding unit tpms to all substrate states: 100%|██████████████████████████████████████| 8/8 [00:00<00:00, 4254.40it/s]\n",
      "combining unit tpms: 100%|█████████████████████████████████████████████████████████████| 8/8 [00:00<00:00, 51385.04it/s]\n",
      "Expanding unit tpms to all substrate states: 100%|██████████████████████████████████████| 8/8 [00:00<00:00, 4649.36it/s]\n",
      "combining unit tpms: 100%|█████████████████████████████████████████████████████████████| 8/8 [00:00<00:00, 43073.73it/s]\n",
      "Expanding unit tpms to all substrate states: 100%|██████████████████████████████████████| 8/8 [00:00<00:00, 1286.25it/s]\n",
      "combining unit tpms: 100%|█████████████████████████████████████████████████████████████| 8/8 [00:00<00:00, 41374.15it/s]\n",
      "Expanding unit tpms to all substrate states: 100%|██████████████████████████████████████| 8/8 [00:00<00:00, 4036.38it/s]\n",
      "combining unit tpms: 100%|█████████████████████████████████████████████████████████████| 8/8 [00:00<00:00, 38612.70it/s]\n",
      "Expanding unit tpms to all substrate states: 100%|██████████████████████████████████████| 8/8 [00:00<00:00, 1998.24it/s]\n",
      "combining unit tpms: 100%|█████████████████████████████████████████████████████████████| 8/8 [00:00<00:00, 36472.21it/s]\n",
      "Expanding unit tpms to all substrate states: 100%|██████████████████████████████████████| 8/8 [00:00<00:00, 1837.09it/s]\n",
      "combining unit tpms: 100%|██████████████████████████████████████████████████████████████| 8/8 [00:00<00:00, 6921.29it/s]\n",
      "Expanding unit tpms to all substrate states: 100%|██████████████████████████████████████| 8/8 [00:00<00:00, 1271.43it/s]\n",
      "combining unit tpms: 100%|█████████████████████████████████████████████████████████████| 8/8 [00:00<00:00, 10716.84it/s]\n",
      "Expanding unit tpms to all substrate states: 100%|██████████████████████████████████████| 8/8 [00:00<00:00, 4181.76it/s]\n",
      "combining unit tpms: 100%|█████████████████████████████████████████████████████████████| 8/8 [00:00<00:00, 45039.51it/s]\n",
      "Expanding unit tpms to all substrate states: 100%|██████████████████████████████████████| 8/8 [00:00<00:00, 1238.22it/s]\n",
      "combining unit tpms: 100%|██████████████████████████████████████████████████████████████| 8/8 [00:00<00:00, 9172.89it/s]\n",
      "Expanding unit tpms to all substrate states: 100%|██████████████████████████████████████| 8/8 [00:00<00:00, 2835.43it/s]\n",
      "combining unit tpms: 100%|█████████████████████████████████████████████████████████████| 8/8 [00:00<00:00, 30559.59it/s]\n",
      "Expanding unit tpms to all substrate states: 100%|██████████████████████████████████████| 8/8 [00:00<00:00, 3092.57it/s]\n",
      "combining unit tpms: 100%|█████████████████████████████████████████████████████████████| 8/8 [00:00<00:00, 34309.24it/s]\n",
      "Expanding unit tpms to all substrate states: 100%|██████████████████████████████████████| 8/8 [00:00<00:00, 3121.92it/s]\n",
      "combining unit tpms: 100%|█████████████████████████████████████████████████████████████| 8/8 [00:00<00:00, 36393.09it/s]\n",
      "Expanding unit tpms to all substrate states: 100%|██████████████████████████████████████| 8/8 [00:00<00:00, 4712.04it/s]\n",
      "combining unit tpms: 100%|█████████████████████████████████████████████████████████████| 8/8 [00:00<00:00, 38791.25it/s]\n",
      "Expanding unit tpms to all substrate states: 100%|██████████████████████████████████████| 8/8 [00:00<00:00, 4038.32it/s]\n",
      "combining unit tpms: 100%|█████████████████████████████████████████████████████████████| 8/8 [00:00<00:00, 41425.22it/s]\n",
      "Expanding unit tpms to all substrate states: 100%|██████████████████████████████████████| 8/8 [00:00<00:00, 4011.29it/s]\n",
      "combining unit tpms: 100%|█████████████████████████████████████████████████████████████| 8/8 [00:00<00:00, 42527.80it/s]\n",
      "Expanding unit tpms to all substrate states: 100%|██████████████████████████████████████| 8/8 [00:00<00:00, 2115.26it/s]\n",
      "combining unit tpms: 100%|██████████████████████████████████████████████████████████████| 8/8 [00:00<00:00, 7194.35it/s]\n",
      "Expanding unit tpms to all substrate states: 100%|██████████████████████████████████████| 8/8 [00:00<00:00, 1599.43it/s]\n",
      "combining unit tpms: 100%|█████████████████████████████████████████████████████████████| 8/8 [00:00<00:00, 44739.24it/s]\n",
      "Expanding unit tpms to all substrate states: 100%|██████████████████████████████████████| 8/8 [00:00<00:00, 3529.82it/s]\n",
      "combining unit tpms: 100%|█████████████████████████████████████████████████████████████| 8/8 [00:00<00:00, 15006.45it/s]\n",
      "Expanding unit tpms to all substrate states: 100%|██████████████████████████████████████| 8/8 [00:00<00:00, 2621.85it/s]\n",
      "combining unit tpms: 100%|█████████████████████████████████████████████████████████████| 8/8 [00:00<00:00, 27938.74it/s]\n",
      "Expanding unit tpms to all substrate states: 100%|██████████████████████████████████████| 8/8 [00:00<00:00, 3976.59it/s]\n",
      "combining unit tpms: 100%|█████████████████████████████████████████████████████████████| 8/8 [00:00<00:00, 18265.89it/s]\n",
      "Expanding unit tpms to all substrate states: 100%|██████████████████████████████████████| 8/8 [00:00<00:00, 1316.53it/s]\n",
      "combining unit tpms: 100%|█████████████████████████████████████████████████████████████| 8/8 [00:00<00:00, 21606.20it/s]\n",
      "Expanding unit tpms to all substrate states: 100%|██████████████████████████████████████| 8/8 [00:00<00:00, 1920.91it/s]\n",
      "combining unit tpms: 100%|█████████████████████████████████████████████████████████████| 8/8 [00:00<00:00, 14033.64it/s]\n",
      "Expanding unit tpms to all substrate states: 100%|██████████████████████████████████████| 8/8 [00:00<00:00, 2055.91it/s]\n",
      "combining unit tpms: 100%|█████████████████████████████████████████████████████████████| 8/8 [00:00<00:00, 15342.68it/s]\n",
      "Expanding unit tpms to all substrate states: 100%|██████████████████████████████████████| 8/8 [00:00<00:00, 2384.48it/s]\n",
      "combining unit tpms: 100%|█████████████████████████████████████████████████████████████| 8/8 [00:00<00:00, 33387.49it/s]\n",
      "Expanding unit tpms to all substrate states: 100%|██████████████████████████████████████| 8/8 [00:00<00:00, 2745.41it/s]\n",
      "combining unit tpms: 100%|█████████████████████████████████████████████████████████████| 8/8 [00:00<00:00, 45466.71it/s]\n",
      "Expanding unit tpms to all substrate states: 100%|██████████████████████████████████████| 8/8 [00:00<00:00, 3987.93it/s]\n",
      "combining unit tpms: 100%|█████████████████████████████████████████████████████████████| 8/8 [00:00<00:00, 42259.99it/s]\n",
      "Expanding unit tpms to all substrate states: 100%|██████████████████████████████████████| 8/8 [00:00<00:00, 3965.78it/s]\n",
      "combining unit tpms: 100%|█████████████████████████████████████████████████████████████| 8/8 [00:00<00:00, 41171.08it/s]\n",
      "Expanding unit tpms to all substrate states: 100%|██████████████████████████████████████| 8/8 [00:00<00:00, 4180.72it/s]\n",
      "combining unit tpms: 100%|██████████████████████████████████████████████████████████████| 8/8 [00:00<00:00, 5738.74it/s]\n",
      "Expanding unit tpms to all substrate states: 100%|██████████████████████████████████████| 8/8 [00:00<00:00, 1744.45it/s]\n",
      "combining unit tpms: 100%|█████████████████████████████████████████████████████████████| 8/8 [00:00<00:00, 40233.13it/s]\n",
      "Expanding unit tpms to all substrate states: 100%|██████████████████████████████████████| 8/8 [00:00<00:00, 3909.86it/s]\n",
      "combining unit tpms: 100%|█████████████████████████████████████████████████████████████| 8/8 [00:00<00:00, 37957.50it/s]\n",
      "Expanding unit tpms to all substrate states: 100%|██████████████████████████████████████| 8/8 [00:00<00:00, 3357.79it/s]\n",
      "combining unit tpms: 100%|█████████████████████████████████████████████████████████████| 8/8 [00:00<00:00, 14456.89it/s]\n",
      "Expanding unit tpms to all substrate states: 100%|██████████████████████████████████████| 8/8 [00:00<00:00, 1629.01it/s]\n",
      "combining unit tpms: 100%|█████████████████████████████████████████████████████████████| 8/8 [00:00<00:00, 42799.02it/s]\n",
      "Expanding unit tpms to all substrate states: 100%|██████████████████████████████████████| 8/8 [00:00<00:00, 4369.07it/s]\n",
      "combining unit tpms: 100%|█████████████████████████████████████████████████████████████| 8/8 [00:00<00:00, 42048.16it/s]\n",
      "Expanding unit tpms to all substrate states: 100%|██████████████████████████████████████| 8/8 [00:00<00:00, 1255.97it/s]\n",
      "combining unit tpms: 100%|█████████████████████████████████████████████████████████████| 8/8 [00:00<00:00, 10273.86it/s]\n",
      "Expanding unit tpms to all substrate states: 100%|██████████████████████████████████████| 8/8 [00:00<00:00, 1594.49it/s]\n",
      "combining unit tpms: 100%|█████████████████████████████████████████████████████████████| 8/8 [00:00<00:00, 12404.60it/s]\n",
      "Expanding unit tpms to all substrate states: 100%|██████████████████████████████████████| 8/8 [00:00<00:00, 1186.59it/s]\n",
      "combining unit tpms: 100%|█████████████████████████████████████████████████████████████| 8/8 [00:00<00:00, 13684.52it/s]\n",
      "Expanding unit tpms to all substrate states: 100%|██████████████████████████████████████| 8/8 [00:00<00:00, 1975.07it/s]\n",
      "combining unit tpms: 100%|█████████████████████████████████████████████████████████████| 8/8 [00:00<00:00, 11351.30it/s]\n",
      "Expanding unit tpms to all substrate states: 100%|██████████████████████████████████████| 8/8 [00:00<00:00, 1334.28it/s]\n",
      "combining unit tpms: 100%|█████████████████████████████████████████████████████████████| 8/8 [00:00<00:00, 14074.85it/s]\n",
      "Expanding unit tpms to all substrate states: 100%|██████████████████████████████████████| 8/8 [00:00<00:00, 4051.49it/s]\n",
      "combining unit tpms: 100%|██████████████████████████████████████████████████████████████| 8/8 [00:00<00:00, 9385.86it/s]\n",
      "Expanding unit tpms to all substrate states: 100%|██████████████████████████████████████| 8/8 [00:00<00:00, 1351.37it/s]\n",
      "combining unit tpms: 100%|█████████████████████████████████████████████████████████████| 8/8 [00:00<00:00, 17867.11it/s]\n",
      "Expanding unit tpms to all substrate states: 100%|██████████████████████████████████████| 8/8 [00:00<00:00, 1792.44it/s]\n",
      "combining unit tpms: 100%|█████████████████████████████████████████████████████████████| 8/8 [00:00<00:00, 28220.72it/s]\n",
      "Expanding unit tpms to all substrate states: 100%|██████████████████████████████████████| 8/8 [00:00<00:00, 2753.98it/s]\n",
      "combining unit tpms: 100%|█████████████████████████████████████████████████████████████| 8/8 [00:00<00:00, 14601.58it/s]\n",
      "Expanding unit tpms to all substrate states: 100%|██████████████████████████████████████| 8/8 [00:00<00:00, 1599.96it/s]\n",
      "combining unit tpms: 100%|█████████████████████████████████████████████████████████████| 8/8 [00:00<00:00, 27458.62it/s]\n",
      "Expanding unit tpms to all substrate states: 100%|██████████████████████████████████████| 8/8 [00:00<00:00, 2599.51it/s]\n",
      "combining unit tpms: 100%|█████████████████████████████████████████████████████████████| 8/8 [00:00<00:00, 24474.42it/s]\n",
      "Expanding unit tpms to all substrate states: 100%|██████████████████████████████████████| 8/8 [00:00<00:00, 3077.82it/s]\n",
      "combining unit tpms: 100%|█████████████████████████████████████████████████████████████| 8/8 [00:00<00:00, 12895.63it/s]\n",
      "Expanding unit tpms to all substrate states: 100%|██████████████████████████████████████| 8/8 [00:00<00:00, 1376.54it/s]\n",
      "combining unit tpms: 100%|██████████████████████████████████████████████████████████████| 8/8 [00:00<00:00, 9438.66it/s]\n",
      "Expanding unit tpms to all substrate states: 100%|██████████████████████████████████████| 8/8 [00:00<00:00, 1309.39it/s]\n",
      "combining unit tpms: 100%|██████████████████████████████████████████████████████████████| 8/8 [00:00<00:00, 9933.22it/s]\n",
      "Expanding unit tpms to all substrate states: 100%|██████████████████████████████████████| 8/8 [00:00<00:00, 1236.39it/s]\n",
      "combining unit tpms: 100%|██████████████████████████████████████████████████████████████| 8/8 [00:00<00:00, 9310.33it/s]\n",
      "Expanding unit tpms to all substrate states: 100%|██████████████████████████████████████| 8/8 [00:00<00:00, 2168.16it/s]\n",
      "combining unit tpms: 100%|█████████████████████████████████████████████████████████████| 8/8 [00:00<00:00, 25991.04it/s]\n",
      "Expanding unit tpms to all substrate states: 100%|██████████████████████████████████████| 8/8 [00:00<00:00, 3604.90it/s]\n",
      "combining unit tpms: 100%|█████████████████████████████████████████████████████████████| 8/8 [00:00<00:00, 39429.41it/s]\n",
      "Expanding unit tpms to all substrate states: 100%|██████████████████████████████████████| 8/8 [00:00<00:00, 4028.14it/s]\n",
      "combining unit tpms: 100%|█████████████████████████████████████████████████████████████| 8/8 [00:00<00:00, 41476.43it/s]\n",
      "Expanding unit tpms to all substrate states: 100%|██████████████████████████████████████| 8/8 [00:00<00:00, 3986.98it/s]\n",
      "combining unit tpms: 100%|█████████████████████████████████████████████████████████████| 8/8 [00:00<00:00, 42581.77it/s]\n",
      "Expanding unit tpms to all substrate states: 100%|██████████████████████████████████████| 8/8 [00:00<00:00, 3967.65it/s]\n",
      "combining unit tpms: 100%|█████████████████████████████████████████████████████████████| 8/8 [00:00<00:00, 14853.67it/s]\n",
      "Expanding unit tpms to all substrate states: 100%|██████████████████████████████████████| 8/8 [00:00<00:00, 1281.19it/s]\n",
      "combining unit tpms: 100%|█████████████████████████████████████████████████████████████| 8/8 [00:00<00:00, 13378.96it/s]\n",
      "Expanding unit tpms to all substrate states: 100%|██████████████████████████████████████| 8/8 [00:00<00:00, 1246.77it/s]\n",
      "combining unit tpms: 100%|█████████████████████████████████████████████████████████████| 8/8 [00:00<00:00, 41943.04it/s]\n",
      "Expanding unit tpms to all substrate states: 100%|██████████████████████████████████████| 8/8 [00:00<00:00, 4118.12it/s]\n",
      "combining unit tpms: 100%|█████████████████████████████████████████████████████████████| 8/8 [00:00<00:00, 42853.68it/s]\n",
      "Expanding unit tpms to all substrate states: 100%|██████████████████████████████████████| 8/8 [00:00<00:00, 3817.78it/s]\n",
      "combining unit tpms: 100%|█████████████████████████████████████████████████████████████| 8/8 [00:00<00:00, 27257.87it/s]\n",
      "Expanding unit tpms to all substrate states: 100%|██████████████████████████████████████| 8/8 [00:00<00:00, 1945.97it/s]\n",
      "combining unit tpms: 100%|██████████████████████████████████████████████████████████████| 8/8 [00:00<00:00, 9589.72it/s]\n",
      "Expanding unit tpms to all substrate states: 100%|██████████████████████████████████████| 8/8 [00:00<00:00, 1689.72it/s]\n",
      "combining unit tpms: 100%|█████████████████████████████████████████████████████████████| 8/8 [00:00<00:00, 11810.78it/s]\n",
      "Expanding unit tpms to all substrate states: 100%|██████████████████████████████████████| 8/8 [00:00<00:00, 4005.54it/s]\n",
      "combining unit tpms: 100%|█████████████████████████████████████████████████████████████| 8/8 [00:00<00:00, 45405.19it/s]\n",
      "Expanding unit tpms to all substrate states: 100%|██████████████████████████████████████| 8/8 [00:00<00:00, 3945.72it/s]\n",
      "combining unit tpms: 100%|█████████████████████████████████████████████████████████████| 8/8 [00:00<00:00, 44034.69it/s]\n",
      "Expanding unit tpms to all substrate states: 100%|██████████████████████████████████████| 8/8 [00:00<00:00, 1268.79it/s]\n",
      "combining unit tpms: 100%|█████████████████████████████████████████████████████████████| 8/8 [00:00<00:00, 12920.46it/s]\n",
      "Expanding unit tpms to all substrate states: 100%|██████████████████████████████████████| 8/8 [00:00<00:00, 1246.68it/s]\n",
      "combining unit tpms: 100%|█████████████████████████████████████████████████████████████| 8/8 [00:00<00:00, 37957.50it/s]\n",
      "Expanding unit tpms to all substrate states: 100%|██████████████████████████████████████| 8/8 [00:00<00:00, 1227.75it/s]\n",
      "combining unit tpms: 100%|█████████████████████████████████████████████████████████████| 8/8 [00:00<00:00, 13389.64it/s]\n",
      "Expanding unit tpms to all substrate states: 100%|██████████████████████████████████████| 8/8 [00:00<00:00, 2451.73it/s]\n",
      "combining unit tpms: 100%|█████████████████████████████████████████████████████████████| 8/8 [00:00<00:00, 25477.93it/s]\n",
      "Expanding unit tpms to all substrate states: 100%|██████████████████████████████████████| 8/8 [00:00<00:00, 1650.65it/s]\n",
      "combining unit tpms: 100%|█████████████████████████████████████████████████████████████| 8/8 [00:00<00:00, 35544.95it/s]\n",
      "Expanding unit tpms to all substrate states: 100%|██████████████████████████████████████| 8/8 [00:00<00:00, 3210.34it/s]\n",
      "combining unit tpms: 100%|█████████████████████████████████████████████████████████████| 8/8 [00:00<00:00, 28926.23it/s]\n",
      "Expanding unit tpms to all substrate states: 100%|██████████████████████████████████████| 8/8 [00:00<00:00, 1398.10it/s]\n",
      "combining unit tpms: 100%|█████████████████████████████████████████████████████████████| 8/8 [00:00<00:00, 40573.68it/s]\n",
      "Expanding unit tpms to all substrate states: 100%|██████████████████████████████████████| 8/8 [00:00<00:00, 1510.10it/s]\n",
      "combining unit tpms: 100%|█████████████████████████████████████████████████████████████| 8/8 [00:00<00:00, 14736.25it/s]\n",
      "Expanding unit tpms to all substrate states: 100%|██████████████████████████████████████| 8/8 [00:00<00:00, 3148.88it/s]\n",
      "combining unit tpms: 100%|█████████████████████████████████████████████████████████████| 8/8 [00:00<00:00, 35320.45it/s]\n",
      "Expanding unit tpms to all substrate states: 100%|██████████████████████████████████████| 8/8 [00:00<00:00, 1585.22it/s]\n",
      "combining unit tpms: 100%|█████████████████████████████████████████████████████████████| 8/8 [00:00<00:00, 15203.64it/s]\n",
      "Expanding unit tpms to all substrate states: 100%|██████████████████████████████████████| 8/8 [00:00<00:00, 2094.80it/s]\n",
      "combining unit tpms: 100%|█████████████████████████████████████████████████████████████| 8/8 [00:00<00:00, 35582.64it/s]\n",
      "Expanding unit tpms to all substrate states: 100%|██████████████████████████████████████| 8/8 [00:00<00:00, 4277.72it/s]\n",
      "combining unit tpms: 100%|█████████████████████████████████████████████████████████████| 8/8 [00:00<00:00, 40524.68it/s]\n",
      "Expanding unit tpms to all substrate states: 100%|██████████████████████████████████████| 8/8 [00:00<00:00, 3785.05it/s]\n",
      "combining unit tpms: 100%|█████████████████████████████████████████████████████████████| 8/8 [00:00<00:00, 11711.84it/s]\n",
      "Expanding unit tpms to all substrate states: 100%|██████████████████████████████████████| 8/8 [00:00<00:00, 2961.03it/s]\n",
      "combining unit tpms: 100%|█████████████████████████████████████████████████████████████| 8/8 [00:00<00:00, 30954.27it/s]\n",
      "Expanding unit tpms to all substrate states: 100%|██████████████████████████████████████| 8/8 [00:00<00:00, 1700.77it/s]\n",
      "combining unit tpms: 100%|█████████████████████████████████████████████████████████████| 8/8 [00:00<00:00, 30897.27it/s]\n",
      "Expanding unit tpms to all substrate states: 100%|██████████████████████████████████████| 8/8 [00:00<00:00, 3150.95it/s]\n",
      "combining unit tpms: 100%|█████████████████████████████████████████████████████████████| 8/8 [00:00<00:00, 35246.25it/s]\n",
      "Expanding unit tpms to all substrate states: 100%|██████████████████████████████████████| 8/8 [00:00<00:00, 4236.14it/s]\n",
      "combining unit tpms: 100%|█████████████████████████████████████████████████████████████| 8/8 [00:00<00:00, 43351.98it/s]\n",
      "Expanding unit tpms to all substrate states: 100%|██████████████████████████████████████| 8/8 [00:00<00:00, 4118.12it/s]\n",
      "combining unit tpms: 100%|█████████████████████████████████████████████████████████████| 8/8 [00:00<00:00, 10180.35it/s]\n",
      "Expanding unit tpms to all substrate states: 100%|██████████████████████████████████████| 8/8 [00:00<00:00, 1260.07it/s]\n",
      "combining unit tpms: 100%|█████████████████████████████████████████████████████████████| 8/8 [00:00<00:00, 42366.71it/s]\n",
      "Expanding unit tpms to all substrate states: 100%|██████████████████████████████████████| 8/8 [00:00<00:00, 4068.19it/s]\n",
      "combining unit tpms: 100%|█████████████████████████████████████████████████████████████| 8/8 [00:00<00:00, 43296.04it/s]\n",
      "Expanding unit tpms to all substrate states: 100%|██████████████████████████████████████| 8/8 [00:00<00:00, 3563.55it/s]\n",
      "combining unit tpms: 100%|█████████████████████████████████████████████████████████████| 8/8 [00:00<00:00, 22265.71it/s]\n",
      "Expanding unit tpms to all substrate states: 100%|██████████████████████████████████████| 8/8 [00:00<00:00, 3524.26it/s]\n",
      "combining unit tpms: 100%|█████████████████████████████████████████████████████████████| 8/8 [00:00<00:00, 14098.50it/s]\n",
      "Expanding unit tpms to all substrate states: 100%|██████████████████████████████████████| 8/8 [00:00<00:00, 4163.08it/s]\n",
      "combining unit tpms: 100%|█████████████████████████████████████████████████████████████| 8/8 [00:00<00:00, 45282.63it/s]\n",
      "Expanding unit tpms to all substrate states: 100%|██████████████████████████████████████| 8/8 [00:00<00:00, 1272.93it/s]\n",
      "combining unit tpms: 100%|█████████████████████████████████████████████████████████████| 8/8 [00:00<00:00, 14814.32it/s]\n",
      "Expanding unit tpms to all substrate states: 100%|██████████████████████████████████████| 8/8 [00:00<00:00, 1298.70it/s]\n",
      "combining unit tpms: 100%|█████████████████████████████████████████████████████████████| 8/8 [00:00<00:00, 10378.73it/s]\n",
      "Expanding unit tpms to all substrate states: 100%|██████████████████████████████████████| 8/8 [00:00<00:00, 1554.96it/s]\n",
      "combining unit tpms: 100%|█████████████████████████████████████████████████████████████| 8/8 [00:00<00:00, 38568.31it/s]\n",
      "Expanding unit tpms to all substrate states: 100%|██████████████████████████████████████| 8/8 [00:00<00:00, 3663.95it/s]\n",
      "combining unit tpms: 100%|█████████████████████████████████████████████████████████████| 8/8 [00:00<00:00, 21129.99it/s]\n",
      "Expanding unit tpms to all substrate states: 100%|██████████████████████████████████████| 8/8 [00:00<00:00, 2973.37it/s]\n",
      "combining unit tpms: 100%|█████████████████████████████████████████████████████████████| 8/8 [00:00<00:00, 26651.65it/s]\n",
      "Expanding unit tpms to all substrate states: 100%|██████████████████████████████████████| 8/8 [00:00<00:00, 3364.19it/s]\n",
      "combining unit tpms: 100%|█████████████████████████████████████████████████████████████| 8/8 [00:00<00:00, 27125.65it/s]\n",
      "Expanding unit tpms to all substrate states: 100%|██████████████████████████████████████| 8/8 [00:00<00:00, 3236.35it/s]\n",
      "combining unit tpms: 100%|█████████████████████████████████████████████████████████████| 8/8 [00:00<00:00, 13590.29it/s]\n",
      "Expanding unit tpms to all substrate states: 100%|██████████████████████████████████████| 8/8 [00:00<00:00, 2063.75it/s]\n",
      "combining unit tpms: 100%|██████████████████████████████████████████████████████████████| 8/8 [00:00<00:00, 8924.05it/s]\n",
      "Expanding unit tpms to all substrate states: 100%|██████████████████████████████████████| 8/8 [00:00<00:00, 2299.35it/s]\n",
      "combining unit tpms: 100%|█████████████████████████████████████████████████████████████| 8/8 [00:00<00:00, 26173.50it/s]\n",
      "Expanding unit tpms to all substrate states: 100%|██████████████████████████████████████| 8/8 [00:00<00:00, 2171.67it/s]\n",
      "combining unit tpms: 100%|█████████████████████████████████████████████████████████████| 8/8 [00:00<00:00, 11962.36it/s]\n",
      "Expanding unit tpms to all substrate states: 100%|██████████████████████████████████████| 8/8 [00:00<00:00, 1466.09it/s]\n",
      "combining unit tpms: 100%|█████████████████████████████████████████████████████████████| 8/8 [00:00<00:00, 32294.93it/s]\n",
      "Expanding unit tpms to all substrate states: 100%|██████████████████████████████████████| 8/8 [00:00<00:00, 3317.29it/s]\n",
      "combining unit tpms: 100%|█████████████████████████████████████████████████████████████| 8/8 [00:00<00:00, 12628.69it/s]\n",
      "Expanding unit tpms to all substrate states: 100%|██████████████████████████████████████| 8/8 [00:00<00:00, 1886.99it/s]\n",
      "combining unit tpms: 100%|█████████████████████████████████████████████████████████████| 8/8 [00:00<00:00, 12851.18it/s]\n",
      "Expanding unit tpms to all substrate states: 100%|██████████████████████████████████████| 8/8 [00:00<00:00, 4525.82it/s]\n",
      "combining unit tpms: 100%|█████████████████████████████████████████████████████████████| 8/8 [00:00<00:00, 51861.56it/s]\n",
      "Expanding unit tpms to all substrate states: 100%|██████████████████████████████████████| 8/8 [00:00<00:00, 4018.98it/s]\n",
      "combining unit tpms: 100%|█████████████████████████████████████████████████████████████| 8/8 [00:00<00:00, 40870.20it/s]\n",
      "Expanding unit tpms to all substrate states: 100%|██████████████████████████████████████| 8/8 [00:00<00:00, 1872.46it/s]\n",
      "combining unit tpms: 100%|█████████████████████████████████████████████████████████████| 8/8 [00:00<00:00, 13876.94it/s]\n",
      "Expanding unit tpms to all substrate states: 100%|██████████████████████████████████████| 8/8 [00:00<00:00, 2170.12it/s]\n",
      "combining unit tpms: 100%|█████████████████████████████████████████████████████████████| 8/8 [00:00<00:00, 41425.22it/s]\n",
      "Expanding unit tpms to all substrate states: 100%|██████████████████████████████████████| 8/8 [00:00<00:00, 4050.02it/s]\n",
      "combining unit tpms: 100%|█████████████████████████████████████████████████████████████| 8/8 [00:00<00:00, 44092.55it/s]\n",
      "Expanding unit tpms to all substrate states: 100%|██████████████████████████████████████| 8/8 [00:00<00:00, 1624.36it/s]\n",
      "combining unit tpms: 100%|█████████████████████████████████████████████████████████████| 8/8 [00:00<00:00, 16001.16it/s]\n",
      "Expanding unit tpms to all substrate states: 100%|██████████████████████████████████████| 8/8 [00:00<00:00, 1730.86it/s]\n",
      "combining unit tpms: 100%|█████████████████████████████████████████████████████████████| 8/8 [00:00<00:00, 10469.40it/s]\n",
      "Expanding unit tpms to all substrate states: 100%|██████████████████████████████████████| 8/8 [00:00<00:00, 1424.70it/s]\n",
      "combining unit tpms: 100%|█████████████████████████████████████████████████████████████| 8/8 [00:00<00:00, 23431.87it/s]\n",
      "Expanding unit tpms to all substrate states: 100%|██████████████████████████████████████| 8/8 [00:00<00:00, 2166.34it/s]\n",
      "combining unit tpms: 100%|█████████████████████████████████████████████████████████████| 8/8 [00:00<00:00, 39803.60it/s]\n",
      "Expanding unit tpms to all substrate states: 100%|██████████████████████████████████████| 8/8 [00:00<00:00, 3973.76it/s]\n",
      "combining unit tpms: 100%|█████████████████████████████████████████████████████████████| 8/8 [00:00<00:00, 41682.52it/s]\n",
      "Expanding unit tpms to all substrate states: 100%|██████████████████████████████████████| 8/8 [00:00<00:00, 4006.50it/s]\n",
      "combining unit tpms: 100%|█████████████████████████████████████████████████████████████| 8/8 [00:00<00:00, 44384.17it/s]\n",
      "Expanding unit tpms to all substrate states: 100%|██████████████████████████████████████| 8/8 [00:00<00:00, 4237.74it/s]\n",
      "combining unit tpms: 100%|█████████████████████████████████████████████████████████████| 8/8 [00:00<00:00, 41221.66it/s]\n",
      "Expanding unit tpms to all substrate states: 100%|██████████████████████████████████████| 8/8 [00:00<00:00, 3345.41it/s]\n",
      "combining unit tpms: 100%|█████████████████████████████████████████████████████████████| 8/8 [00:00<00:00, 18651.71it/s]\n",
      "Expanding unit tpms to all substrate states: 100%|██████████████████████████████████████| 8/8 [00:00<00:00, 1805.65it/s]\n",
      "combining unit tpms: 100%|█████████████████████████████████████████████████████████████| 8/8 [00:00<00:00, 44150.57it/s]\n",
      "Expanding unit tpms to all substrate states: 100%|██████████████████████████████████████| 8/8 [00:00<00:00, 4111.06it/s]\n",
      "combining unit tpms: 100%|█████████████████████████████████████████████████████████████| 8/8 [00:00<00:00, 43464.29it/s]\n",
      "Expanding unit tpms to all substrate states: 100%|██████████████████████████████████████| 8/8 [00:00<00:00, 3921.74it/s]\n",
      "combining unit tpms: 100%|█████████████████████████████████████████████████████████████| 8/8 [00:00<00:00, 40329.85it/s]\n",
      "Expanding unit tpms to all substrate states: 100%|██████████████████████████████████████| 8/8 [00:00<00:00, 3882.72it/s]\n",
      "combining unit tpms: 100%|█████████████████████████████████████████████████████████████| 8/8 [00:00<00:00, 37829.12it/s]\n",
      "Expanding unit tpms to all substrate states: 100%|██████████████████████████████████████| 8/8 [00:00<00:00, 3817.34it/s]\n",
      "combining unit tpms: 100%|█████████████████████████████████████████████████████████████| 8/8 [00:00<00:00, 41020.09it/s]\n",
      "Expanding unit tpms to all substrate states: 100%|██████████████████████████████████████| 8/8 [00:00<00:00, 3231.05it/s]\n",
      "combining unit tpms: 100%|█████████████████████████████████████████████████████████████| 8/8 [00:00<00:00, 39062.20it/s]\n",
      "Expanding unit tpms to all substrate states: 100%|██████████████████████████████████████| 8/8 [00:00<00:00, 3594.48it/s]\n",
      "combining unit tpms: 100%|█████████████████████████████████████████████████████████████| 8/8 [00:00<00:00, 13986.84it/s]\n",
      "Expanding unit tpms to all substrate states: 100%|██████████████████████████████████████| 8/8 [00:00<00:00, 1235.98it/s]\n",
      "combining unit tpms: 100%|██████████████████████████████████████████████████████████████| 8/8 [00:00<00:00, 9155.37it/s]\n",
      "Expanding unit tpms to all substrate states: 100%|██████████████████████████████████████| 8/8 [00:00<00:00, 1189.92it/s]\n",
      "combining unit tpms: 100%|█████████████████████████████████████████████████████████████| 8/8 [00:00<00:00, 39756.44it/s]\n",
      "Expanding unit tpms to all substrate states: 100%|██████████████████████████████████████| 8/8 [00:00<00:00, 3946.19it/s]\n",
      "combining unit tpms: 100%|█████████████████████████████████████████████████████████████| 8/8 [00:00<00:00, 39945.75it/s]\n",
      "Expanding unit tpms to all substrate states: 100%|██████████████████████████████████████| 8/8 [00:00<00:00, 3411.74it/s]\n",
      "combining unit tpms: 100%|█████████████████████████████████████████████████████████████| 8/8 [00:00<00:00, 18446.64it/s]\n",
      "Expanding unit tpms to all substrate states: 100%|██████████████████████████████████████| 8/8 [00:00<00:00, 1433.64it/s]\n",
      "combining unit tpms: 100%|█████████████████████████████████████████████████████████████| 8/8 [00:00<00:00, 41527.76it/s]\n",
      "Expanding unit tpms to all substrate states: 100%|██████████████████████████████████████| 8/8 [00:00<00:00, 4124.19it/s]\n",
      "combining unit tpms: 100%|█████████████████████████████████████████████████████████████| 8/8 [00:00<00:00, 40233.13it/s]\n",
      "Expanding unit tpms to all substrate states: 100%|██████████████████████████████████████| 8/8 [00:00<00:00, 1557.41it/s]\n",
      "combining unit tpms: 100%|█████████████████████████████████████████████████████████████| 8/8 [00:00<00:00, 21183.35it/s]\n",
      "Expanding unit tpms to all substrate states: 100%|██████████████████████████████████████| 8/8 [00:00<00:00, 1398.86it/s]\n",
      "combining unit tpms: 100%|█████████████████████████████████████████████████████████████| 8/8 [00:00<00:00, 13524.56it/s]\n",
      "Expanding unit tpms to all substrate states: 100%|██████████████████████████████████████| 8/8 [00:00<00:00, 1274.19it/s]\n",
      "combining unit tpms: 100%|██████████████████████████████████████████████████████████████| 8/8 [00:00<00:00, 9974.56it/s]\n",
      "Expanding unit tpms to all substrate states: 100%|██████████████████████████████████████| 8/8 [00:00<00:00, 1367.00it/s]\n",
      "combining unit tpms: 100%|█████████████████████████████████████████████████████████████| 8/8 [00:00<00:00, 39153.36it/s]\n",
      "Expanding unit tpms to all substrate states: 100%|██████████████████████████████████████| 8/8 [00:00<00:00, 1355.95it/s]\n",
      "combining unit tpms: 100%|█████████████████████████████████████████████████████████████| 8/8 [00:00<00:00, 34735.44it/s]\n",
      "Expanding unit tpms to all substrate states: 100%|██████████████████████████████████████| 8/8 [00:00<00:00, 3231.36it/s]\n",
      "combining unit tpms: 100%|█████████████████████████████████████████████████████████████| 8/8 [00:00<00:00, 36432.61it/s]\n",
      "Expanding unit tpms to all substrate states: 100%|██████████████████████████████████████| 8/8 [00:00<00:00, 3970.94it/s]\n",
      "combining unit tpms: 100%|█████████████████████████████████████████████████████████████| 8/8 [00:00<00:00, 42853.68it/s]\n",
      "Expanding unit tpms to all substrate states: 100%|██████████████████████████████████████| 8/8 [00:00<00:00, 1319.69it/s]\n",
      "combining unit tpms: 100%|█████████████████████████████████████████████████████████████| 8/8 [00:00<00:00, 47393.27it/s]\n",
      "Expanding unit tpms to all substrate states: 100%|██████████████████████████████████████| 8/8 [00:00<00:00, 4635.23it/s]\n",
      "combining unit tpms: 100%|█████████████████████████████████████████████████████████████| 8/8 [00:00<00:00, 40475.79it/s]\n",
      "Expanding unit tpms to all substrate states: 100%|██████████████████████████████████████| 8/8 [00:00<00:00, 3807.38it/s]\n",
      "combining unit tpms: 100%|█████████████████████████████████████████████████████████████| 8/8 [00:00<00:00, 37957.50it/s]\n",
      "Expanding unit tpms to all substrate states: 100%|██████████████████████████████████████| 8/8 [00:00<00:00, 1280.95it/s]\n",
      "combining unit tpms: 100%|█████████████████████████████████████████████████████████████| 8/8 [00:00<00:00, 43073.73it/s]\n",
      "Expanding unit tpms to all substrate states: 100%|██████████████████████████████████████| 8/8 [00:00<00:00, 1258.79it/s]\n",
      "combining unit tpms: 100%|█████████████████████████████████████████████████████████████| 8/8 [00:00<00:00, 10100.67it/s]\n",
      "Expanding unit tpms to all substrate states: 100%|██████████████████████████████████████| 8/8 [00:00<00:00, 1990.53it/s]\n",
      "combining unit tpms: 100%|█████████████████████████████████████████████████████████████| 8/8 [00:00<00:00, 13309.97it/s]\n",
      "Expanding unit tpms to all substrate states: 100%|██████████████████████████████████████| 8/8 [00:00<00:00, 3895.34it/s]\n",
      "combining unit tpms: 100%|█████████████████████████████████████████████████████████████| 8/8 [00:00<00:00, 45528.40it/s]\n",
      "Expanding unit tpms to all substrate states: 100%|██████████████████████████████████████| 8/8 [00:00<00:00, 3959.69it/s]\n",
      "combining unit tpms: 100%|█████████████████████████████████████████████████████████████| 8/8 [00:00<00:00, 36551.67it/s]\n",
      "Expanding unit tpms to all substrate states: 100%|██████████████████████████████████████| 8/8 [00:00<00:00, 4103.01it/s]\n",
      "combining unit tpms: 100%|█████████████████████████████████████████████████████████████| 8/8 [00:00<00:00, 42527.80it/s]\n",
      "Expanding unit tpms to all substrate states: 100%|██████████████████████████████████████| 8/8 [00:00<00:00, 3974.70it/s]\n",
      "combining unit tpms: 100%|█████████████████████████████████████████████████████████████| 8/8 [00:00<00:00, 42527.80it/s]\n",
      "Expanding unit tpms to all substrate states: 100%|██████████████████████████████████████| 8/8 [00:00<00:00, 1329.63it/s]\n",
      "combining unit tpms: 100%|█████████████████████████████████████████████████████████████| 8/8 [00:00<00:00, 34030.86it/s]\n",
      "Expanding unit tpms to all substrate states: 100%|██████████████████████████████████████| 8/8 [00:00<00:00, 1411.87it/s]\n",
      "combining unit tpms: 100%|█████████████████████████████████████████████████████████████| 8/8 [00:00<00:00, 38304.15it/s]\n",
      "Expanding unit tpms to all substrate states: 100%|██████████████████████████████████████| 8/8 [00:00<00:00, 3754.97it/s]\n",
      "combining unit tpms: 100%|█████████████████████████████████████████████████████████████| 8/8 [00:00<00:00, 14582.54it/s]\n",
      "Expanding unit tpms to all substrate states: 100%|██████████████████████████████████████| 8/8 [00:00<00:00, 1259.31it/s]\n",
      "combining unit tpms: 100%|█████████████████████████████████████████████████████████████| 8/8 [00:00<00:00, 17128.35it/s]\n",
      "Expanding unit tpms to all substrate states: 100%|██████████████████████████████████████| 8/8 [00:00<00:00, 3847.10it/s]\n",
      "combining unit tpms: 100%|█████████████████████████████████████████████████████████████| 8/8 [00:00<00:00, 38791.25it/s]\n",
      "Expanding unit tpms to all substrate states: 100%|██████████████████████████████████████| 8/8 [00:00<00:00, 4035.90it/s]\n",
      "combining unit tpms: 100%|█████████████████████████████████████████████████████████████| 8/8 [00:00<00:00, 37532.92it/s]\n",
      "Expanding unit tpms to all substrate states: 100%|██████████████████████████████████████| 8/8 [00:00<00:00, 3664.35it/s]\n",
      "combining unit tpms: 100%|█████████████████████████████████████████████████████████████| 8/8 [00:00<00:00, 35098.78it/s]\n",
      "Expanding unit tpms to all substrate states: 100%|██████████████████████████████████████| 8/8 [00:00<00:00, 3368.92it/s]\n",
      "combining unit tpms: 100%|█████████████████████████████████████████████████████████████| 8/8 [00:00<00:00, 21263.90it/s]\n",
      "Expanding unit tpms to all substrate states: 100%|██████████████████████████████████████| 8/8 [00:00<00:00, 2432.01it/s]\n",
      "combining unit tpms: 100%|█████████████████████████████████████████████████████████████| 8/8 [00:00<00:00, 14614.30it/s]\n",
      "Expanding unit tpms to all substrate states: 100%|██████████████████████████████████████| 8/8 [00:00<00:00, 1483.86it/s]\n",
      "combining unit tpms: 100%|█████████████████████████████████████████████████████████████| 8/8 [00:00<00:00, 41630.81it/s]\n",
      "Expanding unit tpms to all substrate states: 100%|██████████████████████████████████████| 8/8 [00:00<00:00, 1662.67it/s]\n",
      "combining unit tpms: 100%|█████████████████████████████████████████████████████████████| 8/8 [00:00<00:00, 14376.36it/s]\n",
      "Expanding unit tpms to all substrate states: 100%|██████████████████████████████████████| 8/8 [00:00<00:00, 2093.49it/s]\n",
      "combining unit tpms: 100%|█████████████████████████████████████████████████████████████| 8/8 [00:00<00:00, 41221.66it/s]\n",
      "Expanding unit tpms to all substrate states: 100%|██████████████████████████████████████| 8/8 [00:00<00:00, 1244.19it/s]\n",
      "combining unit tpms: 100%|█████████████████████████████████████████████████████████████| 8/8 [00:00<00:00, 14382.53it/s]\n",
      "Expanding unit tpms to all substrate states: 100%|██████████████████████████████████████| 8/8 [00:00<00:00, 1079.86it/s]\n",
      "combining unit tpms: 100%|█████████████████████████████████████████████████████████████| 8/8 [00:00<00:00, 40672.04it/s]\n",
      "Expanding unit tpms to all substrate states: 100%|██████████████████████████████████████| 8/8 [00:00<00:00, 4057.37it/s]\n",
      "combining unit tpms: 100%|█████████████████████████████████████████████████████████████| 8/8 [00:00<00:00, 50457.79it/s]\n",
      "Expanding unit tpms to all substrate states: 100%|██████████████████████████████████████| 8/8 [00:00<00:00, 3583.34it/s]\n",
      "combining unit tpms: 100%|█████████████████████████████████████████████████████████████| 8/8 [00:00<00:00, 39107.73it/s]\n",
      "Expanding unit tpms to all substrate states: 100%|██████████████████████████████████████| 8/8 [00:00<00:00, 3570.76it/s]\n",
      "combining unit tpms: 100%|█████████████████████████████████████████████████████████████| 8/8 [00:00<00:00, 39062.20it/s]\n",
      "Expanding unit tpms to all substrate states: 100%|██████████████████████████████████████| 8/8 [00:00<00:00, 4548.52it/s]\n",
      "combining unit tpms: 100%|█████████████████████████████████████████████████████████████| 8/8 [00:00<00:00, 43633.85it/s]\n",
      "Expanding unit tpms to all substrate states: 100%|██████████████████████████████████████| 8/8 [00:00<00:00, 4051.00it/s]\n",
      "combining unit tpms: 100%|█████████████████████████████████████████████████████████████| 8/8 [00:00<00:00, 15363.75it/s]\n",
      "Expanding unit tpms to all substrate states: 100%|██████████████████████████████████████| 8/8 [00:00<00:00, 2039.29it/s]\n",
      "combining unit tpms: 100%|█████████████████████████████████████████████████████████████| 8/8 [00:00<00:00, 13320.54it/s]\n",
      "Expanding unit tpms to all substrate states: 100%|██████████████████████████████████████| 8/8 [00:00<00:00, 1265.87it/s]\n",
      "combining unit tpms: 100%|██████████████████████████████████████████████████████████████| 8/8 [00:00<00:00, 9608.94it/s]\n",
      "Expanding unit tpms to all substrate states: 100%|██████████████████████████████████████| 8/8 [00:00<00:00, 1581.64it/s]\n",
      "combining unit tpms: 100%|█████████████████████████████████████████████████████████████| 8/8 [00:00<00:00, 10485.76it/s]\n",
      "Expanding unit tpms to all substrate states: 100%|██████████████████████████████████████| 8/8 [00:00<00:00, 4454.92it/s]\n",
      "combining unit tpms: 100%|█████████████████████████████████████████████████████████████| 8/8 [00:00<00:00, 40770.88it/s]\n",
      "Expanding unit tpms to all substrate states: 100%|██████████████████████████████████████| 8/8 [00:00<00:00, 3990.77it/s]\n",
      "combining unit tpms: 100%|█████████████████████████████████████████████████████████████| 8/8 [00:00<00:00, 15307.68it/s]\n",
      "Expanding unit tpms to all substrate states: 100%|██████████████████████████████████████| 8/8 [00:00<00:00, 1391.78it/s]\n",
      "combining unit tpms: 100%|█████████████████████████████████████████████████████████████| 8/8 [00:00<00:00, 43464.29it/s]\n",
      "Expanding unit tpms to all substrate states: 100%|██████████████████████████████████████| 8/8 [00:00<00:00, 4171.88it/s]\n",
      "combining unit tpms: 100%|█████████████████████████████████████████████████████████████| 8/8 [00:00<00:00, 46863.73it/s]\n",
      "Expanding unit tpms to all substrate states: 100%|██████████████████████████████████████| 8/8 [00:00<00:00, 4240.95it/s]\n",
      "combining unit tpms: 100%|█████████████████████████████████████████████████████████████| 8/8 [00:00<00:00, 13405.69it/s]\n",
      "Expanding unit tpms to all substrate states: 100%|██████████████████████████████████████| 8/8 [00:00<00:00, 1312.98it/s]\n",
      "combining unit tpms: 100%|█████████████████████████████████████████████████████████████| 8/8 [00:00<00:00, 37158.84it/s]\n",
      "Expanding unit tpms to all substrate states: 100%|██████████████████████████████████████| 8/8 [00:00<00:00, 3967.65it/s]\n",
      "combining unit tpms: 100%|█████████████████████████████████████████████████████████████| 8/8 [00:00<00:00, 42744.50it/s]\n",
      "Expanding unit tpms to all substrate states: 100%|██████████████████████████████████████| 8/8 [00:00<00:00, 3786.33it/s]\n",
      "combining unit tpms: 100%|██████████████████████████████████████████████████████████████| 8/8 [00:00<00:00, 7885.88it/s]\n",
      "Expanding unit tpms to all substrate states: 100%|██████████████████████████████████████| 8/8 [00:00<00:00, 1356.28it/s]\n",
      "combining unit tpms: 100%|█████████████████████████████████████████████████████████████| 8/8 [00:00<00:00, 39709.39it/s]\n",
      "Expanding unit tpms to all substrate states: 100%|██████████████████████████████████████| 8/8 [00:00<00:00, 3995.53it/s]\n",
      "combining unit tpms: 100%|█████████████████████████████████████████████████████████████| 8/8 [00:00<00:00, 41476.43it/s]\n",
      "Expanding unit tpms to all substrate states: 100%|██████████████████████████████████████| 8/8 [00:00<00:00, 3564.31it/s]\n",
      "combining unit tpms: 100%|█████████████████████████████████████████████████████████████| 8/8 [00:00<00:00, 38043.57it/s]\n",
      "Expanding unit tpms to all substrate states: 100%|██████████████████████████████████████| 8/8 [00:00<00:00, 3507.68it/s]\n",
      "combining unit tpms: 100%|█████████████████████████████████████████████████████████████| 8/8 [00:00<00:00, 43018.50it/s]\n",
      "Expanding unit tpms to all substrate states: 100%|██████████████████████████████████████| 8/8 [00:00<00:00, 4074.12it/s]\n",
      "combining unit tpms: 100%|█████████████████████████████████████████████████████████████| 8/8 [00:00<00:00, 42153.81it/s]\n",
      "Expanding unit tpms to all substrate states: 100%|██████████████████████████████████████| 8/8 [00:00<00:00, 4530.10it/s]\n",
      "combining unit tpms: 100%|█████████████████████████████████████████████████████████████| 8/8 [00:00<00:00, 36314.32it/s]\n",
      "Expanding unit tpms to all substrate states: 100%|██████████████████████████████████████| 8/8 [00:00<00:00, 3674.38it/s]\n",
      "combining unit tpms: 100%|█████████████████████████████████████████████████████████████| 8/8 [00:00<00:00, 39383.14it/s]\n",
      "Expanding unit tpms to all substrate states: 100%|██████████████████████████████████████| 8/8 [00:00<00:00, 1304.66it/s]\n",
      "combining unit tpms: 100%|█████████████████████████████████████████████████████████████| 8/8 [00:00<00:00, 46668.19it/s]\n",
      "Expanding unit tpms to all substrate states: 100%|██████████████████████████████████████| 8/8 [00:00<00:00, 4375.33it/s]\n",
      "combining unit tpms: 100%|█████████████████████████████████████████████████████████████| 8/8 [00:00<00:00, 39522.30it/s]\n",
      "Expanding unit tpms to all substrate states: 100%|██████████████████████████████████████| 8/8 [00:00<00:00, 1775.93it/s]\n",
      "combining unit tpms: 100%|█████████████████████████████████████████████████████████████| 8/8 [00:00<00:00, 32896.50it/s]\n",
      "Expanding unit tpms to all substrate states: 100%|██████████████████████████████████████| 8/8 [00:00<00:00, 3066.57it/s]\n",
      "combining unit tpms: 100%|█████████████████████████████████████████████████████████████| 8/8 [00:00<00:00, 13513.67it/s]\n",
      "Expanding unit tpms to all substrate states: 100%|██████████████████████████████████████| 8/8 [00:00<00:00, 1433.71it/s]\n",
      "combining unit tpms: 100%|█████████████████████████████████████████████████████████████| 8/8 [00:00<00:00, 41070.30it/s]\n",
      "Expanding unit tpms to all substrate states: 100%|██████████████████████████████████████| 8/8 [00:00<00:00, 4035.41it/s]\n",
      "combining unit tpms: 100%|█████████████████████████████████████████████████████████████| 8/8 [00:00<00:00, 38926.26it/s]\n",
      "Expanding unit tpms to all substrate states: 100%|██████████████████████████████████████| 8/8 [00:00<00:00, 3515.39it/s]\n",
      "combining unit tpms: 100%|█████████████████████████████████████████████████████████████| 8/8 [00:00<00:00, 13148.29it/s]\n",
      "Expanding unit tpms to all substrate states: 100%|██████████████████████████████████████| 8/8 [00:00<00:00, 1411.57it/s]\n",
      "combining unit tpms: 100%|█████████████████████████████████████████████████████████████| 8/8 [00:00<00:00, 47060.91it/s]\n",
      "Expanding unit tpms to all substrate states: 100%|██████████████████████████████████████| 8/8 [00:00<00:00, 4032.98it/s]\n",
      "combining unit tpms: 100%|█████████████████████████████████████████████████████████████| 8/8 [00:00<00:00, 48003.48it/s]\n",
      "Expanding unit tpms to all substrate states: 100%|██████████████████████████████████████| 8/8 [00:00<00:00, 3817.78it/s]\n",
      "combining unit tpms: 100%|█████████████████████████████████████████████████████████████| 8/8 [00:00<00:00, 37914.61it/s]\n",
      "Expanding unit tpms to all substrate states: 100%|██████████████████████████████████████| 8/8 [00:00<00:00, 3790.60it/s]\n",
      "combining unit tpms: 100%|█████████████████████████████████████████████████████████████| 8/8 [00:00<00:00, 43804.74it/s]\n",
      "Expanding unit tpms to all substrate states: 100%|██████████████████████████████████████| 8/8 [00:00<00:00, 1334.23it/s]\n",
      "combining unit tpms: 100%|█████████████████████████████████████████████████████████████| 8/8 [00:00<00:00, 10665.74it/s]\n",
      "Expanding unit tpms to all substrate states: 100%|██████████████████████████████████████| 8/8 [00:00<00:00, 4128.76it/s]\n",
      "combining unit tpms: 100%|██████████████████████████████████████████████████████████████| 8/8 [00:00<00:00, 9695.01it/s]\n",
      "Expanding unit tpms to all substrate states: 100%|██████████████████████████████████████| 8/8 [00:00<00:00, 1672.37it/s]\n",
      "combining unit tpms: 100%|██████████████████████████████████████████████████████████████| 8/8 [00:00<00:00, 9130.46it/s]\n",
      "Expanding unit tpms to all substrate states: 100%|██████████████████████████████████████| 8/8 [00:00<00:00, 1317.51it/s]\n",
      "combining unit tpms: 100%|█████████████████████████████████████████████████████████████| 8/8 [00:00<00:00, 14413.42it/s]\n",
      "Expanding unit tpms to all substrate states: 100%|██████████████████████████████████████| 8/8 [00:00<00:00, 1297.49it/s]\n",
      "combining unit tpms: 100%|█████████████████████████████████████████████████████████████| 8/8 [00:00<00:00, 14729.78it/s]\n"
     ]
    }
   ],
   "source": [
    "substrates = {\n",
    "    substrate_state: nb.Substrate(wiki_units, substrate_state)\n",
    "    for substrate_state in pyphi.utils.all_states(len(units))\n",
    "}"
   ]
  },
  {
   "cell_type": "code",
   "execution_count": null,
   "id": "4e534e10-f91a-4f41-9ef3-86d80b97f96f",
   "metadata": {},
   "outputs": [],
   "source": []
  },
  {
   "cell_type": "code",
   "execution_count": null,
   "id": "c1b8cc09-7c8a-45c9-8489-c5556292a1e9",
   "metadata": {},
   "outputs": [],
   "source": []
  },
  {
   "cell_type": "code",
   "execution_count": null,
   "id": "01afcffa-ef7f-4576-a1c7-9053d4fd2e92",
   "metadata": {},
   "outputs": [],
   "source": []
  },
  {
   "cell_type": "code",
   "execution_count": null,
   "id": "fabb9c66-be13-4fc0-bb9f-55f947c9c92b",
   "metadata": {},
   "outputs": [],
   "source": []
  },
  {
   "cell_type": "code",
   "execution_count": null,
   "id": "adc18996-7ceb-4aa3-85ec-d65ab691c261",
   "metadata": {},
   "outputs": [],
   "source": []
  },
  {
   "cell_type": "code",
   "execution_count": 140,
   "id": "253e0367-30e0-44f9-ae1e-b433f2db547a",
   "metadata": {},
   "outputs": [
    {
     "data": {
      "text/plain": [
       "Substrate(I1|I2|I3|A|B|C|D|O in state 00000000)"
      ]
     },
     "execution_count": 140,
     "metadata": {},
     "output_type": "execute_result"
    }
   ],
   "source": [
    "substrates[(0,)*8]"
   ]
  },
  {
   "cell_type": "code",
   "execution_count": 141,
   "id": "2b3cbdab-eed9-4322-aaf0-f82f6da773f1",
   "metadata": {},
   "outputs": [],
   "source": [
    "import numpy as np\n",
    "def simulate_substrates(substrates,initial_state,timesteps):\n",
    "    \n",
    "    rng = np.random.default_rng(0)\n",
    "    states = [initial_state]\n",
    "    \n",
    "    for t in range(timesteps):\n",
    "        P_next = substrates[states[-1]].tpm[states[-1]]\n",
    "        comparison = rng.random(len(initial_state))\n",
    "        \n",
    "        states.append(tuple([1 if P>c else 0 for P,c in zip(P_next, comparison)]))\n",
    "    \n",
    "    return states\n",
    "    "
   ]
  },
  {
   "cell_type": "code",
   "execution_count": 142,
   "id": "29a780d2-df81-4755-97ae-5c8d85479af7",
   "metadata": {},
   "outputs": [],
   "source": [
    "states = simulate_substrates(substrates,(0,)*8,100)"
   ]
  },
  {
   "cell_type": "code",
   "execution_count": 143,
   "id": "a096c721-bc3a-4be3-bf92-edf933ec2af0",
   "metadata": {},
   "outputs": [
    {
     "data": {
      "image/png": "[encoded data removed]",
      "text/plain": [
       "<Figure size 1800x360 with 1 Axes>"
      ]
     },
     "metadata": {
      "needs_background": "light"
     },
     "output_type": "display_data"
    }
   ],
   "source": [
    "state_array = np.array([list(s) for s in states])\n",
    "plt.figure(figsize=(25,5))\n",
    "plt.imshow(state_array.T,aspect='auto',interpolation= 'none')\n",
    "plt.title('Example dynamics of the substrate')\n",
    "plt.ylabel('Substrate state')\n",
    "plt.xlabel('Time')\n",
    "plt.show()"
   ]
  },
  {
   "cell_type": "markdown",
   "id": "8cd7bea7-3420-48e2-9bae-2999a208e998",
   "metadata": {},
   "source": [
    "## Unfold example substrates"
   ]
  },
  {
   "cell_type": "code",
   "execution_count": 144,
   "id": "4900c328-f773-4eca-9deb-95f6cfe0fff7",
   "metadata": {},
   "outputs": [],
   "source": [
    "state1 = (0,1,0,0,1,0,1,1) #single input on \n",
    "system_nodes = (3,4,5,6)"
   ]
  },
  {
   "cell_type": "code",
   "execution_count": 145,
   "id": "18f7b83a-c221-44a6-b881-15b55e3af7ef",
   "metadata": {},
   "outputs": [],
   "source": [
    "network = substrates[state1].get_network()\n",
    "subsystem = pyphi.subsystem.Subsystem(network,state1,nodes=system_nodes)"
   ]
  },
  {
   "cell_type": "code",
   "execution_count": 146,
   "id": "9181df4f-188a-4dd6-b7ee-c0ce2e7d7587",
   "metadata": {},
   "outputs": [],
   "source": [
    "distinctions = pyphi.big_phi.CauseEffectStructure(\n",
    "    [\n",
    "        subsystem.concept(m)\n",
    "        for m in pyphi.utils.powerset(subsystem.node_indices, nonempty=True)\n",
    "    ],\n",
    "    subsystem=subsystem,\n",
    ")"
   ]
  },
  {
   "cell_type": "code",
   "execution_count": 147,
   "id": "5cab089f-7964-48dc-8266-a6edbb3dd5f7",
   "metadata": {},
   "outputs": [
    {
     "data": {
      "application/vnd.jupyter.widget-view+json": {
       "model_id": "f9440073d91c472dab63b1d8e3e730c2",
       "version_major": 2,
       "version_minor": 0
      },
      "text/plain": [
       "Submitting possible relations: 0it [00:00, ?it/s]"
      ]
     },
     "metadata": {},
     "output_type": "display_data"
    },
    {
     "data": {
      "application/vnd.jupyter.widget-view+json": {
       "model_id": "cd6adc33c4bc425d8019cd68ee7b820f",
       "version_major": 2,
       "version_minor": 0
      },
      "text/plain": [
       "Evaluating possible relations: 0it [00:00, ?it/s]"
      ]
     },
     "metadata": {},
     "output_type": "display_data"
    }
   ],
   "source": [
    "relations = pyphi.relations.concrete_relations(subsystem,distinctions,max_degree=3)"
   ]
  },
  {
   "cell_type": "code",
   "execution_count": 148,
   "id": "2ccbe768-50ba-47a3-ab8e-6aca57af0568",
   "metadata": {},
   "outputs": [],
   "source": [
    "PS = pyphi.big_phi.PhiStructure(distinctions, relations)"
   ]
  },
  {
   "cell_type": "code",
   "execution_count": 149,
   "id": "1972fdbc-5386-4746-96c2-4f863c02f99d",
   "metadata": {},
   "outputs": [
    {
     "data": {
      "text/plain": [
       "8.726204069711494e-07"
      ]
     },
     "execution_count": 149,
     "metadata": {},
     "output_type": "execute_result"
    }
   ],
   "source": [
    "PS.system_intrinsic_information()"
   ]
  },
  {
   "cell_type": "code",
   "execution_count": 150,
   "id": "25d4bc8d-0ad2-45be-a8de-85e55111e7b4",
   "metadata": {},
   "outputs": [
    {
     "data": {
      "text/plain": [
       "════════════════════════════════════\n",
       "           Phi-structure            \n",
       "════════════════════════════════════\n",
       "Distinctions: 15                    \n",
       "   Relations: 89                    \n",
       "        Σφ_d:  0.182635773178       \n",
       "        Σφ_r:  0.04155830919626828  \n",
       "          Σφ:  0.2241940823742683   \n",
       " Selectivity:  3.892254415147327e-06\n",
       "      S.I.I.:  8.726204069711494e-07\n",
       "   Subsystem: (A, B, C, D)          "
      ]
     },
     "execution_count": 150,
     "metadata": {},
     "output_type": "execute_result"
    }
   ],
   "source": [
    "PS"
   ]
  },
  {
   "cell_type": "code",
   "execution_count": 151,
   "id": "c27ea6eb-c4e9-4d8b-8007-90601c4a4d5f",
   "metadata": {},
   "outputs": [],
   "source": [
    "from utils import ces2df"
   ]
  },
  {
   "cell_type": "code",
   "execution_count": 152,
   "id": "4bba069d-3b1c-4e96-90fd-6bae8ecac721",
   "metadata": {},
   "outputs": [
    {
     "data": {
      "text/html": [
       "<div>\n",
       "<style scoped>\n",
       "    .dataframe tbody tr th:only-of-type {\n",
       "        vertical-align: middle;\n",
       "    }\n",
       "\n",
       "    .dataframe tbody tr th {\n",
       "        vertical-align: top;\n",
       "    }\n",
       "\n",
       "    .dataframe thead th {\n",
       "        text-align: right;\n",
       "    }\n",
       "</style>\n",
       "<table border=\"1\" class=\"dataframe\">\n",
       "  <thead>\n",
       "    <tr style=\"text-align: right;\">\n",
       "      <th></th>\n",
       "      <th>mechanism</th>\n",
       "      <th>phi</th>\n",
       "      <th>cause_purview</th>\n",
       "      <th>cause_state</th>\n",
       "      <th>cause_phi</th>\n",
       "      <th>effect_purview</th>\n",
       "      <th>effect_state</th>\n",
       "      <th>effect_phi</th>\n",
       "    </tr>\n",
       "  </thead>\n",
       "  <tbody>\n",
       "    <tr>\n",
       "      <th>0</th>\n",
       "      <td>A</td>\n",
       "      <td>0.057496</td>\n",
       "      <td>AC</td>\n",
       "      <td>00</td>\n",
       "      <td>0.057496</td>\n",
       "      <td>D</td>\n",
       "      <td>0</td>\n",
       "      <td>0.160524</td>\n",
       "    </tr>\n",
       "    <tr>\n",
       "      <th>1</th>\n",
       "      <td>B</td>\n",
       "      <td>0.024458</td>\n",
       "      <td>C</td>\n",
       "      <td>1</td>\n",
       "      <td>0.024458</td>\n",
       "      <td>D</td>\n",
       "      <td>1</td>\n",
       "      <td>0.220337</td>\n",
       "    </tr>\n",
       "    <tr>\n",
       "      <th>2</th>\n",
       "      <td>C</td>\n",
       "      <td>0.034381</td>\n",
       "      <td>AC</td>\n",
       "      <td>00</td>\n",
       "      <td>0.057496</td>\n",
       "      <td>C</td>\n",
       "      <td>0</td>\n",
       "      <td>0.034381</td>\n",
       "    </tr>\n",
       "    <tr>\n",
       "      <th>3</th>\n",
       "      <td>D</td>\n",
       "      <td>0.000000</td>\n",
       "      <td>B</td>\n",
       "      <td>1</td>\n",
       "      <td>0.160517</td>\n",
       "      <td>B</td>\n",
       "      <td>0\\n1</td>\n",
       "      <td>0.000000</td>\n",
       "    </tr>\n",
       "    <tr>\n",
       "      <th>4</th>\n",
       "      <td>AB</td>\n",
       "      <td>0.007035</td>\n",
       "      <td>C</td>\n",
       "      <td>0</td>\n",
       "      <td>0.020525</td>\n",
       "      <td>D</td>\n",
       "      <td>1</td>\n",
       "      <td>0.007035</td>\n",
       "    </tr>\n",
       "    <tr>\n",
       "      <th>5</th>\n",
       "      <td>AC</td>\n",
       "      <td>0.049496</td>\n",
       "      <td>AC</td>\n",
       "      <td>00</td>\n",
       "      <td>0.061983</td>\n",
       "      <td>C</td>\n",
       "      <td>0</td>\n",
       "      <td>0.049496</td>\n",
       "    </tr>\n",
       "    <tr>\n",
       "      <th>6</th>\n",
       "      <td>AD</td>\n",
       "      <td>0.000000</td>\n",
       "      <td>A</td>\n",
       "      <td>1</td>\n",
       "      <td>0.030517</td>\n",
       "      <td>C</td>\n",
       "      <td>0</td>\n",
       "      <td>0.000000</td>\n",
       "    </tr>\n",
       "    <tr>\n",
       "      <th>7</th>\n",
       "      <td>BC</td>\n",
       "      <td>0.003312</td>\n",
       "      <td>C</td>\n",
       "      <td>0</td>\n",
       "      <td>0.020525</td>\n",
       "      <td>B</td>\n",
       "      <td>0</td>\n",
       "      <td>0.003312</td>\n",
       "    </tr>\n",
       "    <tr>\n",
       "      <th>8</th>\n",
       "      <td>BD</td>\n",
       "      <td>0.000000</td>\n",
       "      <td>A</td>\n",
       "      <td>1</td>\n",
       "      <td>0.018418</td>\n",
       "      <td>C</td>\n",
       "      <td>1</td>\n",
       "      <td>0.000000</td>\n",
       "    </tr>\n",
       "    <tr>\n",
       "      <th>9</th>\n",
       "      <td>CD</td>\n",
       "      <td>0.000000</td>\n",
       "      <td>A</td>\n",
       "      <td>1</td>\n",
       "      <td>0.030517</td>\n",
       "      <td>ACD</td>\n",
       "      <td>001</td>\n",
       "      <td>0.000000</td>\n",
       "    </tr>\n",
       "    <tr>\n",
       "      <th>10</th>\n",
       "      <td>ABC</td>\n",
       "      <td>0.006457</td>\n",
       "      <td>AC</td>\n",
       "      <td>00</td>\n",
       "      <td>0.022357</td>\n",
       "      <td>BD</td>\n",
       "      <td>01</td>\n",
       "      <td>0.006457</td>\n",
       "    </tr>\n",
       "    <tr>\n",
       "      <th>11</th>\n",
       "      <td>ABD</td>\n",
       "      <td>0.000000</td>\n",
       "      <td>A</td>\n",
       "      <td>1</td>\n",
       "      <td>0.012582</td>\n",
       "      <td>D</td>\n",
       "      <td>1</td>\n",
       "      <td>0.000000</td>\n",
       "    </tr>\n",
       "    <tr>\n",
       "      <th>12</th>\n",
       "      <td>ACD</td>\n",
       "      <td>0.000000</td>\n",
       "      <td>A</td>\n",
       "      <td>1</td>\n",
       "      <td>0.030752</td>\n",
       "      <td>D</td>\n",
       "      <td>0</td>\n",
       "      <td>0.000000</td>\n",
       "    </tr>\n",
       "    <tr>\n",
       "      <th>13</th>\n",
       "      <td>BCD</td>\n",
       "      <td>0.000000</td>\n",
       "      <td>A</td>\n",
       "      <td>1</td>\n",
       "      <td>0.012582</td>\n",
       "      <td>ABCD</td>\n",
       "      <td>1101\\n0111</td>\n",
       "      <td>0.000000</td>\n",
       "    </tr>\n",
       "    <tr>\n",
       "      <th>14</th>\n",
       "      <td>ABCD</td>\n",
       "      <td>0.000000</td>\n",
       "      <td>A</td>\n",
       "      <td>1</td>\n",
       "      <td>0.012701</td>\n",
       "      <td>D</td>\n",
       "      <td>1</td>\n",
       "      <td>0.000000</td>\n",
       "    </tr>\n",
       "  </tbody>\n",
       "</table>\n",
       "</div>"
      ],
      "text/plain": [
       "   mechanism       phi cause_purview cause_state  cause_phi effect_purview  \\\n",
       "0          A  0.057496            AC          00   0.057496              D   \n",
       "1          B  0.024458             C           1   0.024458              D   \n",
       "2          C  0.034381            AC          00   0.057496              C   \n",
       "3          D  0.000000             B           1   0.160517              B   \n",
       "4         AB  0.007035             C           0   0.020525              D   \n",
       "5         AC  0.049496            AC          00   0.061983              C   \n",
       "6         AD  0.000000             A           1   0.030517              C   \n",
       "7         BC  0.003312             C           0   0.020525              B   \n",
       "8         BD  0.000000             A           1   0.018418              C   \n",
       "9         CD  0.000000             A           1   0.030517            ACD   \n",
       "10       ABC  0.006457            AC          00   0.022357             BD   \n",
       "11       ABD  0.000000             A           1   0.012582              D   \n",
       "12       ACD  0.000000             A           1   0.030752              D   \n",
       "13       BCD  0.000000             A           1   0.012582           ABCD   \n",
       "14      ABCD  0.000000             A           1   0.012701              D   \n",
       "\n",
       "   effect_state  effect_phi  \n",
       "0             0    0.160524  \n",
       "1             1    0.220337  \n",
       "2             0    0.034381  \n",
       "3          0\\n1    0.000000  \n",
       "4             1    0.007035  \n",
       "5             0    0.049496  \n",
       "6             0    0.000000  \n",
       "7             0    0.003312  \n",
       "8             1    0.000000  \n",
       "9           001    0.000000  \n",
       "10           01    0.006457  \n",
       "11            1    0.000000  \n",
       "12            0    0.000000  \n",
       "13   1101\\n0111    0.000000  \n",
       "14            1    0.000000  "
      ]
     },
     "execution_count": 152,
     "metadata": {},
     "output_type": "execute_result"
    }
   ],
   "source": [
    "ces2df(PS.distinctions, subsystem, csv_name=None)"
   ]
  },
  {
   "cell_type": "code",
   "execution_count": null,
   "id": "514b94af-bd13-4bb2-af6a-203f78e47d8e",
   "metadata": {},
   "outputs": [],
   "source": []
  }
 ],
 "metadata": {
  "kernelspec": {
   "display_name": "Python 3 (ipykernel)",
   "language": "python",
   "name": "python3"
  },
  "language_info": {
   "codemirror_mode": {
    "name": "ipython",
    "version": 3
   },
   "file_extension": ".py",
   "mimetype": "text/x-python",
   "name": "python",
   "nbconvert_exporter": "python",
   "pygments_lexer": "ipython3",
   "version": "3.10.9"
  }
 },
 "nbformat": 4,
 "nbformat_minor": 5
}
