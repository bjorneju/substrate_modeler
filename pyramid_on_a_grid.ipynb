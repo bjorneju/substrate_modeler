{
 "cells": [
  {
   "cell_type": "markdown",
   "id": "6eb3fee5-f1d4-4634-8b48-a2c357bb890c",
   "metadata": {
    "tags": []
   },
   "source": [
    "# main.ipynb\n",
    "A notebook designing the substrate for the matching system"
   ]
  },
  {
   "cell_type": "code",
   "execution_count": 21,
   "id": "7787a132-5713-4221-8ae9-9c5e93b05b96",
   "metadata": {
    "tags": []
   },
   "outputs": [
    {
     "name": "stdout",
     "output_type": "stream",
     "text": [
      "The autoreload extension is already loaded. To reload it, use:\n",
      "  %reload_ext autoreload\n",
      "The blackcellmagic extension is already loaded. To reload it, use:\n",
      "  %reload_ext blackcellmagic\n"
     ]
    }
   ],
   "source": [
    "%load_ext autoreload\n",
    "%autoreload 2\n",
    "%load_ext blackcellmagic"
   ]
  },
  {
   "cell_type": "code",
   "execution_count": 22,
   "id": "70c6b3eb-ab65-47a6-9fdd-216c9961d757",
   "metadata": {
    "tags": []
   },
   "outputs": [],
   "source": [
    "import pyphi\n",
    "from substrate_modeler import unit, substrate\n",
    "from matching.utils.convert import ces2df\n",
    "\n",
    "from tqdm.auto import tqdm\n",
    "import numpy as np\n",
    "from matplotlib import pyplot as plt\n",
    "import pickle"
   ]
  },
  {
   "cell_type": "code",
   "execution_count": 23,
   "id": "743e0df0-cb85-4d12-a929-e2d3d6a9211a",
   "metadata": {
    "tags": []
   },
   "outputs": [],
   "source": [
    "pyphi.compute.parallel.init(address='144.92.2.41:99990')"
   ]
  },
  {
   "cell_type": "code",
   "execution_count": 25,
   "id": "e132f8a5-098c-4c99-ba6a-8dcf1a627465",
   "metadata": {
    "tags": []
   },
   "outputs": [],
   "source": [
    "pyphi.config.PROGRESS_BARS = False"
   ]
  },
  {
   "cell_type": "markdown",
   "id": "9960506c-388f-4863-bc07-f3d36fec06e6",
   "metadata": {},
   "source": [
    "## Build substrate"
   ]
  },
  {
   "cell_type": "markdown",
   "id": "49facbc2-1969-4b63-913c-a53f52306fc7",
   "metadata": {},
   "source": [
    "\n",
    "- LGN->V1: paralell inputs, mismatch detector\n",
    "- within V1: Grid with self loop and lateral excitation that gets weaker with distance. units always help eachother maintain their states\n",
    "- V1->V2: contiguity detector\n",
    "- within V2: self loop (only a single detector)\n",
    "- V2->V1: state-dependent modulation (if ON: shift threshold to the left; if OFF: shift threshold to the right)"
   ]
  },
  {
   "cell_type": "code",
   "execution_count": 5,
   "id": "1c0ae92a-d677-4efe-ba2a-e9967a894c35",
   "metadata": {
    "tags": []
   },
   "outputs": [],
   "source": [
    "input_layer = [\"L1\", \"L2\", \"L3\", \"L4\", \"L5\", \"L6\", \"L7\", \"L8\", \"L9\"] \n",
    "layer_1 = [\"A\", \"B\", \"C\", \"D\", \"E\", \"F\", \"G\", \"H\", \"I\"] \n",
    "layer_2 = [\"BCD\", \"CDE\", \"DEF\", \"EFG\"] \n",
    "Layer_3 = [\"V3\"]\n",
    "\n",
    "labels = input_layer + layer_1 + layer_2 + Layer_3\n",
    "N = len(labels)\n",
    "M = len(input_layer)"
   ]
  },
  {
   "cell_type": "markdown",
   "id": "d5848e61-98df-41fe-ab80-4ecd935af8f3",
   "metadata": {},
   "source": [
    "### Define LGN units\n",
    "Each unit in the LGN has a self loop, and no other inputs. THey are modeled as simple sigmoids with a relatively low determinism. They will be outside the main entity anyways."
   ]
  },
  {
   "cell_type": "code",
   "execution_count": 6,
   "id": "a5eebdbf-e12a-4268-9f14-28201323a4d4",
   "metadata": {
    "tags": []
   },
   "outputs": [],
   "source": [
    "# parameters for LGN sigmoid\n",
    "LGN_determinism = 3\n",
    "LGN_threshold = 0.5\n",
    "LGN_floor = 0.0\n",
    "LGN_ceiling = 1.0\n",
    "\n",
    "LGN_weights = [1.0]\n",
    "\n",
    "# create the basic unit, which will be used to define each of the LGN units in our substrate. Thwy will just vary with regards to from whom they receive inputs, their label, and their index (see below)\n",
    "LGN_unit = dict(\n",
    "        input_weights=LGN_weights,\n",
    "        determinism=LGN_determinism,\n",
    "        threshold=LGN_threshold,\n",
    "        floor=LGN_floor,\n",
    "        ceiling=LGN_ceiling,\n",
    "        ising = False\n",
    "    )\n",
    "\n",
    "# build the LGN units\n",
    "LGN = [\n",
    "    unit.Unit(\n",
    "        index=i,\n",
    "        label=labels[i],\n",
    "        inputs=(i,),\n",
    "        mechanism=\"sigmoid\",\n",
    "        params=LGN_unit,\n",
    "        state=(0,),\n",
    "        input_state =(0,)\n",
    "    )\n",
    "    for i in range(M)\n",
    "]\n",
    "\n",
    "# We now have a list of five identical (except their labels, inputs and indices) units that will form our input layer"
   ]
  },
  {
   "cell_type": "markdown",
   "id": "29bbb9a1-1b9f-4d46-ae1d-223e9dd4298d",
   "metadata": {},
   "source": [
    "### Define V1 units\n",
    "V1 units are composed of two mechanisms, and they are modulated by V2.\n",
    "\n",
    "First, they function as mismatch detectors with regards to the input from LGN. This means that they will be very strongly affected by inputs from the LGN if the LGN input is in a different state than the current state of the V1 unit. However, the LGN input has no effect on the state of the V1 unit if they are in the same state.\n",
    "\n",
    "Second, the V1 units implement a function inspired by (or hypothesized to be found in) neocortex. Basically, units receive inputs from their (near and far) neighbors (strength dependent on distance, for example), but regardless off the states of the units, the inputs always contribut to keeping the V1 unit in its current state. This is implemented using a simple sigmoid function, where the inputs are coded using ising states and the sign of the connection weights depend on the states of the V1unit and the inputs. If the V1 unit and its input is in the same state, the input will be positive, but if they are in oposite states they will be engative (and weaker?).\n",
    "\n",
    "Finally, the sigmoids are modulated by top down V2 input. The modulation is such that the threshold of the sigmoid is shifted depending on the state of the unit. If the unit is ON, then the threshold is shifted to the left (essentially increasing probability of firing). And oopposite for OFF"
   ]
  },
  {
   "cell_type": "code",
   "execution_count": 7,
   "id": "f89c7fee-87a6-4347-92e1-1eb6cebfdead",
   "metadata": {
    "tags": []
   },
   "outputs": [],
   "source": [
    "# parameters for sigmoidal subunit\n",
    "\n",
    "# V1_determinism = 4\n",
    "V1_determinism = 1\n",
    "\n",
    "V1_threshold = 0.0\n",
    "V1_floor = 0.01\n",
    "V1_ceiling = 0.99\n",
    "\n",
    "# define mapping to scale weight based on (unit_state, input_state)\n",
    "V1_weight_scale_mapping = {\n",
    "    (0, 0): 1.0,\n",
    "    (1, 0): 0.5,\n",
    "    (0, 1): 0.75,\n",
    "    (1, 1): 1.5\n",
    "}\n",
    "\n",
    "self_loop = 0.5\n",
    "lateral = 0.25\n",
    "V1_weights = [\n",
    "    lateral,  # near neighbor\n",
    "    self_loop,  # self\n",
    "    lateral,  # near neighbor\n",
    "    0.01,  # V3\n",
    "]\n",
    "\n",
    "V1_sigmoid = dict(\n",
    "        input_weights=V1_weights,\n",
    "        determinism=V1_determinism,\n",
    "        threshold=V1_threshold,\n",
    "        weight_scale_mapping=V1_weight_scale_mapping,\n",
    "        floor=V1_floor,\n",
    "        ceiling=V1_ceiling,\n",
    ")\n",
    "\n",
    "\n",
    "# parameters for mismatch detector subunit# parameters for sigmoidal subunit\n",
    "V1_mm_floor = 0.01\n",
    "V1_mm_ceiling = 0.99\n",
    "V1_input = dict(\n",
    "    floor=V1_mm_floor,\n",
    "    ceiling=V1_mm_ceiling,\n",
    "    bias=0.0\n",
    ")"
   ]
  },
  {
   "cell_type": "code",
   "execution_count": 8,
   "id": "32154979-d460-4b8d-986a-cb49026089b2",
   "metadata": {
    "tags": []
   },
   "outputs": [],
   "source": [
    "\n",
    "# feedback amplification\n",
    "feedback = (N-1,)\n",
    "V1_sigmoid_inputs = (17,9,10,11,12,13,14,15,16,17,9)\n",
    "\n",
    "V1 = [\n",
    "    unit.CompositeUnit(\n",
    "        index=M + i,\n",
    "        label=labels[M + i],\n",
    "        state=(0,),\n",
    "        units=[\n",
    "            unit.Unit(\n",
    "                index=M + i,\n",
    "                label = labels[M + i],\n",
    "                state=(0,),\n",
    "                inputs=V1_sigmoid_inputs[i : i + 3] + feedback,\n",
    "                input_state=(0,)*4,\n",
    "                mechanism=\"resonnator\",#\"sigmoid\",#\n",
    "                params = V1_sigmoid, \n",
    "            ),\n",
    "            unit.Unit(\n",
    "                index=M + i,\n",
    "                label = labels[M + i],\n",
    "                state=(0,),\n",
    "                inputs = (i,),\n",
    "                input_state=(0,),\n",
    "                mechanism = \"mismatch_corrector\",\n",
    "                params = V1_input,\n",
    "            )\n",
    "            ],  # FB_sigmoid\n",
    "        mechanism_combination=\"selective\",\n",
    "    )\n",
    "    for i in range(len(layer_1))\n",
    "] "
   ]
  },
  {
   "cell_type": "markdown",
   "id": "8ac78711-637d-4ea7-b36a-28c7b469fa70",
   "metadata": {
    "tags": []
   },
   "source": [
    "# V2\n",
    "The V2 units are segment detectors. They also have a sigmoidal self-loop.\n",
    "\n",
    "Each detector is selective to a single segment state in V1 where exactly one contiuous segment is present. They implement selective \"conjunction\" mechanisms---only active when their preferred state is in the inputs. \n"
   ]
  },
  {
   "cell_type": "code",
   "execution_count": 9,
   "id": "08a53e1a-3f0e-4b51-a661-8aacc9df56e7",
   "metadata": {
    "tags": []
   },
   "outputs": [],
   "source": [
    "# Define sets of V1 states the V2 gate is selective to\n",
    "V1_segments = [(0, 1, 1, 1, 0)]"
   ]
  },
  {
   "cell_type": "code",
   "execution_count": 10,
   "id": "890ee4c1-5af7-4ec2-a156-88d7a8c9ccea",
   "metadata": {
    "tags": []
   },
   "outputs": [],
   "source": [
    "# Gabor-like detectors\n",
    "detector_floor = 0.01\n",
    "detector_ceiling = 0.99\n",
    "detector_selectivity = 5.0\n",
    "\n",
    "V2_detector = dict(\n",
    "    floor=detector_floor,\n",
    "    ceiling=detector_ceiling,\n",
    "    selectivity=detector_selectivity,\n",
    "    pattern_selection=V1_segments,\n",
    ")\n",
    "\n",
    "# self loop for V2, based on a sigmoid\n",
    "self_floor = 0.01\n",
    "self_ceiling = 0.2\n",
    "self_determinism = 1\n",
    "self_threshold = 0.5\n",
    "\n",
    "self_weights = [1.0, 0.5]\n",
    "\n",
    "self_sigmoid = dict(\n",
    "    input_weights=self_weights,\n",
    "    determinism=self_determinism,\n",
    "    threshold=self_threshold,\n",
    "    weight_scale_mapping=V1_weight_scale_mapping,\n",
    "    floor=self_floor,\n",
    "    ceiling=self_ceiling,\n",
    ")\n"
   ]
  },
  {
   "cell_type": "code",
   "execution_count": 11,
   "id": "d5c16594-afd9-4685-986c-2cf46b26087e",
   "metadata": {
    "tags": []
   },
   "outputs": [],
   "source": [
    "first_i = len(input_layer) + len(layer_1)\n",
    "layer_1_indices = tuple(range(M,M*2))\n",
    "\n",
    "# combining the mechanisms into a composite unit\n",
    "V2 = [\n",
    "    unit.CompositeUnit(\n",
    "        index=first_i + i,\n",
    "        label=labels[first_i + i],\n",
    "        state=(0,),\n",
    "        units=[\n",
    "            unit.Unit(\n",
    "                index=first_i + i,\n",
    "                label=labels[first_i + i],\n",
    "                state=(0,),\n",
    "                inputs=layer_1_indices[i+1:6+i],\n",
    "                input_state=(0,)*5,\n",
    "                mechanism=\"sor\",\n",
    "                params=V2_detector,\n",
    "            ),\n",
    "            unit.Unit(\n",
    "                index=first_i + i,\n",
    "                label=labels[first_i + i],\n",
    "                state=(0,),\n",
    "                inputs=(first_i + i,) + feedback,\n",
    "                input_state=(0,)*2,\n",
    "                mechanism=\"resonnator\",\n",
    "                params=self_sigmoid\n",
    "            )\n",
    "        ],\n",
    "        mechanism_combination=\"serial\",\n",
    "    )\n",
    "    for i in range(len(layer_2))\n",
    "]"
   ]
  },
  {
   "cell_type": "markdown",
   "id": "e3de939b-3a31-4c28-b48b-5a9e6bbb94ce",
   "metadata": {},
   "source": [
    "# V3\n",
    "The V3 unit is a detector over the V2 units. It also has a sigmoidal self-loop.\n",
    "\n",
    "The detector is selective to any state of the V2 units where exactly one of them is ON (indicating a segment is present in V1). It implements \"disjunction\" mechanism---active whenever one of its preferred states are on its inputs. \n"
   ]
  },
  {
   "cell_type": "code",
   "execution_count": 12,
   "id": "7c8890e5-9759-4bf9-8834-8a46162d76aa",
   "metadata": {
    "tags": []
   },
   "outputs": [],
   "source": [
    "# Define sets of V1 states the V2 gate is selective to\n",
    "V2_states = [\n",
    "    (1,0,0,0,),\n",
    "    (0,1,0,0,),\n",
    "    (0,0,1,0,),\n",
    "    (0,0,0,1,),\n",
    "]"
   ]
  },
  {
   "cell_type": "code",
   "execution_count": 13,
   "id": "a63a097c-2c07-49c8-8c35-87b5ce1a51b0",
   "metadata": {
    "tags": []
   },
   "outputs": [],
   "source": [
    "# Gabor-like detectors\n",
    "detector_floor = 0.01\n",
    "detector_ceiling = 0.99\n",
    "detector_selectivity = 5.0\n",
    "\n",
    "V3_detector = dict(\n",
    "    floor=detector_floor,\n",
    "    ceiling=detector_ceiling,\n",
    "    selectivity=detector_selectivity,\n",
    "    pattern_selection=V2_states,\n",
    ")\n",
    "\n",
    "# self loop for V2, based on a sigmoid\n",
    "self_floor = 0.01\n",
    "self_ceiling = 0.2\n",
    "self_determinism = 1\n",
    "self_threshold = 0.5\n",
    "\n",
    "self_weights = [1.0]\n",
    "\n",
    "self_sigmoid = dict(\n",
    "    input_weights=self_weights,\n",
    "    determinism=self_determinism,\n",
    "    threshold=self_threshold,\n",
    "    weight_scale_mapping=V1_weight_scale_mapping,\n",
    "    floor=self_floor,\n",
    "    ceiling=self_ceiling,\n",
    ")"
   ]
  },
  {
   "cell_type": "code",
   "execution_count": 14,
   "id": "bde96586-3942-421c-8d0a-6451c7c7b465",
   "metadata": {
    "tags": []
   },
   "outputs": [],
   "source": [
    "layer_2_indices = tuple(range(first_i,first_i+4))\n",
    "\n",
    "# combining the mechanisms into a composite unit\n",
    "V3 = [\n",
    "    unit.CompositeUnit(\n",
    "        index=N-1,\n",
    "        label=labels[N-1],\n",
    "        state=(0,),\n",
    "        units=[\n",
    "            unit.Unit(\n",
    "                index=N-1,\n",
    "                label=labels[N-1],\n",
    "                state=(0,),\n",
    "                inputs=layer_2_indices,\n",
    "                input_state=(0,)*4,\n",
    "                mechanism=\"sor\",\n",
    "                params=V3_detector\n",
    "            ),\n",
    "            unit.Unit(\n",
    "                index=N-1,\n",
    "                label=labels[N-1],\n",
    "                state=(0,),\n",
    "                inputs=(N-1,),\n",
    "                input_state=(0,),\n",
    "                mechanism=\"resonnator\",\n",
    "                params=self_sigmoid\n",
    "            )\n",
    "        ],\n",
    "        mechanism_combination=\"serial\",\n",
    "    )\n",
    "]"
   ]
  },
  {
   "cell_type": "code",
   "execution_count": 15,
   "id": "f7ce3feb-6291-4b40-ab64-27970891b689",
   "metadata": {
    "tags": []
   },
   "outputs": [],
   "source": [
    "units = LGN+V1+V2+V3"
   ]
  },
  {
   "cell_type": "markdown",
   "id": "49929cd7-70e0-4e91-ba26-2dbba40cb7aa",
   "metadata": {},
   "source": [
    "## create subsystems and compute some concepts"
   ]
  },
  {
   "cell_type": "code",
   "execution_count": 16,
   "id": "5e8e711e-0a53-4914-aba2-a3b87fcd71d5",
   "metadata": {
    "tags": []
   },
   "outputs": [],
   "source": [
    "def create_subsystems(state, units):\n",
    "    full_substrate = substrate.Substrate(units, state, implicit=True)\n",
    "    V1 = full_substrate.isolate_subset(tuple(range(9,18)))\n",
    "    V1_w_inputs = full_substrate.isolate_subset(tuple(range(18)))\n",
    "    one_detector = full_substrate.isolate_subset((9,10,11,12,13,18))\n",
    "    all_detectors = full_substrate.isolate_subset(tuple(range(9,23)))\n",
    "    pyramid = full_substrate.isolate_subset(tuple(range(9,23)))\n",
    "    return (\n",
    "        full_substrate.subsystem(nodes=tuple(range(8,21))),\n",
    "        V1.subsystem(),\n",
    "        V1_w_inputs.subsystem(nodes=tuple(range(8,16))),\n",
    "        one_detector.subsystem(),\n",
    "        all_detectors.subsystem(),\n",
    "        pyramid.subsystem()\n",
    "    )"
   ]
  },
  {
   "cell_type": "code",
   "execution_count": 17,
   "id": "b939ebba-dfb0-4105-a0a9-ba00fca3971e",
   "metadata": {
    "tags": []
   },
   "outputs": [],
   "source": [
    "def concepts(\n",
    "    subsystem,\n",
    "    mechanisms,\n",
    "    purviews=False,\n",
    "    cause_purviews=False,\n",
    "    effect_purviews=False\n",
    "):\n",
    "    if not purviews:\n",
    "        purviews = [purviews]*len(mechanisms)\n",
    "    if not cause_purviews:\n",
    "        cause_purviews = [cause_purviews]*len(mechanisms)\n",
    "    if not effect_purviews:\n",
    "        effect_purviews = [effect_purviews]*len(mechanisms)\n",
    "        \n",
    "    return [\n",
    "        subsystem.concept(\n",
    "            mechanism,\n",
    "            purview,\n",
    "            cause_purview,\n",
    "            effect_purview\n",
    "        )\n",
    "        for (\n",
    "            mechanism,\n",
    "            purview,\n",
    "            cause_purview,\n",
    "            effect_purview\n",
    "        ) in tqdm(\n",
    "            zip(mechanisms,purviews,cause_purviews,effect_purviews),\n",
    "            total=len(mechanisms)\n",
    "        )\n",
    "    ]\n"
   ]
  },
  {
   "cell_type": "markdown",
   "id": "08e7fbcb-13ac-4a9a-9fd1-c1573fca898a",
   "metadata": {},
   "source": [
    "### All off"
   ]
  },
  {
   "cell_type": "code",
   "execution_count": 18,
   "id": "f7bb0f41-3a91-4cfc-83d7-6b6456018b00",
   "metadata": {
    "tags": []
   },
   "outputs": [],
   "source": [
    "\n",
    "mechanisms = [(5,),(4,5),(4,5,6),(3,4,5,6),(3,4,5,6,7),]#(2,3,4,5,6,7),(1,2,3,4,5,6,7)]"
   ]
  },
  {
   "cell_type": "code",
   "execution_count": 26,
   "id": "a1a935c0-6e3a-4125-957b-d8f49d48deae",
   "metadata": {
    "tags": []
   },
   "outputs": [],
   "source": [
    "state = (0,)*23\n",
    "(\n",
    "    full_substrate,\n",
    "    V1,\n",
    "    V1_w_inputs,\n",
    "    one_detector,\n",
    "    all_detectors,\n",
    "    pyramid\n",
    ") = create_subsystems(state, units)"
   ]
  },
  {
   "cell_type": "code",
   "execution_count": null,
   "id": "9c88a1a4-49a0-4eba-8e7d-75a37eff9c4f",
   "metadata": {
    "tags": []
   },
   "outputs": [
    {
     "data": {
      "application/vnd.jupyter.widget-view+json": {
       "model_id": "0375b5596e30417e98306d175c20006c",
       "version_major": 2,
       "version_minor": 0
      },
      "text/plain": [
       "  0%|          | 0/5 [00:00<?, ?it/s]"
      ]
     },
     "metadata": {},
     "output_type": "display_data"
    }
   ],
   "source": [
    "cons = concepts(V1,mechanisms)\n",
    "ces2df(pyphi.models.CauseEffectStructure(cons,subsystem=V1))"
   ]
  },
  {
   "cell_type": "markdown",
   "id": "a94dd81b-8f48-45e8-b977-4c1ccb7eb5a4",
   "metadata": {},
   "source": [
    "### All on"
   ]
  },
  {
   "cell_type": "code",
   "execution_count": null,
   "id": "d4f47147-01cb-477f-9372-746bd440faf1",
   "metadata": {
    "tags": []
   },
   "outputs": [],
   "source": [
    "state = (1,)*23\n",
    "(\n",
    "    full_substrate,\n",
    "    V1,\n",
    "    V1_w_inputs,\n",
    "    one_detector,\n",
    "    all_detectors,\n",
    "    pyramid\n",
    ") = create_subsystems(state, units)"
   ]
  },
  {
   "cell_type": "code",
   "execution_count": null,
   "id": "5da7e73d-f323-4e60-81b7-8b7389af4662",
   "metadata": {
    "tags": []
   },
   "outputs": [],
   "source": [
    "cons_all_on = concepts(V1,mechanisms)\n",
    "ces2df(pyphi.models.CauseEffectStructure(cons_all_on,subsystem=V1))"
   ]
  },
  {
   "cell_type": "markdown",
   "id": "334ab4ca-9e26-4837-924b-47fd786ab3c3",
   "metadata": {},
   "source": [
    "### segment ON"
   ]
  },
  {
   "cell_type": "code",
   "execution_count": null,
   "id": "cbfcb029-710f-4b56-afb1-45d9d45eb658",
   "metadata": {
    "tags": []
   },
   "outputs": [],
   "source": [
    "state = (0,0,0,1,1,1,0,0,0)*2+(0,0,0,1,1)\n",
    "(\n",
    "    full_substrate,\n",
    "    V1,\n",
    "    V1_w_inputs,\n",
    "    one_detector,\n",
    "    all_detectors,\n",
    "    pyramid\n",
    ") = create_subsystems(state, units)"
   ]
  },
  {
   "cell_type": "code",
   "execution_count": null,
   "id": "c04d2015-c6b5-4e1b-a0dc-9b1ced9b6f3a",
   "metadata": {
    "tags": []
   },
   "outputs": [],
   "source": [
    "cons_segment = concepts(V1,mechanisms)\n",
    "ces2df(pyphi.models.CauseEffectStructure(cons_segment,subsystem=V1))"
   ]
  },
  {
   "cell_type": "markdown",
   "id": "c90c4759-4101-4452-9232-976423d2502c",
   "metadata": {},
   "source": [
    "### heterogenous"
   ]
  },
  {
   "cell_type": "code",
   "execution_count": null,
   "id": "f29401f1-a486-48b8-b802-27af7ade98ae",
   "metadata": {
    "tags": []
   },
   "outputs": [],
   "source": [
    "state = (0,1,0,1,0,1,0,1,0)*2+(0,0,0,0,0)\n",
    "(\n",
    "    full_substrate,\n",
    "    V1,\n",
    "    V1_w_inputs,\n",
    "    one_detector,\n",
    "    all_detectors,\n",
    "    pyramid\n",
    ") = create_subsystems(state, units)"
   ]
  },
  {
   "cell_type": "code",
   "execution_count": null,
   "id": "1e7d5508-2d45-4821-864d-3806743db216",
   "metadata": {
    "tags": []
   },
   "outputs": [],
   "source": [
    "cons_hetero = concepts(V1,[(4,),(3,4),(2,3,4),(2,3,4,5),(2,3,4,5,6),(2,3,4,5,6,7)])\n",
    "ces2df(pyphi.models.CauseEffectStructure(cons_hetero,subsystem=V1))"
   ]
  },
  {
   "cell_type": "code",
   "execution_count": null,
   "id": "9b272cdd-127e-4194-aecd-8463953cfad7",
   "metadata": {},
   "outputs": [],
   "source": []
  },
  {
   "cell_type": "code",
   "execution_count": null,
   "id": "8465e7c3-d7e4-4af3-b4eb-f3706d4d6ee9",
   "metadata": {},
   "outputs": [],
   "source": []
  },
  {
   "cell_type": "code",
   "execution_count": 59,
   "id": "21a3d982-21cf-4c5f-bfd1-bed8bb7ef625",
   "metadata": {
    "tags": []
   },
   "outputs": [],
   "source": [
    "def create_substrates(state, units):\n",
    "    full_substrate = substrate.Substrate(units, state, state, implicit=True)\n",
    "    \n",
    "    V1 = full_substrate.isolate_subset(tuple(range(9,18)))\n",
    "    V1_w_inputs = full_substrate.isolate_subset(tuple(range(18)))\n",
    "    one_detector = full_substrate.isolate_subset((9,10,11,12,13,18))\n",
    "    all_detectors = full_substrate.isolate_subset(tuple(range(9,23)))\n",
    "    pyramid = full_substrate.isolate_subset(tuple(range(9,23)))\n",
    "    \n",
    "    return (\n",
    "        full_substrate,\n",
    "        V1,\n",
    "        V1_w_inputs,\n",
    "        one_detector,\n",
    "        all_detectors,\n",
    "        pyramid\n",
    "    )"
   ]
  },
  {
   "cell_type": "code",
   "execution_count": 64,
   "id": "d453b4c2-dce0-4e9e-928d-dc498613ecb9",
   "metadata": {
    "tags": []
   },
   "outputs": [],
   "source": [
    "state = (0,1,0,1,0,1,0,1,0)*2+(0,0,0,0,0)\n",
    "state = (0,0,0,1,1,1,0,0,0)*2+(0,0,0,1,1)\n",
    "state = (0,)*23\n",
    "#state = (1,)*23\n",
    "(\n",
    "    full_substrate,\n",
    "    V1,\n",
    "    V1_w_inputs,\n",
    "    one_detector,\n",
    "    all_detectors,\n",
    "    pyramid\n",
    ") = create_substrates(state, units)"
   ]
  },
  {
   "cell_type": "code",
   "execution_count": 65,
   "id": "b316ca25-304f-432a-921d-c469251f684e",
   "metadata": {
    "tags": []
   },
   "outputs": [
    {
     "data": {
      "text/plain": [
       "ExplicitTPM(\n",
       "[[[[0.27356704]\n",
       "   [0.37999268]]\n",
       "\n",
       "  [[0.5       ]\n",
       "   [0.62000732]]]\n",
       "\n",
       "\n",
       " [[[0.37999268]\n",
       "   [0.5       ]]\n",
       "\n",
       "  [[0.62000732]\n",
       "   [0.72643296]]]]\n",
       ")"
      ]
     },
     "execution_count": 65,
     "metadata": {},
     "output_type": "execute_result"
    }
   ],
   "source": [
    "V1.units[3].tpm"
   ]
  },
  {
   "cell_type": "code",
   "execution_count": 93,
   "id": "4d352061-1b4a-4a22-a5a7-1f64b5fff008",
   "metadata": {
    "tags": []
   },
   "outputs": [],
   "source": [
    "\n",
    "mechanisms = [(5,),(4,5),(4,5,6),(3,4,5,6),(3,4,5,6,7),]#(2,3,4,5,6,7),(1,2,3,4,5,6,7)]"
   ]
  },
  {
   "cell_type": "code",
   "execution_count": 77,
   "id": "de141bcc-59b0-4482-b6a7-9894b7ce2045",
   "metadata": {
    "tags": []
   },
   "outputs": [
    {
     "data": {
      "text/plain": [
       "━━━━━━━━━━━━━━━━━━━━━━━━━━━━━━━━━━━━━━━━━━━━━━━━━━━━━━━━━━━━━━━━━━━━━━━━━━\n",
       "Distinction: mechanism = [D,E,F,G], state = [0, 0, 0, 0]\n",
       "                  φ = 0.0579163007843                   \n",
       "━━━━━━━━━━━━━━━━━━━━━━━━━━━━━━━━━━━━━━━━━━━━━━━━━━━━━━━━━━━━━━━━━━━━━━━━━━\n",
       "                 MIC                                  MIE                 \n",
       "┌───────────────────────────────────┐┌───────────────────────────────────┐\n",
       "│  φ = 0.1257310066881              ││  φ = 0.0579163007843              │\n",
       "│  Normalized φ = 0.0314327516720   ││  Normalized φ = 0.0289581503922   │\n",
       "│  Purview: [E,F]                   ││  Purview: [E,F]                   │\n",
       "│  Specified state:                 ││  Specified state:                 │\n",
       "│  ┌───────────────────────────┐    ││  ┌────────────────────────────┐   │\n",
       "│  │      Specified CAUSE      │    ││  │      Specified EFFECT      │   │\n",
       "│  │ ╍╍╍╍╍╍╍╍╍╍╍╍╍╍╍╍╍╍╍╍╍╍╍╍╍ │    ││  │ ╍╍╍╍╍╍╍╍╍╍╍╍╍╍╍╍╍╍╍╍╍╍╍╍╍╍ │   │\n",
       "│  │ CAUSE:  (0, 0)            │    ││  │ EFFECT:  (0, 0)            │   │\n",
       "│  │  II_c: 0.4905318190564949 │    ││  │   II_e: 0.5295827438004226 │   │\n",
       "│  └───────────────────────────┘    ││  └────────────────────────────┘   │\n",
       "│  MIP:                             ││  MIP:                             │\n",
       "│     ∅    D,E   F,G                ││     ∅     D    E,F,G              │\n",
       "│    ─── ✕ ─── ✕ ───                ││    ─── ✕ ─── ✕ ─────              │\n",
       "│     ∅     E     F                 ││     ∅     ∅     E,F               │\n",
       "│  Forward probability:             ││  Forward probability:             │\n",
       "│      0.1404149856695687           ││      0.5277048382236467           │\n",
       "│  Partitioned forward probability: ││  Partitioned forward probability: │\n",
       "│      0.11779397186391323          ││      0.48904929550618503          │\n",
       "│  #(ties): 0                       ││  #(ties): 1                       │\n",
       "└───────────────────────────────────┘└───────────────────────────────────┘"
      ]
     },
     "execution_count": 77,
     "metadata": {},
     "output_type": "execute_result"
    }
   ],
   "source": [
    "V1.subsystem().concept((3,4,5,6))"
   ]
  },
  {
   "cell_type": "code",
   "execution_count": 78,
   "id": "676d50a5-2533-4f25-b9f3-cddd1e7a323e",
   "metadata": {
    "tags": []
   },
   "outputs": [
    {
     "data": {
      "text/plain": [
       "ExplicitTPM(\n",
       "[[[[0.27356704]\n",
       "   [0.37999268]]\n",
       "\n",
       "  [[0.5       ]\n",
       "   [0.62000732]]]\n",
       "\n",
       "\n",
       " [[[0.37999268]\n",
       "   [0.5       ]]\n",
       "\n",
       "  [[0.62000732]\n",
       "   [0.72643296]]]]\n",
       ")"
      ]
     },
     "execution_count": 78,
     "metadata": {},
     "output_type": "execute_result"
    }
   ],
   "source": [
    "V1.units[3].tpm"
   ]
  },
  {
   "cell_type": "code",
   "execution_count": null,
   "id": "6ce377ed-d2c8-4d67-b5a5-ddf94d463fe6",
   "metadata": {},
   "outputs": [],
   "source": []
  },
  {
   "cell_type": "code",
   "execution_count": 34,
   "id": "61b848fa-4f3a-447e-8632-09f6a15b5d5a",
   "metadata": {
    "tags": []
   },
   "outputs": [
    {
     "data": {
      "text/html": [
       "<div>\n",
       "<style scoped>\n",
       "    .dataframe tbody tr th:only-of-type {\n",
       "        vertical-align: middle;\n",
       "    }\n",
       "\n",
       "    .dataframe tbody tr th {\n",
       "        vertical-align: top;\n",
       "    }\n",
       "\n",
       "    .dataframe thead th {\n",
       "        text-align: right;\n",
       "    }\n",
       "</style>\n",
       "<table border=\"1\" class=\"dataframe\">\n",
       "  <thead>\n",
       "    <tr style=\"text-align: right;\">\n",
       "      <th></th>\n",
       "      <th>mechanism</th>\n",
       "      <th>mechanism_state</th>\n",
       "      <th>phi</th>\n",
       "      <th>cause_purview</th>\n",
       "      <th>cause_state</th>\n",
       "      <th>cause_phi</th>\n",
       "      <th>effect_purview</th>\n",
       "      <th>effect_state</th>\n",
       "      <th>effect_phi</th>\n",
       "    </tr>\n",
       "  </thead>\n",
       "  <tbody>\n",
       "    <tr>\n",
       "      <th>0</th>\n",
       "      <td>D|</td>\n",
       "      <td>0</td>\n",
       "      <td>0.186485</td>\n",
       "      <td>D|</td>\n",
       "      <td>0</td>\n",
       "      <td>0.186485</td>\n",
       "      <td>D|</td>\n",
       "      <td>0</td>\n",
       "      <td>0.186485</td>\n",
       "    </tr>\n",
       "    <tr>\n",
       "      <th>1</th>\n",
       "      <td>C|D</td>\n",
       "      <td>00</td>\n",
       "      <td>0.109100</td>\n",
       "      <td>C|D</td>\n",
       "      <td>00</td>\n",
       "      <td>0.109100</td>\n",
       "      <td>C|D</td>\n",
       "      <td>00</td>\n",
       "      <td>0.114861</td>\n",
       "    </tr>\n",
       "    <tr>\n",
       "      <th>2</th>\n",
       "      <td>B|C|D</td>\n",
       "      <td>000</td>\n",
       "      <td>0.079727</td>\n",
       "      <td>C|</td>\n",
       "      <td>0</td>\n",
       "      <td>0.221913</td>\n",
       "      <td>C|</td>\n",
       "      <td>0</td>\n",
       "      <td>0.079727</td>\n",
       "    </tr>\n",
       "    <tr>\n",
       "      <th>3</th>\n",
       "      <td>B|C|D|E</td>\n",
       "      <td>0000</td>\n",
       "      <td>0.057916</td>\n",
       "      <td>C|D</td>\n",
       "      <td>00</td>\n",
       "      <td>0.125731</td>\n",
       "      <td>C|D</td>\n",
       "      <td>00</td>\n",
       "      <td>0.057916</td>\n",
       "    </tr>\n",
       "    <tr>\n",
       "      <th>4</th>\n",
       "      <td>B|C|D|E|F</td>\n",
       "      <td>00000</td>\n",
       "      <td>0.080312</td>\n",
       "      <td>C|D|E</td>\n",
       "      <td>000</td>\n",
       "      <td>0.080312</td>\n",
       "      <td>C|D|E</td>\n",
       "      <td>000</td>\n",
       "      <td>0.084145</td>\n",
       "    </tr>\n",
       "    <tr>\n",
       "      <th>5</th>\n",
       "      <td>B|C|D|E|F|G</td>\n",
       "      <td>000000</td>\n",
       "      <td>0.051032</td>\n",
       "      <td>C|D|E|F</td>\n",
       "      <td>0000</td>\n",
       "      <td>0.051032</td>\n",
       "      <td>C|D|E|F</td>\n",
       "      <td>0000</td>\n",
       "      <td>0.061125</td>\n",
       "    </tr>\n",
       "  </tbody>\n",
       "</table>\n",
       "</div>"
      ],
      "text/plain": [
       "     mechanism mechanism_state       phi cause_purview cause_state  cause_phi  \\\n",
       "0           D|               0  0.186485            D|           0   0.186485   \n",
       "1          C|D              00  0.109100           C|D          00   0.109100   \n",
       "2        B|C|D             000  0.079727            C|           0   0.221913   \n",
       "3      B|C|D|E            0000  0.057916           C|D          00   0.125731   \n",
       "4    B|C|D|E|F           00000  0.080312         C|D|E         000   0.080312   \n",
       "5  B|C|D|E|F|G          000000  0.051032       C|D|E|F        0000   0.051032   \n",
       "\n",
       "  effect_purview effect_state  effect_phi  \n",
       "0             D|            0    0.186485  \n",
       "1            C|D           00    0.114861  \n",
       "2             C|            0    0.079727  \n",
       "3            C|D           00    0.057916  \n",
       "4          C|D|E          000    0.084145  \n",
       "5        C|D|E|F         0000    0.061125  "
      ]
     },
     "execution_count": 34,
     "metadata": {},
     "output_type": "execute_result"
    }
   ],
   "source": [
    "ces2df(pyphi.models.CauseEffectStructure(cons,subsystem=V1))"
   ]
  }
 ],
 "metadata": {
  "kernelspec": {
   "display_name": "Python 3 (ipykernel)",
   "language": "python",
   "name": "python3"
  },
  "language_info": {
   "codemirror_mode": {
    "name": "ipython",
    "version": 3
   },
   "file_extension": ".py",
   "mimetype": "text/x-python",
   "name": "python",
   "nbconvert_exporter": "python",
   "pygments_lexer": "ipython3",
   "version": "3.10.9"
  }
 },
 "nbformat": 4,
 "nbformat_minor": 5
}
