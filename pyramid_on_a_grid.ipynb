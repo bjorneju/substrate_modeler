{
 "cells": [
  {
   "cell_type": "markdown",
   "id": "6eb3fee5-f1d4-4634-8b48-a2c357bb890c",
   "metadata": {
    "tags": []
   },
   "source": [
    "# main.ipynb\n",
    "A notebook designing the substrate for the matching system"
   ]
  },
  {
   "cell_type": "code",
   "execution_count": 1,
   "id": "7787a132-5713-4221-8ae9-9c5e93b05b96",
   "metadata": {
    "tags": []
   },
   "outputs": [],
   "source": [
    "%load_ext autoreload\n",
    "%autoreload 2\n",
    "%load_ext blackcellmagic"
   ]
  },
  {
   "cell_type": "code",
   "execution_count": 2,
   "id": "70c6b3eb-ab65-47a6-9fdd-216c9961d757",
   "metadata": {
    "tags": []
   },
   "outputs": [],
   "source": [
    "import pyphi\n",
    "from substrate_modeler import unit, substrate\n",
    "from matching.utils.convert import ces2df\n",
    "\n",
    "from tqdm.auto import tqdm\n",
    "import numpy as np\n",
    "from matplotlib import pyplot as plt\n",
    "import pickle"
   ]
  },
  {
   "cell_type": "code",
   "execution_count": 3,
   "id": "743e0df0-cb85-4d12-a929-e2d3d6a9211a",
   "metadata": {
    "tags": []
   },
   "outputs": [
    {
     "name": "stderr",
     "output_type": "stream",
     "text": [
      "2023-04-05 10:06:56,046\tINFO worker.py:1352 -- Connecting to existing Ray cluster at address: 144.92.2.41:99990...\n",
      "2023-04-05 10:06:56,093\tINFO worker.py:1529 -- Connected to Ray cluster. View the dashboard at \u001b[1m\u001b[32m127.0.0.1:60606 \u001b[39m\u001b[22m\n"
     ]
    },
    {
     "data": {
      "text/html": [
       "<div>\n",
       "    <div style=\"margin-left: 50px;display: flex;flex-direction: row;align-items: center\">\n",
       "        <h3 style=\"color: var(--jp-ui-font-color0)\">Ray</h3>\n",
       "        <svg version=\"1.1\" id=\"ray\" width=\"3em\" viewBox=\"0 0 144.5 144.6\" style=\"margin-left: 3em;margin-right: 3em\">\n",
       "            <g id=\"layer-1\">\n",
       "                <path fill=\"#00a2e9\" class=\"st0\" d=\"M97.3,77.2c-3.8-1.1-6.2,0.9-8.3,5.1c-3.5,6.8-9.9,9.9-17.4,9.6S58,88.1,54.8,81.2c-1.4-3-3-4-6.3-4.1\n",
       "                    c-5.6-0.1-9.9,0.1-13.1,6.4c-3.8,7.6-13.6,10.2-21.8,7.6C5.2,88.4-0.4,80.5,0,71.7c0.1-8.4,5.7-15.8,13.8-18.2\n",
       "                    c8.4-2.6,17.5,0.7,22.3,8c1.3,1.9,1.3,5.2,3.6,5.6c3.9,0.6,8,0.2,12,0.2c1.8,0,1.9-1.6,2.4-2.8c3.5-7.8,9.7-11.8,18-11.9\n",
       "                    c8.2-0.1,14.4,3.9,17.8,11.4c1.3,2.8,2.9,3.6,5.7,3.3c1-0.1,2,0.1,3,0c2.8-0.5,6.4,1.7,8.1-2.7s-2.3-5.5-4.1-7.5\n",
       "                    c-5.1-5.7-10.9-10.8-16.1-16.3C84,38,81.9,37.1,78,38.3C66.7,42,56.2,35.7,53,24.1C50.3,14,57.3,2.8,67.7,0.5\n",
       "                    C78.4-2,89,4.7,91.5,15.3c0.1,0.3,0.1,0.5,0.2,0.8c0.7,3.4,0.7,6.9-0.8,9.8c-1.7,3.2-0.8,5,1.5,7.2c6.7,6.5,13.3,13,19.8,19.7\n",
       "                    c1.8,1.8,3,2.1,5.5,1.2c9.1-3.4,17.9-0.6,23.4,7c4.8,6.9,4.6,16.1-0.4,22.9c-5.4,7.2-14.2,9.9-23.1,6.5c-2.3-0.9-3.5-0.6-5.1,1.1\n",
       "                    c-6.7,6.9-13.6,13.7-20.5,20.4c-1.8,1.8-2.5,3.2-1.4,5.9c3.5,8.7,0.3,18.6-7.7,23.6c-7.9,5-18.2,3.8-24.8-2.9\n",
       "                    c-6.4-6.4-7.4-16.2-2.5-24.3c4.9-7.8,14.5-11,23.1-7.8c3,1.1,4.7,0.5,6.9-1.7C91.7,98.4,98,92.3,104.2,86c1.6-1.6,4.1-2.7,2.6-6.2\n",
       "                    c-1.4-3.3-3.8-2.5-6.2-2.6C99.8,77.2,98.9,77.2,97.3,77.2z M72.1,29.7c5.5,0.1,9.9-4.3,10-9.8c0-0.1,0-0.2,0-0.3\n",
       "                    C81.8,14,77,9.8,71.5,10.2c-5,0.3-9,4.2-9.3,9.2c-0.2,5.5,4,10.1,9.5,10.3C71.8,29.7,72,29.7,72.1,29.7z M72.3,62.3\n",
       "                    c-5.4-0.1-9.9,4.2-10.1,9.7c0,0.2,0,0.3,0,0.5c0.2,5.4,4.5,9.7,9.9,10c5.1,0.1,9.9-4.7,10.1-9.8c0.2-5.5-4-10-9.5-10.3\n",
       "                    C72.6,62.3,72.4,62.3,72.3,62.3z M115,72.5c0.1,5.4,4.5,9.7,9.8,9.9c5.6-0.2,10-4.8,10-10.4c-0.2-5.4-4.6-9.7-10-9.7\n",
       "                    c-5.3-0.1-9.8,4.2-9.9,9.5C115,72.1,115,72.3,115,72.5z M19.5,62.3c-5.4,0.1-9.8,4.4-10,9.8c-0.1,5.1,5.2,10.4,10.2,10.3\n",
       "                    c5.6-0.2,10-4.9,9.8-10.5c-0.1-5.4-4.5-9.7-9.9-9.6C19.6,62.3,19.5,62.3,19.5,62.3z M71.8,134.6c5.9,0.2,10.3-3.9,10.4-9.6\n",
       "                    c0.5-5.5-3.6-10.4-9.1-10.8c-5.5-0.5-10.4,3.6-10.8,9.1c0,0.5,0,0.9,0,1.4c-0.2,5.3,4,9.8,9.3,10\n",
       "                    C71.6,134.6,71.7,134.6,71.8,134.6z\"/>\n",
       "            </g>\n",
       "        </svg>\n",
       "        <table>\n",
       "            <tr>\n",
       "                <td style=\"text-align: left\"><b>Python version:</b></td>\n",
       "                <td style=\"text-align: left\"><b>3.10.9</b></td>\n",
       "            </tr>\n",
       "            <tr>\n",
       "                <td style=\"text-align: left\"><b>Ray version:</b></td>\n",
       "                <td style=\"text-align: left\"><b> 2.2.0</b></td>\n",
       "            </tr>\n",
       "            <tr>\n",
       "    <td style=\"text-align: left\"><b>Dashboard:</b></td>\n",
       "    <td style=\"text-align: left\"><b><a href=\"http://127.0.0.1:60606\" target=\"_blank\">http://127.0.0.1:60606</a></b></td>\n",
       "</tr>\n",
       "\n",
       "        </table>\n",
       "    </div>\n",
       "</div>\n"
      ],
      "text/plain": [
       "RayContext(dashboard_url='127.0.0.1:60606', python_version='3.10.9', ray_version='2.2.0', ray_commit='b6af0887ee5f2e460202133791ad941a41f15beb', address_info={'node_ip_address': '144.92.2.41', 'raylet_ip_address': '144.92.2.41', 'redis_address': None, 'object_store_address': '/tmp/ray/session_2023-04-05_03-37-08_287934_3975743/sockets/plasma_store', 'raylet_socket_name': '/tmp/ray/session_2023-04-05_03-37-08_287934_3975743/sockets/raylet', 'webui_url': '127.0.0.1:60606', 'session_dir': '/tmp/ray/session_2023-04-05_03-37-08_287934_3975743', 'metrics_export_port': 38171, 'gcs_address': '144.92.2.41:99990', 'address': '144.92.2.41:99990', 'dashboard_agent_listen_port': 52365, 'node_id': '5d44647ef08971524212ee01997e978bd2edf0ebf24e90b2d38023c6'})"
      ]
     },
     "execution_count": 3,
     "metadata": {},
     "output_type": "execute_result"
    }
   ],
   "source": [
    "pyphi.compute.parallel.init(address='144.92.2.41:99990')"
   ]
  },
  {
   "cell_type": "code",
   "execution_count": 3,
   "id": "e132f8a5-098c-4c99-ba6a-8dcf1a627465",
   "metadata": {
    "tags": []
   },
   "outputs": [],
   "source": [
    "pyphi.config.PROGRESS_BARS = False\n",
    "pyphi.config.PARTITION_TYPE = 'TRI'\n",
    "pyphi.config.PARALLEL_CONCEPT_EVALUATION = False\n",
    "pyphi.config.PARALLEL_MECHANISM_PARTITION_EVALUATION = False\n",
    "pyphi.config.PARALLEL_PURVIEW_EVALUATION = False\n",
    "pyphi.config.PARALLEL_CUT_EVALUATION = False"
   ]
  },
  {
   "cell_type": "markdown",
   "id": "9960506c-388f-4863-bc07-f3d36fec06e6",
   "metadata": {},
   "source": [
    "## Build substrate"
   ]
  },
  {
   "cell_type": "markdown",
   "id": "49facbc2-1969-4b63-913c-a53f52306fc7",
   "metadata": {},
   "source": [
    "\n",
    "- LGN->V1: paralell inputs, mismatch detector\n",
    "- within V1: Grid with self loop and lateral excitation that gets weaker with distance. units always help eachother maintain their states\n",
    "- V1->V2: contiguity detector\n",
    "- within V2: self loop (only a single detector)\n",
    "- V2->V1: state-dependent modulation (if ON: shift threshold to the left; if OFF: shift threshold to the right)"
   ]
  },
  {
   "cell_type": "code",
   "execution_count": 4,
   "id": "1c0ae92a-d677-4efe-ba2a-e9967a894c35",
   "metadata": {
    "tags": []
   },
   "outputs": [],
   "source": [
    "input_layer = [\"L1\", \"L2\", \"L3\", \"L4\", \"L5\", \"L6\", \"L7\", \"L8\", \"L9\"] \n",
    "layer_1 = [\"A\", \"B\", \"C\", \"D\", \"E\", \"F\", \"G\", \"H\", \"I\"] \n",
    "layer_2 = [\"BCD\", \"CDE\", \"DEF\", \"EFG\"] \n",
    "Layer_3 = [\"V3\"]\n",
    "\n",
    "labels = input_layer + layer_1 + layer_2 + Layer_3\n",
    "N = len(labels)\n",
    "M = len(input_layer)"
   ]
  },
  {
   "cell_type": "markdown",
   "id": "d5848e61-98df-41fe-ab80-4ecd935af8f3",
   "metadata": {},
   "source": [
    "### Define LGN units\n",
    "Each unit in the LGN has a self loop, and no other inputs. THey are modeled as simple sigmoids with a relatively low determinism. They will be outside the main entity anyways."
   ]
  },
  {
   "cell_type": "code",
   "execution_count": 5,
   "id": "a5eebdbf-e12a-4268-9f14-28201323a4d4",
   "metadata": {
    "tags": []
   },
   "outputs": [],
   "source": [
    "# parameters for LGN sigmoid\n",
    "LGN_determinism = 3\n",
    "LGN_threshold = 0.5\n",
    "LGN_floor = 0.0\n",
    "LGN_ceiling = 1.0\n",
    "\n",
    "LGN_weights = [1.0]\n",
    "\n",
    "# create the basic unit, which will be used to define each of the LGN units in our substrate. Thwy will just vary with regards to from whom they receive inputs, their label, and their index (see below)\n",
    "LGN_unit = dict(\n",
    "        input_weights=LGN_weights,\n",
    "        determinism=LGN_determinism,\n",
    "        threshold=LGN_threshold,\n",
    "        floor=LGN_floor,\n",
    "        ceiling=LGN_ceiling,\n",
    "        ising = False\n",
    "    )\n",
    "\n",
    "# build the LGN units\n",
    "LGN = [\n",
    "    unit.Unit(\n",
    "        index=i,\n",
    "        label=labels[i],\n",
    "        inputs=(i,),\n",
    "        mechanism=\"sigmoid\",\n",
    "        params=LGN_unit,\n",
    "        state=(0,),\n",
    "        input_state =(0,)\n",
    "    )\n",
    "    for i in range(M)\n",
    "]\n",
    "\n",
    "# We now have a list of five identical (except their labels, inputs and indices) units that will form our input layer"
   ]
  },
  {
   "cell_type": "markdown",
   "id": "29bbb9a1-1b9f-4d46-ae1d-223e9dd4298d",
   "metadata": {},
   "source": [
    "### Define V1 units\n",
    "V1 units are composed of two mechanisms, and they are modulated by V2.\n",
    "\n",
    "First, they function as mismatch detectors with regards to the input from LGN. This means that they will be very strongly affected by inputs from the LGN if the LGN input is in a different state than the current state of the V1 unit. However, the LGN input has no effect on the state of the V1 unit if they are in the same state.\n",
    "\n",
    "Second, the V1 units implement a function inspired by (or hypothesized to be found in) neocortex. Basically, units receive inputs from their (near and far) neighbors (strength dependent on distance, for example), but regardless off the states of the units, the inputs always contribut to keeping the V1 unit in its current state. This is implemented using a simple sigmoid function, where the inputs are coded using ising states and the sign of the connection weights depend on the states of the V1unit and the inputs. If the V1 unit and its input is in the same state, the input will be positive, but if they are in oposite states they will be engative (and weaker?).\n",
    "\n",
    "Finally, the sigmoids are modulated by top down V2 input. The modulation is such that the threshold of the sigmoid is shifted depending on the state of the unit. If the unit is ON, then the threshold is shifted to the left (essentially increasing probability of firing). And oopposite for OFF"
   ]
  },
  {
   "cell_type": "code",
   "execution_count": 6,
   "id": "f89c7fee-87a6-4347-92e1-1eb6cebfdead",
   "metadata": {
    "tags": []
   },
   "outputs": [],
   "source": [
    "# parameters for sigmoidal subunit\n",
    "\n",
    "# V1_determinism = 4\n",
    "V1_determinism = 1\n",
    "\n",
    "V1_threshold = 0.0\n",
    "V1_floor = 0.01\n",
    "V1_ceiling = 0.99\n",
    "\n",
    "# define mapping to scale weight based on (unit_state, input_state)\n",
    "V1_weight_scale_mapping = {\n",
    "    (0, 0): 1.0,\n",
    "    (1, 0): 0.5,\n",
    "    (0, 1): 0.75,\n",
    "    (1, 1): 1.5\n",
    "}\n",
    "\n",
    "self_loop = 0.5\n",
    "lateral = 0.25\n",
    "V1_weights = [\n",
    "    lateral,  # near neighbor\n",
    "    self_loop,  # self\n",
    "    lateral,  # near neighbor\n",
    "    0.01,  # V3\n",
    "]\n",
    "\n",
    "V1_sigmoid = dict(\n",
    "        input_weights=V1_weights,\n",
    "        determinism=V1_determinism,\n",
    "        threshold=V1_threshold,\n",
    "        weight_scale_mapping=V1_weight_scale_mapping,\n",
    "        floor=V1_floor,\n",
    "        ceiling=V1_ceiling,\n",
    ")\n",
    "\n",
    "\n",
    "# parameters for mismatch detector subunit# parameters for sigmoidal subunit\n",
    "V1_mm_floor = 0.01\n",
    "V1_mm_ceiling = 0.99\n",
    "V1_input = dict(\n",
    "    floor=V1_mm_floor,\n",
    "    ceiling=V1_mm_ceiling,\n",
    "    bias=0.0\n",
    ")"
   ]
  },
  {
   "cell_type": "code",
   "execution_count": 7,
   "id": "32154979-d460-4b8d-986a-cb49026089b2",
   "metadata": {
    "tags": []
   },
   "outputs": [],
   "source": [
    "\n",
    "# feedback amplification\n",
    "feedback = (N-1,)\n",
    "V1_sigmoid_inputs = (17,9,10,11,12,13,14,15,16,17,9)\n",
    "\n",
    "V1 = [\n",
    "    unit.CompositeUnit(\n",
    "        index=M + i,\n",
    "        label=labels[M + i],\n",
    "        state=(0,),\n",
    "        units=[\n",
    "            unit.Unit(\n",
    "                index=M + i,\n",
    "                label = labels[M + i],\n",
    "                state=(0,),\n",
    "                inputs=V1_sigmoid_inputs[i : i + 3] + feedback,\n",
    "                input_state=(0,)*4,\n",
    "                mechanism=\"resonnator\",#\"sigmoid\",#\n",
    "                params = V1_sigmoid, \n",
    "            ),\n",
    "            unit.Unit(\n",
    "                index=M + i,\n",
    "                label = labels[M + i],\n",
    "                state=(0,),\n",
    "                inputs = (i,),\n",
    "                input_state=(0,),\n",
    "                mechanism = \"mismatch_corrector\",\n",
    "                params = V1_input,\n",
    "            )\n",
    "            ],  # FB_sigmoid\n",
    "        mechanism_combination=\"selective\",\n",
    "    )\n",
    "    for i in range(len(layer_1))\n",
    "] "
   ]
  },
  {
   "cell_type": "markdown",
   "id": "8ac78711-637d-4ea7-b36a-28c7b469fa70",
   "metadata": {
    "tags": []
   },
   "source": [
    "# V2\n",
    "The V2 units are segment detectors. They also have a sigmoidal self-loop.\n",
    "\n",
    "Each detector is selective to a single segment state in V1 where exactly one contiuous segment is present. They implement selective \"conjunction\" mechanisms---only active when their preferred state is in the inputs. \n"
   ]
  },
  {
   "cell_type": "code",
   "execution_count": 8,
   "id": "08a53e1a-3f0e-4b51-a661-8aacc9df56e7",
   "metadata": {
    "tags": []
   },
   "outputs": [],
   "source": [
    "# Define sets of V1 states the V2 gate is selective to\n",
    "V1_segments = [(0, 1, 1, 1, 0)]"
   ]
  },
  {
   "cell_type": "code",
   "execution_count": 9,
   "id": "890ee4c1-5af7-4ec2-a156-88d7a8c9ccea",
   "metadata": {
    "tags": []
   },
   "outputs": [],
   "source": [
    "# Gabor-like detectors\n",
    "detector_floor = 0.01\n",
    "detector_ceiling = 0.99\n",
    "detector_selectivity = 5.0\n",
    "\n",
    "V2_detector = dict(\n",
    "    floor=detector_floor,\n",
    "    ceiling=detector_ceiling,\n",
    "    selectivity=detector_selectivity,\n",
    "    pattern_selection=V1_segments,\n",
    ")\n",
    "\n",
    "# self loop for V2, based on a sigmoid\n",
    "self_floor = 0.01\n",
    "self_ceiling = 0.2\n",
    "self_determinism = 1\n",
    "self_threshold = 0.5\n",
    "\n",
    "self_weights = [1.0, 0.5]\n",
    "\n",
    "self_sigmoid = dict(\n",
    "    input_weights=self_weights,\n",
    "    determinism=self_determinism,\n",
    "    threshold=self_threshold,\n",
    "    weight_scale_mapping=V1_weight_scale_mapping,\n",
    "    floor=self_floor,\n",
    "    ceiling=self_ceiling,\n",
    ")\n"
   ]
  },
  {
   "cell_type": "code",
   "execution_count": 10,
   "id": "d5c16594-afd9-4685-986c-2cf46b26087e",
   "metadata": {
    "tags": []
   },
   "outputs": [],
   "source": [
    "first_i = len(input_layer) + len(layer_1)\n",
    "layer_1_indices = tuple(range(M,M*2))\n",
    "\n",
    "# combining the mechanisms into a composite unit\n",
    "V2 = [\n",
    "    unit.CompositeUnit(\n",
    "        index=first_i + i,\n",
    "        label=labels[first_i + i],\n",
    "        state=(0,),\n",
    "        units=[\n",
    "            unit.Unit(\n",
    "                index=first_i + i,\n",
    "                label=labels[first_i + i],\n",
    "                state=(0,),\n",
    "                inputs=layer_1_indices[i+1:6+i],\n",
    "                input_state=(0,)*5,\n",
    "                mechanism=\"sor\",\n",
    "                params=V2_detector,\n",
    "            ),\n",
    "            unit.Unit(\n",
    "                index=first_i + i,\n",
    "                label=labels[first_i + i],\n",
    "                state=(0,),\n",
    "                inputs=(first_i + i,) + feedback,\n",
    "                input_state=(0,)*2,\n",
    "                mechanism=\"resonnator\",\n",
    "                params=self_sigmoid\n",
    "            )\n",
    "        ],\n",
    "        mechanism_combination=\"serial\",\n",
    "    )\n",
    "    for i in range(len(layer_2))\n",
    "]"
   ]
  },
  {
   "cell_type": "markdown",
   "id": "e3de939b-3a31-4c28-b48b-5a9e6bbb94ce",
   "metadata": {},
   "source": [
    "# V3\n",
    "The V3 unit is a detector over the V2 units. It also has a sigmoidal self-loop.\n",
    "\n",
    "The detector is selective to any state of the V2 units where exactly one of them is ON (indicating a segment is present in V1). It implements \"disjunction\" mechanism---active whenever one of its preferred states are on its inputs. \n"
   ]
  },
  {
   "cell_type": "code",
   "execution_count": 11,
   "id": "7c8890e5-9759-4bf9-8834-8a46162d76aa",
   "metadata": {
    "tags": []
   },
   "outputs": [],
   "source": [
    "# Define sets of V1 states the V2 gate is selective to\n",
    "V2_states = [\n",
    "    (1,0,0,0,),\n",
    "    (0,1,0,0,),\n",
    "    (0,0,1,0,),\n",
    "    (0,0,0,1,),\n",
    "]"
   ]
  },
  {
   "cell_type": "code",
   "execution_count": 12,
   "id": "a63a097c-2c07-49c8-8c35-87b5ce1a51b0",
   "metadata": {
    "tags": []
   },
   "outputs": [],
   "source": [
    "# Gabor-like detectors\n",
    "detector_floor = 0.01\n",
    "detector_ceiling = 0.99\n",
    "detector_selectivity = 5.0\n",
    "\n",
    "V3_detector = dict(\n",
    "    floor=detector_floor,\n",
    "    ceiling=detector_ceiling,\n",
    "    selectivity=detector_selectivity,\n",
    "    pattern_selection=V2_states,\n",
    ")\n",
    "\n",
    "# self loop for V2, based on a sigmoid\n",
    "self_floor = 0.01\n",
    "self_ceiling = 0.2\n",
    "self_determinism = 1\n",
    "self_threshold = 0.5\n",
    "\n",
    "self_weights = [1.0]\n",
    "\n",
    "self_sigmoid = dict(\n",
    "    input_weights=self_weights,\n",
    "    determinism=self_determinism,\n",
    "    threshold=self_threshold,\n",
    "    weight_scale_mapping=V1_weight_scale_mapping,\n",
    "    floor=self_floor,\n",
    "    ceiling=self_ceiling,\n",
    ")"
   ]
  },
  {
   "cell_type": "code",
   "execution_count": 13,
   "id": "bde96586-3942-421c-8d0a-6451c7c7b465",
   "metadata": {
    "tags": []
   },
   "outputs": [],
   "source": [
    "layer_2_indices = tuple(range(first_i,first_i+4))\n",
    "\n",
    "# combining the mechanisms into a composite unit\n",
    "V3 = [\n",
    "    unit.CompositeUnit(\n",
    "        index=N-1,\n",
    "        label=labels[N-1],\n",
    "        state=(0,),\n",
    "        units=[\n",
    "            unit.Unit(\n",
    "                index=N-1,\n",
    "                label=labels[N-1],\n",
    "                state=(0,),\n",
    "                inputs=layer_2_indices,\n",
    "                input_state=(0,)*4,\n",
    "                mechanism=\"sor\",\n",
    "                params=V3_detector\n",
    "            ),\n",
    "            unit.Unit(\n",
    "                index=N-1,\n",
    "                label=labels[N-1],\n",
    "                state=(0,),\n",
    "                inputs=(N-1,),\n",
    "                input_state=(0,),\n",
    "                mechanism=\"resonnator\",\n",
    "                params=self_sigmoid\n",
    "            )\n",
    "        ],\n",
    "        mechanism_combination=\"serial\",\n",
    "    )\n",
    "]"
   ]
  },
  {
   "cell_type": "code",
   "execution_count": 14,
   "id": "f7ce3feb-6291-4b40-ab64-27970891b689",
   "metadata": {
    "tags": []
   },
   "outputs": [],
   "source": [
    "units = LGN+V1+V2+V3"
   ]
  },
  {
   "cell_type": "markdown",
   "id": "49929cd7-70e0-4e91-ba26-2dbba40cb7aa",
   "metadata": {},
   "source": [
    "## create subsystems and compute some concepts"
   ]
  },
  {
   "cell_type": "code",
   "execution_count": 15,
   "id": "5e8e711e-0a53-4914-aba2-a3b87fcd71d5",
   "metadata": {
    "tags": []
   },
   "outputs": [],
   "source": [
    "def create_subsystems(state, units):\n",
    "    full_substrate = substrate.Substrate(units, state, implicit=True)\n",
    "    V1 = full_substrate.isolate_subset(tuple(range(9,18)))\n",
    "    V1_w_inputs = full_substrate.isolate_subset(tuple(range(18)))\n",
    "    one_detector = full_substrate.isolate_subset((9,10,11,12,13,18))\n",
    "    all_detectors = full_substrate.isolate_subset(tuple(range(9,23)))\n",
    "    pyramid = full_substrate.isolate_subset(tuple(range(9,23)))\n",
    "    return (\n",
    "        full_substrate.subsystem(nodes=tuple(range(8,21))),\n",
    "        V1.subsystem(),\n",
    "        V1_w_inputs.subsystem(nodes=tuple(range(8,16))),\n",
    "        one_detector.subsystem(),\n",
    "        all_detectors.subsystem(),\n",
    "        pyramid.subsystem()\n",
    "    )"
   ]
  },
  {
   "cell_type": "code",
   "execution_count": 16,
   "id": "b939ebba-dfb0-4105-a0a9-ba00fca3971e",
   "metadata": {
    "tags": []
   },
   "outputs": [],
   "source": [
    "def concepts(\n",
    "    subsystem,\n",
    "    mechanisms,\n",
    "    purviews=False,\n",
    "    cause_purviews=False,\n",
    "    effect_purviews=False\n",
    "):\n",
    "    if not purviews:\n",
    "        purviews = [purviews]*len(mechanisms)\n",
    "    if not cause_purviews:\n",
    "        cause_purviews = [cause_purviews]*len(mechanisms)\n",
    "    if not effect_purviews:\n",
    "        effect_purviews = [effect_purviews]*len(mechanisms)\n",
    "        \n",
    "    return [\n",
    "        subsystem.concept(\n",
    "            mechanism,\n",
    "            purview,\n",
    "            cause_purview,\n",
    "            effect_purview\n",
    "        )\n",
    "        for (\n",
    "            mechanism,\n",
    "            purview,\n",
    "            cause_purview,\n",
    "            effect_purview\n",
    "        ) in tqdm(\n",
    "            zip(mechanisms,purviews,cause_purviews,effect_purviews),\n",
    "            total=len(mechanisms)\n",
    "        )\n",
    "    ]\n"
   ]
  },
  {
   "cell_type": "markdown",
   "id": "08e7fbcb-13ac-4a9a-9fd1-c1573fca898a",
   "metadata": {},
   "source": [
    "### All off"
   ]
  },
  {
   "cell_type": "code",
   "execution_count": 22,
   "id": "f7bb0f41-3a91-4cfc-83d7-6b6456018b00",
   "metadata": {
    "tags": []
   },
   "outputs": [],
   "source": [
    "mechanisms = [(4,),(4,5),(3,4,5),(3,4,5,6),(2,3,4,5,6),(2,3,4,5,6,7),(1,2,3,4,5,6,7)]"
   ]
  },
  {
   "cell_type": "code",
   "execution_count": 23,
   "id": "a1a935c0-6e3a-4125-957b-d8f49d48deae",
   "metadata": {
    "tags": []
   },
   "outputs": [],
   "source": [
    "state = (0,)*23\n",
    "(\n",
    "    full_substrate,\n",
    "    V1,\n",
    "    V1_w_inputs,\n",
    "    one_detector,\n",
    "    all_detectors,\n",
    "    pyramid\n",
    ") = create_subsystems(state, units)"
   ]
  },
  {
   "cell_type": "code",
   "execution_count": 24,
   "id": "69ecfc4a-21aa-44da-b1b9-bfae1d9879df",
   "metadata": {
    "tags": []
   },
   "outputs": [],
   "source": [
    "ex_tpm_off = pyphi.tpm.reconstitute_tpm(V1.network.tpm)"
   ]
  },
  {
   "cell_type": "code",
   "execution_count": 25,
   "id": "9bd4f177-291d-498c-80dc-d2d9110dd8c0",
   "metadata": {},
   "outputs": [
    {
     "data": {
      "application/vnd.jupyter.widget-view+json": {
       "model_id": "d1a89996d06748deb38cb328657bb4c5",
       "version_major": 2,
       "version_minor": 0
      },
      "text/plain": [
       "  0%|          | 0/7 [00:00<?, ?it/s]"
      ]
     },
     "metadata": {},
     "output_type": "display_data"
    }
   ],
   "source": [
    "cons_all_off = concepts(V1,mechanisms)\n",
    "off_df = ces2df(pyphi.models.CauseEffectStructure(cons_all_off,subsystem=V1))"
   ]
  },
  {
   "cell_type": "code",
   "execution_count": 26,
   "id": "958d6443-372d-4baa-a55d-c98650b6e1df",
   "metadata": {
    "tags": []
   },
   "outputs": [
    {
     "data": {
      "text/html": [
       "<div>\n",
       "<style scoped>\n",
       "    .dataframe tbody tr th:only-of-type {\n",
       "        vertical-align: middle;\n",
       "    }\n",
       "\n",
       "    .dataframe tbody tr th {\n",
       "        vertical-align: top;\n",
       "    }\n",
       "\n",
       "    .dataframe thead th {\n",
       "        text-align: right;\n",
       "    }\n",
       "</style>\n",
       "<table border=\"1\" class=\"dataframe\">\n",
       "  <thead>\n",
       "    <tr style=\"text-align: right;\">\n",
       "      <th></th>\n",
       "      <th>mechanism</th>\n",
       "      <th>mechanism_state</th>\n",
       "      <th>phi</th>\n",
       "      <th>cause_purview</th>\n",
       "      <th>cause_state</th>\n",
       "      <th>cause_phi</th>\n",
       "      <th>effect_purview</th>\n",
       "      <th>effect_state</th>\n",
       "      <th>effect_phi</th>\n",
       "    </tr>\n",
       "  </thead>\n",
       "  <tbody>\n",
       "    <tr>\n",
       "      <th>0</th>\n",
       "      <td>E|</td>\n",
       "      <td>0</td>\n",
       "      <td>0.186485</td>\n",
       "      <td>E|</td>\n",
       "      <td>0</td>\n",
       "      <td>0.186485</td>\n",
       "      <td>E|</td>\n",
       "      <td>0</td>\n",
       "      <td>0.186485</td>\n",
       "    </tr>\n",
       "    <tr>\n",
       "      <th>1</th>\n",
       "      <td>E|F</td>\n",
       "      <td>00</td>\n",
       "      <td>0.109100</td>\n",
       "      <td>E|F</td>\n",
       "      <td>00</td>\n",
       "      <td>0.109100</td>\n",
       "      <td>E|F</td>\n",
       "      <td>00</td>\n",
       "      <td>0.114861</td>\n",
       "    </tr>\n",
       "    <tr>\n",
       "      <th>2</th>\n",
       "      <td>D|E|F</td>\n",
       "      <td>000</td>\n",
       "      <td>0.079727</td>\n",
       "      <td>E|</td>\n",
       "      <td>0</td>\n",
       "      <td>0.221913</td>\n",
       "      <td>E|</td>\n",
       "      <td>0</td>\n",
       "      <td>0.079727</td>\n",
       "    </tr>\n",
       "    <tr>\n",
       "      <th>3</th>\n",
       "      <td>D|E|F|G</td>\n",
       "      <td>0000</td>\n",
       "      <td>0.057916</td>\n",
       "      <td>E|F</td>\n",
       "      <td>00</td>\n",
       "      <td>0.125731</td>\n",
       "      <td>E|F</td>\n",
       "      <td>00</td>\n",
       "      <td>0.057916</td>\n",
       "    </tr>\n",
       "    <tr>\n",
       "      <th>4</th>\n",
       "      <td>C|D|E|F|G</td>\n",
       "      <td>00000</td>\n",
       "      <td>0.080312</td>\n",
       "      <td>D|E|F</td>\n",
       "      <td>000</td>\n",
       "      <td>0.080312</td>\n",
       "      <td>D|E|F</td>\n",
       "      <td>000</td>\n",
       "      <td>0.084145</td>\n",
       "    </tr>\n",
       "    <tr>\n",
       "      <th>5</th>\n",
       "      <td>C|D|E|F|G|H</td>\n",
       "      <td>000000</td>\n",
       "      <td>0.051032</td>\n",
       "      <td>D|E|F|G</td>\n",
       "      <td>0000</td>\n",
       "      <td>0.051032</td>\n",
       "      <td>D|E|F|G</td>\n",
       "      <td>0000</td>\n",
       "      <td>0.061125</td>\n",
       "    </tr>\n",
       "    <tr>\n",
       "      <th>6</th>\n",
       "      <td>B|C|D|E|F|G|H</td>\n",
       "      <td>0000000</td>\n",
       "      <td>0.044404</td>\n",
       "      <td>C|E|G</td>\n",
       "      <td>000</td>\n",
       "      <td>0.050599</td>\n",
       "      <td>C|D|E|F|G</td>\n",
       "      <td>00000</td>\n",
       "      <td>0.044404</td>\n",
       "    </tr>\n",
       "  </tbody>\n",
       "</table>\n",
       "</div>"
      ],
      "text/plain": [
       "       mechanism mechanism_state       phi cause_purview cause_state  \\\n",
       "0             E|               0  0.186485            E|           0   \n",
       "1            E|F              00  0.109100           E|F          00   \n",
       "2          D|E|F             000  0.079727            E|           0   \n",
       "3        D|E|F|G            0000  0.057916           E|F          00   \n",
       "4      C|D|E|F|G           00000  0.080312         D|E|F         000   \n",
       "5    C|D|E|F|G|H          000000  0.051032       D|E|F|G        0000   \n",
       "6  B|C|D|E|F|G|H         0000000  0.044404         C|E|G         000   \n",
       "\n",
       "   cause_phi effect_purview effect_state  effect_phi  \n",
       "0   0.186485             E|            0    0.186485  \n",
       "1   0.109100            E|F           00    0.114861  \n",
       "2   0.221913             E|            0    0.079727  \n",
       "3   0.125731            E|F           00    0.057916  \n",
       "4   0.080312          D|E|F          000    0.084145  \n",
       "5   0.051032        D|E|F|G         0000    0.061125  \n",
       "6   0.050599      C|D|E|F|G        00000    0.044404  "
      ]
     },
     "execution_count": 26,
     "metadata": {},
     "output_type": "execute_result"
    }
   ],
   "source": [
    "off_df"
   ]
  },
  {
   "cell_type": "markdown",
   "id": "a94dd81b-8f48-45e8-b977-4c1ccb7eb5a4",
   "metadata": {},
   "source": [
    "### All on"
   ]
  },
  {
   "cell_type": "code",
   "execution_count": 27,
   "id": "d4f47147-01cb-477f-9372-746bd440faf1",
   "metadata": {
    "tags": []
   },
   "outputs": [],
   "source": [
    "state = (1,)*23\n",
    "(\n",
    "    full_substrate,\n",
    "    V1,\n",
    "    V1_w_inputs,\n",
    "    one_detector,\n",
    "    all_detectors,\n",
    "    pyramid\n",
    ") = create_subsystems(state, units)"
   ]
  },
  {
   "cell_type": "code",
   "execution_count": 28,
   "id": "27ac652a-bec8-485f-9d3d-23107d4f5b1d",
   "metadata": {
    "tags": []
   },
   "outputs": [],
   "source": [
    "ex_tpm_on = pyphi.tpm.reconstitute_tpm(V1.network.tpm)"
   ]
  },
  {
   "cell_type": "code",
   "execution_count": 29,
   "id": "5da7e73d-f323-4e60-81b7-8b7389af4662",
   "metadata": {
    "tags": []
   },
   "outputs": [
    {
     "data": {
      "application/vnd.jupyter.widget-view+json": {
       "model_id": "d25b355933b2405e9d1d90416df06066",
       "version_major": 2,
       "version_minor": 0
      },
      "text/plain": [
       "  0%|          | 0/7 [00:00<?, ?it/s]"
      ]
     },
     "metadata": {},
     "output_type": "display_data"
    }
   ],
   "source": [
    "cons_all_on = concepts(V1,mechanisms)\n",
    "on_df = ces2df(pyphi.models.CauseEffectStructure(cons_all_on,subsystem=V1))"
   ]
  },
  {
   "cell_type": "code",
   "execution_count": 30,
   "id": "96854e66-4de5-45e0-9d4f-1ebfb378836e",
   "metadata": {
    "tags": []
   },
   "outputs": [
    {
     "data": {
      "text/html": [
       "<div>\n",
       "<style scoped>\n",
       "    .dataframe tbody tr th:only-of-type {\n",
       "        vertical-align: middle;\n",
       "    }\n",
       "\n",
       "    .dataframe tbody tr th {\n",
       "        vertical-align: top;\n",
       "    }\n",
       "\n",
       "    .dataframe thead th {\n",
       "        text-align: right;\n",
       "    }\n",
       "</style>\n",
       "<table border=\"1\" class=\"dataframe\">\n",
       "  <thead>\n",
       "    <tr style=\"text-align: right;\">\n",
       "      <th></th>\n",
       "      <th>mechanism</th>\n",
       "      <th>mechanism_state</th>\n",
       "      <th>phi</th>\n",
       "      <th>cause_purview</th>\n",
       "      <th>cause_state</th>\n",
       "      <th>cause_phi</th>\n",
       "      <th>effect_purview</th>\n",
       "      <th>effect_state</th>\n",
       "      <th>effect_phi</th>\n",
       "    </tr>\n",
       "  </thead>\n",
       "  <tbody>\n",
       "    <tr>\n",
       "      <th>0</th>\n",
       "      <td>E|</td>\n",
       "      <td>1</td>\n",
       "      <td>0.274705</td>\n",
       "      <td>E|</td>\n",
       "      <td>1</td>\n",
       "      <td>0.274705</td>\n",
       "      <td>E|</td>\n",
       "      <td>1</td>\n",
       "      <td>0.274705</td>\n",
       "    </tr>\n",
       "    <tr>\n",
       "      <th>1</th>\n",
       "      <td>E|F</td>\n",
       "      <td>11</td>\n",
       "      <td>0.159810</td>\n",
       "      <td>E|F</td>\n",
       "      <td>11</td>\n",
       "      <td>0.159810</td>\n",
       "      <td>E|F</td>\n",
       "      <td>11</td>\n",
       "      <td>0.176282</td>\n",
       "    </tr>\n",
       "    <tr>\n",
       "      <th>2</th>\n",
       "      <td>D|E|F</td>\n",
       "      <td>111</td>\n",
       "      <td>0.127962</td>\n",
       "      <td>E|</td>\n",
       "      <td>1</td>\n",
       "      <td>0.164519</td>\n",
       "      <td>D|E|F</td>\n",
       "      <td>111</td>\n",
       "      <td>0.127962</td>\n",
       "    </tr>\n",
       "    <tr>\n",
       "      <th>3</th>\n",
       "      <td>D|E|F|G</td>\n",
       "      <td>1111</td>\n",
       "      <td>0.165756</td>\n",
       "      <td>E|F</td>\n",
       "      <td>11</td>\n",
       "      <td>0.187160</td>\n",
       "      <td>E|F</td>\n",
       "      <td>11</td>\n",
       "      <td>0.165756</td>\n",
       "    </tr>\n",
       "    <tr>\n",
       "      <th>4</th>\n",
       "      <td>C|D|E|F|G</td>\n",
       "      <td>11111</td>\n",
       "      <td>0.122206</td>\n",
       "      <td>D|E|F</td>\n",
       "      <td>111</td>\n",
       "      <td>0.122206</td>\n",
       "      <td>D|E|F</td>\n",
       "      <td>111</td>\n",
       "      <td>0.134464</td>\n",
       "    </tr>\n",
       "    <tr>\n",
       "      <th>5</th>\n",
       "      <td>C|D|E|F|G|H</td>\n",
       "      <td>111111</td>\n",
       "      <td>0.083139</td>\n",
       "      <td>D|F|G</td>\n",
       "      <td>111</td>\n",
       "      <td>0.083139</td>\n",
       "      <td>D|E|F|G</td>\n",
       "      <td>1111</td>\n",
       "      <td>0.109079</td>\n",
       "    </tr>\n",
       "    <tr>\n",
       "      <th>6</th>\n",
       "      <td>B|C|D|E|F|G|H</td>\n",
       "      <td>1111111</td>\n",
       "      <td>0.086909</td>\n",
       "      <td>C|E|G</td>\n",
       "      <td>111</td>\n",
       "      <td>0.086909</td>\n",
       "      <td>C|D|E|F|G</td>\n",
       "      <td>11111</td>\n",
       "      <td>0.088486</td>\n",
       "    </tr>\n",
       "  </tbody>\n",
       "</table>\n",
       "</div>"
      ],
      "text/plain": [
       "       mechanism mechanism_state       phi cause_purview cause_state  \\\n",
       "0             E|               1  0.274705            E|           1   \n",
       "1            E|F              11  0.159810           E|F          11   \n",
       "2          D|E|F             111  0.127962            E|           1   \n",
       "3        D|E|F|G            1111  0.165756           E|F          11   \n",
       "4      C|D|E|F|G           11111  0.122206         D|E|F         111   \n",
       "5    C|D|E|F|G|H          111111  0.083139         D|F|G         111   \n",
       "6  B|C|D|E|F|G|H         1111111  0.086909         C|E|G         111   \n",
       "\n",
       "   cause_phi effect_purview effect_state  effect_phi  \n",
       "0   0.274705             E|            1    0.274705  \n",
       "1   0.159810            E|F           11    0.176282  \n",
       "2   0.164519          D|E|F          111    0.127962  \n",
       "3   0.187160            E|F           11    0.165756  \n",
       "4   0.122206          D|E|F          111    0.134464  \n",
       "5   0.083139        D|E|F|G         1111    0.109079  \n",
       "6   0.086909      C|D|E|F|G        11111    0.088486  "
      ]
     },
     "execution_count": 30,
     "metadata": {},
     "output_type": "execute_result"
    }
   ],
   "source": [
    "on_df"
   ]
  },
  {
   "cell_type": "markdown",
   "id": "334ab4ca-9e26-4837-924b-47fd786ab3c3",
   "metadata": {},
   "source": [
    "### segment ON"
   ]
  },
  {
   "cell_type": "code",
   "execution_count": 31,
   "id": "cbfcb029-710f-4b56-afb1-45d9d45eb658",
   "metadata": {
    "tags": []
   },
   "outputs": [],
   "source": [
    "state = (0,0,0,1,1,1,0,0,0)*2+(0,0,0,1,1)\n",
    "(\n",
    "    full_substrate,\n",
    "    V1,\n",
    "    V1_w_inputs,\n",
    "    one_detector,\n",
    "    all_detectors,\n",
    "    pyramid\n",
    ") = create_subsystems(state, units)"
   ]
  },
  {
   "cell_type": "code",
   "execution_count": 32,
   "id": "7ff5de9c-c5c6-41b7-9e83-bfebe99f2fe3",
   "metadata": {
    "tags": []
   },
   "outputs": [],
   "source": [
    "ex_tpm_seg = pyphi.tpm.reconstitute_tpm(V1.network.tpm)"
   ]
  },
  {
   "cell_type": "code",
   "execution_count": 33,
   "id": "c04d2015-c6b5-4e1b-a0dc-9b1ced9b6f3a",
   "metadata": {
    "tags": []
   },
   "outputs": [
    {
     "data": {
      "application/vnd.jupyter.widget-view+json": {
       "model_id": "76cbfc46a4a14e1aa9a9d7073c8495f3",
       "version_major": 2,
       "version_minor": 0
      },
      "text/plain": [
       "  0%|          | 0/7 [00:00<?, ?it/s]"
      ]
     },
     "metadata": {},
     "output_type": "display_data"
    }
   ],
   "source": [
    "cons_segment = concepts(V1,mechanisms)\n",
    "seg_df = ces2df(pyphi.models.CauseEffectStructure(cons_segment,subsystem=V1))"
   ]
  },
  {
   "cell_type": "code",
   "execution_count": 34,
   "id": "189a2a10-dce1-44bd-87e1-9839ec7cfb22",
   "metadata": {
    "tags": []
   },
   "outputs": [
    {
     "data": {
      "text/html": [
       "<div>\n",
       "<style scoped>\n",
       "    .dataframe tbody tr th:only-of-type {\n",
       "        vertical-align: middle;\n",
       "    }\n",
       "\n",
       "    .dataframe tbody tr th {\n",
       "        vertical-align: top;\n",
       "    }\n",
       "\n",
       "    .dataframe thead th {\n",
       "        text-align: right;\n",
       "    }\n",
       "</style>\n",
       "<table border=\"1\" class=\"dataframe\">\n",
       "  <thead>\n",
       "    <tr style=\"text-align: right;\">\n",
       "      <th></th>\n",
       "      <th>mechanism</th>\n",
       "      <th>mechanism_state</th>\n",
       "      <th>phi</th>\n",
       "      <th>cause_purview</th>\n",
       "      <th>cause_state</th>\n",
       "      <th>cause_phi</th>\n",
       "      <th>effect_purview</th>\n",
       "      <th>effect_state</th>\n",
       "      <th>effect_phi</th>\n",
       "    </tr>\n",
       "  </thead>\n",
       "  <tbody>\n",
       "    <tr>\n",
       "      <th>0</th>\n",
       "      <td>E|</td>\n",
       "      <td>1</td>\n",
       "      <td>0.274705</td>\n",
       "      <td>E|</td>\n",
       "      <td>1</td>\n",
       "      <td>0.274705</td>\n",
       "      <td>E|</td>\n",
       "      <td>1</td>\n",
       "      <td>0.274705</td>\n",
       "    </tr>\n",
       "    <tr>\n",
       "      <th>1</th>\n",
       "      <td>E|F</td>\n",
       "      <td>11</td>\n",
       "      <td>0.161686</td>\n",
       "      <td>E|F</td>\n",
       "      <td>11</td>\n",
       "      <td>0.161686</td>\n",
       "      <td>E|F</td>\n",
       "      <td>11</td>\n",
       "      <td>0.178723</td>\n",
       "    </tr>\n",
       "    <tr>\n",
       "      <th>2</th>\n",
       "      <td>D|E|F</td>\n",
       "      <td>111</td>\n",
       "      <td>0.130820</td>\n",
       "      <td>E|</td>\n",
       "      <td>1</td>\n",
       "      <td>0.335833</td>\n",
       "      <td>D|E|F</td>\n",
       "      <td>111</td>\n",
       "      <td>0.130820</td>\n",
       "    </tr>\n",
       "    <tr>\n",
       "      <th>3</th>\n",
       "      <td>D|E|F|G</td>\n",
       "      <td>1110</td>\n",
       "      <td>0.057470</td>\n",
       "      <td>D|F</td>\n",
       "      <td>11</td>\n",
       "      <td>0.101209</td>\n",
       "      <td>E|F|G</td>\n",
       "      <td>110</td>\n",
       "      <td>0.057470</td>\n",
       "    </tr>\n",
       "    <tr>\n",
       "      <th>4</th>\n",
       "      <td>C|D|E|F|G</td>\n",
       "      <td>01110</td>\n",
       "      <td>0.051210</td>\n",
       "      <td>D|F</td>\n",
       "      <td>11</td>\n",
       "      <td>0.105659</td>\n",
       "      <td>D|F</td>\n",
       "      <td>11</td>\n",
       "      <td>0.051210</td>\n",
       "    </tr>\n",
       "    <tr>\n",
       "      <th>5</th>\n",
       "      <td>C|D|E|F|G|H</td>\n",
       "      <td>011100</td>\n",
       "      <td>0.041906</td>\n",
       "      <td>D|F|G</td>\n",
       "      <td>110</td>\n",
       "      <td>0.059182</td>\n",
       "      <td>C|D|F|G</td>\n",
       "      <td>0110</td>\n",
       "      <td>0.041906</td>\n",
       "    </tr>\n",
       "    <tr>\n",
       "      <th>6</th>\n",
       "      <td>B|C|D|E|F|G|H</td>\n",
       "      <td>0011100</td>\n",
       "      <td>0.045358</td>\n",
       "      <td>C|D|F|G</td>\n",
       "      <td>0110</td>\n",
       "      <td>0.048117</td>\n",
       "      <td>C|D|F|G</td>\n",
       "      <td>0110</td>\n",
       "      <td>0.045358</td>\n",
       "    </tr>\n",
       "  </tbody>\n",
       "</table>\n",
       "</div>"
      ],
      "text/plain": [
       "       mechanism mechanism_state       phi cause_purview cause_state  \\\n",
       "0             E|               1  0.274705            E|           1   \n",
       "1            E|F              11  0.161686           E|F          11   \n",
       "2          D|E|F             111  0.130820            E|           1   \n",
       "3        D|E|F|G            1110  0.057470           D|F          11   \n",
       "4      C|D|E|F|G           01110  0.051210           D|F          11   \n",
       "5    C|D|E|F|G|H          011100  0.041906         D|F|G         110   \n",
       "6  B|C|D|E|F|G|H         0011100  0.045358       C|D|F|G        0110   \n",
       "\n",
       "   cause_phi effect_purview effect_state  effect_phi  \n",
       "0   0.274705             E|            1    0.274705  \n",
       "1   0.161686            E|F           11    0.178723  \n",
       "2   0.335833          D|E|F          111    0.130820  \n",
       "3   0.101209          E|F|G          110    0.057470  \n",
       "4   0.105659            D|F           11    0.051210  \n",
       "5   0.059182        C|D|F|G         0110    0.041906  \n",
       "6   0.048117        C|D|F|G         0110    0.045358  "
      ]
     },
     "execution_count": 34,
     "metadata": {},
     "output_type": "execute_result"
    }
   ],
   "source": [
    "seg_df"
   ]
  },
  {
   "cell_type": "markdown",
   "id": "c90c4759-4101-4452-9232-976423d2502c",
   "metadata": {},
   "source": [
    "### heterogenous"
   ]
  },
  {
   "cell_type": "code",
   "execution_count": 35,
   "id": "f29401f1-a486-48b8-b802-27af7ade98ae",
   "metadata": {
    "tags": []
   },
   "outputs": [],
   "source": [
    "state = (0,1,0,1,0,1,0,1,0)*2+(0,0,0,0,0)\n",
    "(\n",
    "    full_substrate,\n",
    "    V1,\n",
    "    V1_w_inputs,\n",
    "    one_detector,\n",
    "    all_detectors,\n",
    "    pyramid\n",
    ") = create_subsystems(state, units)"
   ]
  },
  {
   "cell_type": "code",
   "execution_count": 36,
   "id": "44df3d6f-8745-4bef-979b-3ed553ad54a9",
   "metadata": {
    "tags": []
   },
   "outputs": [],
   "source": [
    "ex_tpm_het = pyphi.tpm.reconstitute_tpm(V1.network.tpm)"
   ]
  },
  {
   "cell_type": "code",
   "execution_count": 37,
   "id": "1e7d5508-2d45-4821-864d-3806743db216",
   "metadata": {
    "tags": []
   },
   "outputs": [
    {
     "data": {
      "application/vnd.jupyter.widget-view+json": {
       "model_id": "58e6ba1e952d4768b2cc08c70dc8b930",
       "version_major": 2,
       "version_minor": 0
      },
      "text/plain": [
       "  0%|          | 0/7 [00:00<?, ?it/s]"
      ]
     },
     "metadata": {},
     "output_type": "display_data"
    }
   ],
   "source": [
    "cons_hetero = concepts(V1,mechanisms)\n",
    "het_df = ces2df(pyphi.models.CauseEffectStructure(cons_hetero, subsystem=V1))"
   ]
  },
  {
   "cell_type": "code",
   "execution_count": 38,
   "id": "9b272cdd-127e-4194-aecd-8463953cfad7",
   "metadata": {},
   "outputs": [
    {
     "data": {
      "text/html": [
       "<div>\n",
       "<style scoped>\n",
       "    .dataframe tbody tr th:only-of-type {\n",
       "        vertical-align: middle;\n",
       "    }\n",
       "\n",
       "    .dataframe tbody tr th {\n",
       "        vertical-align: top;\n",
       "    }\n",
       "\n",
       "    .dataframe thead th {\n",
       "        text-align: right;\n",
       "    }\n",
       "</style>\n",
       "<table border=\"1\" class=\"dataframe\">\n",
       "  <thead>\n",
       "    <tr style=\"text-align: right;\">\n",
       "      <th></th>\n",
       "      <th>mechanism</th>\n",
       "      <th>mechanism_state</th>\n",
       "      <th>phi</th>\n",
       "      <th>cause_purview</th>\n",
       "      <th>cause_state</th>\n",
       "      <th>cause_phi</th>\n",
       "      <th>effect_purview</th>\n",
       "      <th>effect_state</th>\n",
       "      <th>effect_phi</th>\n",
       "    </tr>\n",
       "  </thead>\n",
       "  <tbody>\n",
       "    <tr>\n",
       "      <th>0</th>\n",
       "      <td>E|</td>\n",
       "      <td>0</td>\n",
       "      <td>0.189025</td>\n",
       "      <td>E|</td>\n",
       "      <td>0</td>\n",
       "      <td>0.189025</td>\n",
       "      <td>E|</td>\n",
       "      <td>0</td>\n",
       "      <td>0.189025</td>\n",
       "    </tr>\n",
       "    <tr>\n",
       "      <th>1</th>\n",
       "      <td>E|F</td>\n",
       "      <td>01</td>\n",
       "      <td>0.070579</td>\n",
       "      <td>F|</td>\n",
       "      <td>1</td>\n",
       "      <td>0.084178</td>\n",
       "      <td>E|F</td>\n",
       "      <td>01</td>\n",
       "      <td>0.070579</td>\n",
       "    </tr>\n",
       "    <tr>\n",
       "      <th>2</th>\n",
       "      <td>D|E|F</td>\n",
       "      <td>101</td>\n",
       "      <td>0.060687</td>\n",
       "      <td>E|</td>\n",
       "      <td>0</td>\n",
       "      <td>0.099772</td>\n",
       "      <td>E|</td>\n",
       "      <td>0</td>\n",
       "      <td>0.060687</td>\n",
       "    </tr>\n",
       "    <tr>\n",
       "      <th>3</th>\n",
       "      <td>D|E|F|G</td>\n",
       "      <td>1010</td>\n",
       "      <td>0.046443</td>\n",
       "      <td>D|F</td>\n",
       "      <td>11</td>\n",
       "      <td>0.057638</td>\n",
       "      <td>E|F|G</td>\n",
       "      <td>010</td>\n",
       "      <td>0.046443</td>\n",
       "    </tr>\n",
       "    <tr>\n",
       "      <th>4</th>\n",
       "      <td>C|D|E|F|G</td>\n",
       "      <td>01010</td>\n",
       "      <td>0.029133</td>\n",
       "      <td>D|F</td>\n",
       "      <td>11</td>\n",
       "      <td>0.060402</td>\n",
       "      <td>C|E|F</td>\n",
       "      <td>001</td>\n",
       "      <td>0.029133</td>\n",
       "    </tr>\n",
       "    <tr>\n",
       "      <th>5</th>\n",
       "      <td>C|D|E|F|G|H</td>\n",
       "      <td>010101</td>\n",
       "      <td>0.035823</td>\n",
       "      <td>D|F|H</td>\n",
       "      <td>111</td>\n",
       "      <td>0.042715</td>\n",
       "      <td>D|E|F|G</td>\n",
       "      <td>1010</td>\n",
       "      <td>0.035823</td>\n",
       "    </tr>\n",
       "    <tr>\n",
       "      <th>6</th>\n",
       "      <td>B|C|D|E|F|G|H</td>\n",
       "      <td>1010101</td>\n",
       "      <td>0.029878</td>\n",
       "      <td>B|D|F|H</td>\n",
       "      <td>1111</td>\n",
       "      <td>0.030208</td>\n",
       "      <td>C|E|G</td>\n",
       "      <td>000</td>\n",
       "      <td>0.029878</td>\n",
       "    </tr>\n",
       "  </tbody>\n",
       "</table>\n",
       "</div>"
      ],
      "text/plain": [
       "       mechanism mechanism_state       phi cause_purview cause_state  \\\n",
       "0             E|               0  0.189025            E|           0   \n",
       "1            E|F              01  0.070579            F|           1   \n",
       "2          D|E|F             101  0.060687            E|           0   \n",
       "3        D|E|F|G            1010  0.046443           D|F          11   \n",
       "4      C|D|E|F|G           01010  0.029133           D|F          11   \n",
       "5    C|D|E|F|G|H          010101  0.035823         D|F|H         111   \n",
       "6  B|C|D|E|F|G|H         1010101  0.029878       B|D|F|H        1111   \n",
       "\n",
       "   cause_phi effect_purview effect_state  effect_phi  \n",
       "0   0.189025             E|            0    0.189025  \n",
       "1   0.084178            E|F           01    0.070579  \n",
       "2   0.099772             E|            0    0.060687  \n",
       "3   0.057638          E|F|G          010    0.046443  \n",
       "4   0.060402          C|E|F          001    0.029133  \n",
       "5   0.042715        D|E|F|G         1010    0.035823  \n",
       "6   0.030208          C|E|G          000    0.029878  "
      ]
     },
     "execution_count": 38,
     "metadata": {},
     "output_type": "execute_result"
    }
   ],
   "source": [
    "het_df"
   ]
  },
  {
   "cell_type": "code",
   "execution_count": 4,
   "id": "91f5831a-40b4-4948-8ebb-9b5a4ae36a53",
   "metadata": {
    "tags": []
   },
   "outputs": [],
   "source": [
    "import pickle as pkl"
   ]
  },
  {
   "cell_type": "code",
   "execution_count": 67,
   "id": "ee2109c3-b772-4674-8c89-b914d3593513",
   "metadata": {
    "tags": []
   },
   "outputs": [],
   "source": [
    "with open('explicit_tpms.pkl','wb') as f:\n",
    "    pkl.dump([ex_tpm_off,ex_tpm_on,ex_tpm_seg,ex_tpm_het],f)"
   ]
  },
  {
   "cell_type": "code",
   "execution_count": 3,
   "id": "be452dcf-5f62-4759-b2c6-a753799bce36",
   "metadata": {
    "tags": []
   },
   "outputs": [],
   "source": [
    "pyphi.config.PROGRESS_BARS = False\n",
    "pyphi.config.PARTITION_TYPE = 'TRI'\n",
    "pyphi.config.PARALLEL = False"
   ]
  },
  {
   "cell_type": "code",
   "execution_count": 6,
   "id": "735516c0-518a-482a-a017-36b13a5ee4e1",
   "metadata": {
    "tags": []
   },
   "outputs": [],
   "source": [
    "with open('explicit_tpms.pkl','rb') as f:\n",
    "    tpms = pkl.load(f)"
   ]
  },
  {
   "cell_type": "code",
   "execution_count": 8,
   "id": "c203e19c-ac2d-4dae-b3b2-81a09a9eed98",
   "metadata": {
    "tags": []
   },
   "outputs": [],
   "source": [
    "states = [(0,)*9, (1,)*9,(0,0,0,1,1,1,0,0,0),(0,1,0,1,0,1,0,1,0)]"
   ]
  },
  {
   "cell_type": "code",
   "execution_count": 16,
   "id": "b1581384-62c4-4691-a3a5-8fac94d197a8",
   "metadata": {
    "tags": []
   },
   "outputs": [],
   "source": [
    "cm = np.array([\n",
    "    [1,1,0,0,0,0,0,0,1],\n",
    "    [1,1,1,0,0,0,0,0,0,],\n",
    "    [0,1,1,1,0,0,0,0,0,],\n",
    "    [0,0,1,1,1,0,0,0,0,],\n",
    "    [0,0,0,1,1,1,0,0,0,],\n",
    "    [0,0,0,0,1,1,1,0,0,],\n",
    "    [0,0,0,0,0,1,1,1,0],\n",
    "    [0,0,0,0,0,0,1,1,1,],\n",
    "    [1,0,0,0,0,0,0,1,1],\n",
    "])\n",
    "    "
   ]
  },
  {
   "cell_type": "code",
   "execution_count": 17,
   "id": "5eb2e7d1-15cc-46e3-804c-6ea4dc34dd37",
   "metadata": {
    "tags": []
   },
   "outputs": [],
   "source": [
    "subs = [\n",
    "    pyphi.Subsystem(\n",
    "        pyphi.Network(\n",
    "            tpm,\n",
    "            cm=cm,\n",
    "            node_labels=[\"A\", \"B\", \"C\", \"D\", \"E\", \"F\", \"G\", \"H\", \"I\"]),\n",
    "        state=state)\n",
    "    for tpm, state in zip(tpms, states)\n",
    "]\n"
   ]
  },
  {
   "cell_type": "code",
   "execution_count": 18,
   "id": "a405791f-ba58-43ca-a257-3af4cc4d36f4",
   "metadata": {
    "tags": []
   },
   "outputs": [
    {
     "data": {
      "application/vnd.jupyter.widget-view+json": {
       "model_id": "2b26d40616ce4032ad71ec64eaebb774",
       "version_major": 2,
       "version_minor": 0
      },
      "text/plain": [
       "  0%|          | 0/5 [00:00<?, ?it/s]"
      ]
     },
     "metadata": {},
     "output_type": "display_data"
    },
    {
     "data": {
      "application/vnd.jupyter.widget-view+json": {
       "model_id": "fb75e652caa0483590e159ae8cb5aae9",
       "version_major": 2,
       "version_minor": 0
      },
      "text/plain": [
       "  0%|          | 0/5 [00:00<?, ?it/s]"
      ]
     },
     "metadata": {},
     "output_type": "display_data"
    },
    {
     "data": {
      "application/vnd.jupyter.widget-view+json": {
       "model_id": "afe9bdb3ff6f47938268cc9cd1dcf31b",
       "version_major": 2,
       "version_minor": 0
      },
      "text/plain": [
       "  0%|          | 0/5 [00:00<?, ?it/s]"
      ]
     },
     "metadata": {},
     "output_type": "display_data"
    },
    {
     "data": {
      "application/vnd.jupyter.widget-view+json": {
       "model_id": "aed4aa32fea448bb8fda58d359566a30",
       "version_major": 2,
       "version_minor": 0
      },
      "text/plain": [
       "  0%|          | 0/5 [00:00<?, ?it/s]"
      ]
     },
     "metadata": {},
     "output_type": "display_data"
    },
    {
     "name": "stdout",
     "output_type": "stream",
     "text": [
      "CPU times: user 6min 46s, sys: 520 ms, total: 6min 46s\n",
      "Wall time: 6min 47s\n"
     ]
    }
   ],
   "source": [
    "%%time\n",
    "cons = [\n",
    "    pyphi.models.CauseEffectStructure(concepts(sub,mechanisms),subsystem=sub)\n",
    "    for sub in subs\n",
    "]"
   ]
  },
  {
   "cell_type": "code",
   "execution_count": 19,
   "id": "4b002393-9acc-465f-b9c4-59ed446a1a84",
   "metadata": {
    "tags": []
   },
   "outputs": [
    {
     "data": {
      "text/html": [
       "<div>\n",
       "<style scoped>\n",
       "    .dataframe tbody tr th:only-of-type {\n",
       "        vertical-align: middle;\n",
       "    }\n",
       "\n",
       "    .dataframe tbody tr th {\n",
       "        vertical-align: top;\n",
       "    }\n",
       "\n",
       "    .dataframe thead th {\n",
       "        text-align: right;\n",
       "    }\n",
       "</style>\n",
       "<table border=\"1\" class=\"dataframe\">\n",
       "  <thead>\n",
       "    <tr style=\"text-align: right;\">\n",
       "      <th></th>\n",
       "      <th>mechanism</th>\n",
       "      <th>mechanism_state</th>\n",
       "      <th>phi</th>\n",
       "      <th>cause_purview</th>\n",
       "      <th>cause_state</th>\n",
       "      <th>cause_phi</th>\n",
       "      <th>effect_purview</th>\n",
       "      <th>effect_state</th>\n",
       "      <th>effect_phi</th>\n",
       "    </tr>\n",
       "  </thead>\n",
       "  <tbody>\n",
       "    <tr>\n",
       "      <th>0</th>\n",
       "      <td>E|</td>\n",
       "      <td>0</td>\n",
       "      <td>0.186485</td>\n",
       "      <td>E|</td>\n",
       "      <td>0</td>\n",
       "      <td>0.186485</td>\n",
       "      <td>E|</td>\n",
       "      <td>0</td>\n",
       "      <td>0.186485</td>\n",
       "    </tr>\n",
       "    <tr>\n",
       "      <th>1</th>\n",
       "      <td>E|F</td>\n",
       "      <td>00</td>\n",
       "      <td>0.109100</td>\n",
       "      <td>E|F</td>\n",
       "      <td>00</td>\n",
       "      <td>0.109100</td>\n",
       "      <td>E|F</td>\n",
       "      <td>00</td>\n",
       "      <td>0.114861</td>\n",
       "    </tr>\n",
       "    <tr>\n",
       "      <th>2</th>\n",
       "      <td>D|E|F</td>\n",
       "      <td>000</td>\n",
       "      <td>0.079727</td>\n",
       "      <td>E|</td>\n",
       "      <td>0</td>\n",
       "      <td>0.221913</td>\n",
       "      <td>E|</td>\n",
       "      <td>0</td>\n",
       "      <td>0.079727</td>\n",
       "    </tr>\n",
       "    <tr>\n",
       "      <th>3</th>\n",
       "      <td>D|E|F|G</td>\n",
       "      <td>0000</td>\n",
       "      <td>0.115833</td>\n",
       "      <td>E|F</td>\n",
       "      <td>00</td>\n",
       "      <td>0.125731</td>\n",
       "      <td>E|F</td>\n",
       "      <td>00</td>\n",
       "      <td>0.115833</td>\n",
       "    </tr>\n",
       "    <tr>\n",
       "      <th>4</th>\n",
       "      <td>C|D|E|F|G</td>\n",
       "      <td>00000</td>\n",
       "      <td>0.080312</td>\n",
       "      <td>D|E|F</td>\n",
       "      <td>000</td>\n",
       "      <td>0.080312</td>\n",
       "      <td>D|E|F</td>\n",
       "      <td>000</td>\n",
       "      <td>0.084145</td>\n",
       "    </tr>\n",
       "  </tbody>\n",
       "</table>\n",
       "</div>"
      ],
      "text/plain": [
       "   mechanism mechanism_state       phi cause_purview cause_state  cause_phi  \\\n",
       "0         E|               0  0.186485            E|           0   0.186485   \n",
       "1        E|F              00  0.109100           E|F          00   0.109100   \n",
       "2      D|E|F             000  0.079727            E|           0   0.221913   \n",
       "3    D|E|F|G            0000  0.115833           E|F          00   0.125731   \n",
       "4  C|D|E|F|G           00000  0.080312         D|E|F         000   0.080312   \n",
       "\n",
       "  effect_purview effect_state  effect_phi  \n",
       "0             E|            0    0.186485  \n",
       "1            E|F           00    0.114861  \n",
       "2             E|            0    0.079727  \n",
       "3            E|F           00    0.115833  \n",
       "4          D|E|F          000    0.084145  "
      ]
     },
     "execution_count": 19,
     "metadata": {},
     "output_type": "execute_result"
    }
   ],
   "source": [
    "ces2df(cons[0])"
   ]
  },
  {
   "cell_type": "code",
   "execution_count": 20,
   "id": "74e6b4a8-350f-44f7-918c-a848b57ad4d0",
   "metadata": {
    "tags": []
   },
   "outputs": [
    {
     "data": {
      "text/html": [
       "<div>\n",
       "<style scoped>\n",
       "    .dataframe tbody tr th:only-of-type {\n",
       "        vertical-align: middle;\n",
       "    }\n",
       "\n",
       "    .dataframe tbody tr th {\n",
       "        vertical-align: top;\n",
       "    }\n",
       "\n",
       "    .dataframe thead th {\n",
       "        text-align: right;\n",
       "    }\n",
       "</style>\n",
       "<table border=\"1\" class=\"dataframe\">\n",
       "  <thead>\n",
       "    <tr style=\"text-align: right;\">\n",
       "      <th></th>\n",
       "      <th>mechanism</th>\n",
       "      <th>mechanism_state</th>\n",
       "      <th>phi</th>\n",
       "      <th>cause_purview</th>\n",
       "      <th>cause_state</th>\n",
       "      <th>cause_phi</th>\n",
       "      <th>effect_purview</th>\n",
       "      <th>effect_state</th>\n",
       "      <th>effect_phi</th>\n",
       "    </tr>\n",
       "  </thead>\n",
       "  <tbody>\n",
       "    <tr>\n",
       "      <th>0</th>\n",
       "      <td>E|</td>\n",
       "      <td>1</td>\n",
       "      <td>0.274705</td>\n",
       "      <td>E|</td>\n",
       "      <td>1</td>\n",
       "      <td>0.274705</td>\n",
       "      <td>E|</td>\n",
       "      <td>1</td>\n",
       "      <td>0.274705</td>\n",
       "    </tr>\n",
       "    <tr>\n",
       "      <th>1</th>\n",
       "      <td>E|F</td>\n",
       "      <td>11</td>\n",
       "      <td>0.159810</td>\n",
       "      <td>E|F</td>\n",
       "      <td>11</td>\n",
       "      <td>0.159810</td>\n",
       "      <td>E|F</td>\n",
       "      <td>11</td>\n",
       "      <td>0.176282</td>\n",
       "    </tr>\n",
       "    <tr>\n",
       "      <th>2</th>\n",
       "      <td>D|E|F</td>\n",
       "      <td>111</td>\n",
       "      <td>0.127962</td>\n",
       "      <td>E|</td>\n",
       "      <td>1</td>\n",
       "      <td>0.329038</td>\n",
       "      <td>D|E|F</td>\n",
       "      <td>111</td>\n",
       "      <td>0.127962</td>\n",
       "    </tr>\n",
       "    <tr>\n",
       "      <th>3</th>\n",
       "      <td>D|E|F|G</td>\n",
       "      <td>1111</td>\n",
       "      <td>0.165756</td>\n",
       "      <td>E|F</td>\n",
       "      <td>11</td>\n",
       "      <td>0.187160</td>\n",
       "      <td>E|F</td>\n",
       "      <td>11</td>\n",
       "      <td>0.165756</td>\n",
       "    </tr>\n",
       "    <tr>\n",
       "      <th>4</th>\n",
       "      <td>C|D|E|F|G</td>\n",
       "      <td>11111</td>\n",
       "      <td>0.122206</td>\n",
       "      <td>D|E|F</td>\n",
       "      <td>111</td>\n",
       "      <td>0.122206</td>\n",
       "      <td>D|E|F</td>\n",
       "      <td>111</td>\n",
       "      <td>0.134464</td>\n",
       "    </tr>\n",
       "  </tbody>\n",
       "</table>\n",
       "</div>"
      ],
      "text/plain": [
       "   mechanism mechanism_state       phi cause_purview cause_state  cause_phi  \\\n",
       "0         E|               1  0.274705            E|           1   0.274705   \n",
       "1        E|F              11  0.159810           E|F          11   0.159810   \n",
       "2      D|E|F             111  0.127962            E|           1   0.329038   \n",
       "3    D|E|F|G            1111  0.165756           E|F          11   0.187160   \n",
       "4  C|D|E|F|G           11111  0.122206         D|E|F         111   0.122206   \n",
       "\n",
       "  effect_purview effect_state  effect_phi  \n",
       "0             E|            1    0.274705  \n",
       "1            E|F           11    0.176282  \n",
       "2          D|E|F          111    0.127962  \n",
       "3            E|F           11    0.165756  \n",
       "4          D|E|F          111    0.134464  "
      ]
     },
     "execution_count": 20,
     "metadata": {},
     "output_type": "execute_result"
    }
   ],
   "source": [
    "ces2df(cons[1])"
   ]
  },
  {
   "cell_type": "code",
   "execution_count": 21,
   "id": "bd8e21a2-b87c-48c0-8815-390e1ba0a600",
   "metadata": {
    "tags": []
   },
   "outputs": [
    {
     "data": {
      "text/html": [
       "<div>\n",
       "<style scoped>\n",
       "    .dataframe tbody tr th:only-of-type {\n",
       "        vertical-align: middle;\n",
       "    }\n",
       "\n",
       "    .dataframe tbody tr th {\n",
       "        vertical-align: top;\n",
       "    }\n",
       "\n",
       "    .dataframe thead th {\n",
       "        text-align: right;\n",
       "    }\n",
       "</style>\n",
       "<table border=\"1\" class=\"dataframe\">\n",
       "  <thead>\n",
       "    <tr style=\"text-align: right;\">\n",
       "      <th></th>\n",
       "      <th>mechanism</th>\n",
       "      <th>mechanism_state</th>\n",
       "      <th>phi</th>\n",
       "      <th>cause_purview</th>\n",
       "      <th>cause_state</th>\n",
       "      <th>cause_phi</th>\n",
       "      <th>effect_purview</th>\n",
       "      <th>effect_state</th>\n",
       "      <th>effect_phi</th>\n",
       "    </tr>\n",
       "  </thead>\n",
       "  <tbody>\n",
       "    <tr>\n",
       "      <th>0</th>\n",
       "      <td>E|</td>\n",
       "      <td>1</td>\n",
       "      <td>0.274705</td>\n",
       "      <td>E|</td>\n",
       "      <td>1</td>\n",
       "      <td>0.274705</td>\n",
       "      <td>E|</td>\n",
       "      <td>1</td>\n",
       "      <td>0.274705</td>\n",
       "    </tr>\n",
       "    <tr>\n",
       "      <th>1</th>\n",
       "      <td>E|F</td>\n",
       "      <td>11</td>\n",
       "      <td>0.161686</td>\n",
       "      <td>E|F</td>\n",
       "      <td>11</td>\n",
       "      <td>0.161686</td>\n",
       "      <td>E|F</td>\n",
       "      <td>11</td>\n",
       "      <td>0.178723</td>\n",
       "    </tr>\n",
       "    <tr>\n",
       "      <th>2</th>\n",
       "      <td>D|E|F</td>\n",
       "      <td>111</td>\n",
       "      <td>0.130820</td>\n",
       "      <td>E|</td>\n",
       "      <td>1</td>\n",
       "      <td>0.335833</td>\n",
       "      <td>D|E|F</td>\n",
       "      <td>111</td>\n",
       "      <td>0.130820</td>\n",
       "    </tr>\n",
       "    <tr>\n",
       "      <th>3</th>\n",
       "      <td>D|E|F|G</td>\n",
       "      <td>1110</td>\n",
       "      <td>0.057470</td>\n",
       "      <td>D|F</td>\n",
       "      <td>11</td>\n",
       "      <td>0.101209</td>\n",
       "      <td>E|F|G</td>\n",
       "      <td>110</td>\n",
       "      <td>0.057470</td>\n",
       "    </tr>\n",
       "    <tr>\n",
       "      <th>4</th>\n",
       "      <td>C|D|E|F|G</td>\n",
       "      <td>01110</td>\n",
       "      <td>0.051210</td>\n",
       "      <td>D|F</td>\n",
       "      <td>11</td>\n",
       "      <td>0.105659</td>\n",
       "      <td>D|F</td>\n",
       "      <td>11</td>\n",
       "      <td>0.051210</td>\n",
       "    </tr>\n",
       "  </tbody>\n",
       "</table>\n",
       "</div>"
      ],
      "text/plain": [
       "   mechanism mechanism_state       phi cause_purview cause_state  cause_phi  \\\n",
       "0         E|               1  0.274705            E|           1   0.274705   \n",
       "1        E|F              11  0.161686           E|F          11   0.161686   \n",
       "2      D|E|F             111  0.130820            E|           1   0.335833   \n",
       "3    D|E|F|G            1110  0.057470           D|F          11   0.101209   \n",
       "4  C|D|E|F|G           01110  0.051210           D|F          11   0.105659   \n",
       "\n",
       "  effect_purview effect_state  effect_phi  \n",
       "0             E|            1    0.274705  \n",
       "1            E|F           11    0.178723  \n",
       "2          D|E|F          111    0.130820  \n",
       "3          E|F|G          110    0.057470  \n",
       "4            D|F           11    0.051210  "
      ]
     },
     "execution_count": 21,
     "metadata": {},
     "output_type": "execute_result"
    }
   ],
   "source": [
    "ces2df(cons[2])"
   ]
  },
  {
   "cell_type": "code",
   "execution_count": 22,
   "id": "8465e7c3-d7e4-4af3-b4eb-f3706d4d6ee9",
   "metadata": {},
   "outputs": [
    {
     "data": {
      "text/html": [
       "<div>\n",
       "<style scoped>\n",
       "    .dataframe tbody tr th:only-of-type {\n",
       "        vertical-align: middle;\n",
       "    }\n",
       "\n",
       "    .dataframe tbody tr th {\n",
       "        vertical-align: top;\n",
       "    }\n",
       "\n",
       "    .dataframe thead th {\n",
       "        text-align: right;\n",
       "    }\n",
       "</style>\n",
       "<table border=\"1\" class=\"dataframe\">\n",
       "  <thead>\n",
       "    <tr style=\"text-align: right;\">\n",
       "      <th></th>\n",
       "      <th>mechanism</th>\n",
       "      <th>mechanism_state</th>\n",
       "      <th>phi</th>\n",
       "      <th>cause_purview</th>\n",
       "      <th>cause_state</th>\n",
       "      <th>cause_phi</th>\n",
       "      <th>effect_purview</th>\n",
       "      <th>effect_state</th>\n",
       "      <th>effect_phi</th>\n",
       "    </tr>\n",
       "  </thead>\n",
       "  <tbody>\n",
       "    <tr>\n",
       "      <th>0</th>\n",
       "      <td>E|</td>\n",
       "      <td>0</td>\n",
       "      <td>0.189025</td>\n",
       "      <td>E|</td>\n",
       "      <td>0</td>\n",
       "      <td>0.189025</td>\n",
       "      <td>E|</td>\n",
       "      <td>0</td>\n",
       "      <td>0.189025</td>\n",
       "    </tr>\n",
       "    <tr>\n",
       "      <th>1</th>\n",
       "      <td>E|F</td>\n",
       "      <td>01</td>\n",
       "      <td>0.070579</td>\n",
       "      <td>F|</td>\n",
       "      <td>1</td>\n",
       "      <td>0.084178</td>\n",
       "      <td>E|F</td>\n",
       "      <td>01</td>\n",
       "      <td>0.070579</td>\n",
       "    </tr>\n",
       "    <tr>\n",
       "      <th>2</th>\n",
       "      <td>D|E|F</td>\n",
       "      <td>101</td>\n",
       "      <td>0.060687</td>\n",
       "      <td>E|</td>\n",
       "      <td>0</td>\n",
       "      <td>0.099772</td>\n",
       "      <td>E|</td>\n",
       "      <td>0</td>\n",
       "      <td>0.060687</td>\n",
       "    </tr>\n",
       "    <tr>\n",
       "      <th>3</th>\n",
       "      <td>D|E|F|G</td>\n",
       "      <td>1010</td>\n",
       "      <td>0.046443</td>\n",
       "      <td>D|F</td>\n",
       "      <td>11</td>\n",
       "      <td>0.057638</td>\n",
       "      <td>E|F|G</td>\n",
       "      <td>010</td>\n",
       "      <td>0.046443</td>\n",
       "    </tr>\n",
       "    <tr>\n",
       "      <th>4</th>\n",
       "      <td>C|D|E|F|G</td>\n",
       "      <td>01010</td>\n",
       "      <td>0.038057</td>\n",
       "      <td>D|F</td>\n",
       "      <td>11</td>\n",
       "      <td>0.060402</td>\n",
       "      <td>D|E|F</td>\n",
       "      <td>101</td>\n",
       "      <td>0.038057</td>\n",
       "    </tr>\n",
       "  </tbody>\n",
       "</table>\n",
       "</div>"
      ],
      "text/plain": [
       "   mechanism mechanism_state       phi cause_purview cause_state  cause_phi  \\\n",
       "0         E|               0  0.189025            E|           0   0.189025   \n",
       "1        E|F              01  0.070579            F|           1   0.084178   \n",
       "2      D|E|F             101  0.060687            E|           0   0.099772   \n",
       "3    D|E|F|G            1010  0.046443           D|F          11   0.057638   \n",
       "4  C|D|E|F|G           01010  0.038057           D|F          11   0.060402   \n",
       "\n",
       "  effect_purview effect_state  effect_phi  \n",
       "0             E|            0    0.189025  \n",
       "1            E|F           01    0.070579  \n",
       "2             E|            0    0.060687  \n",
       "3          E|F|G          010    0.046443  \n",
       "4          D|E|F          101    0.038057  "
      ]
     },
     "execution_count": 22,
     "metadata": {},
     "output_type": "execute_result"
    }
   ],
   "source": [
    "ces2df(cons[3])"
   ]
  },
  {
   "cell_type": "code",
   "execution_count": 59,
   "id": "21a3d982-21cf-4c5f-bfd1-bed8bb7ef625",
   "metadata": {
    "tags": []
   },
   "outputs": [],
   "source": [
    "def create_substrates(state, units):\n",
    "    full_substrate = substrate.Substrate(units, state, state, implicit=True)\n",
    "    \n",
    "    V1 = full_substrate.isolate_subset(tuple(range(9,18)))\n",
    "    V1_w_inputs = full_substrate.isolate_subset(tuple(range(18)))\n",
    "    one_detector = full_substrate.isolate_subset((9,10,11,12,13,18))\n",
    "    all_detectors = full_substrate.isolate_subset(tuple(range(9,23)))\n",
    "    pyramid = full_substrate.isolate_subset(tuple(range(9,23)))\n",
    "    \n",
    "    return (\n",
    "        full_substrate,\n",
    "        V1,\n",
    "        V1_w_inputs,\n",
    "        one_detector,\n",
    "        all_detectors,\n",
    "        pyramid\n",
    "    )"
   ]
  },
  {
   "cell_type": "code",
   "execution_count": 64,
   "id": "d453b4c2-dce0-4e9e-928d-dc498613ecb9",
   "metadata": {
    "tags": []
   },
   "outputs": [],
   "source": [
    "state = (0,1,0,1,0,1,0,1,0)*2+(0,0,0,0,0)\n",
    "state = (0,0,0,1,1,1,0,0,0)*2+(0,0,0,1,1)\n",
    "state = (0,)*23\n",
    "#state = (1,)*23\n",
    "(\n",
    "    full_substrate,\n",
    "    V1,\n",
    "    V1_w_inputs,\n",
    "    one_detector,\n",
    "    all_detectors,\n",
    "    pyramid\n",
    ") = create_substrates(state, units)"
   ]
  },
  {
   "cell_type": "code",
   "execution_count": 65,
   "id": "b316ca25-304f-432a-921d-c469251f684e",
   "metadata": {
    "tags": []
   },
   "outputs": [
    {
     "data": {
      "text/plain": [
       "ExplicitTPM(\n",
       "[[[[0.27356704]\n",
       "   [0.37999268]]\n",
       "\n",
       "  [[0.5       ]\n",
       "   [0.62000732]]]\n",
       "\n",
       "\n",
       " [[[0.37999268]\n",
       "   [0.5       ]]\n",
       "\n",
       "  [[0.62000732]\n",
       "   [0.72643296]]]]\n",
       ")"
      ]
     },
     "execution_count": 65,
     "metadata": {},
     "output_type": "execute_result"
    }
   ],
   "source": [
    "V1.units[3].tpm"
   ]
  },
  {
   "cell_type": "code",
   "execution_count": 93,
   "id": "4d352061-1b4a-4a22-a5a7-1f64b5fff008",
   "metadata": {
    "tags": []
   },
   "outputs": [],
   "source": [
    "\n",
    "mechanisms = [(5,),(4,5),(4,5,6),(3,4,5,6),(3,4,5,6,7),]#(2,3,4,5,6,7),(1,2,3,4,5,6,7)]"
   ]
  },
  {
   "cell_type": "code",
   "execution_count": 77,
   "id": "de141bcc-59b0-4482-b6a7-9894b7ce2045",
   "metadata": {
    "tags": []
   },
   "outputs": [
    {
     "data": {
      "text/plain": [
       "━━━━━━━━━━━━━━━━━━━━━━━━━━━━━━━━━━━━━━━━━━━━━━━━━━━━━━━━━━━━━━━━━━━━━━━━━━\n",
       "Distinction: mechanism = [D,E,F,G], state = [0, 0, 0, 0]\n",
       "                  φ = 0.0579163007843                   \n",
       "━━━━━━━━━━━━━━━━━━━━━━━━━━━━━━━━━━━━━━━━━━━━━━━━━━━━━━━━━━━━━━━━━━━━━━━━━━\n",
       "                 MIC                                  MIE                 \n",
       "┌───────────────────────────────────┐┌───────────────────────────────────┐\n",
       "│  φ = 0.1257310066881              ││  φ = 0.0579163007843              │\n",
       "│  Normalized φ = 0.0314327516720   ││  Normalized φ = 0.0289581503922   │\n",
       "│  Purview: [E,F]                   ││  Purview: [E,F]                   │\n",
       "│  Specified state:                 ││  Specified state:                 │\n",
       "│  ┌───────────────────────────┐    ││  ┌────────────────────────────┐   │\n",
       "│  │      Specified CAUSE      │    ││  │      Specified EFFECT      │   │\n",
       "│  │ ╍╍╍╍╍╍╍╍╍╍╍╍╍╍╍╍╍╍╍╍╍╍╍╍╍ │    ││  │ ╍╍╍╍╍╍╍╍╍╍╍╍╍╍╍╍╍╍╍╍╍╍╍╍╍╍ │   │\n",
       "│  │ CAUSE:  (0, 0)            │    ││  │ EFFECT:  (0, 0)            │   │\n",
       "│  │  II_c: 0.4905318190564949 │    ││  │   II_e: 0.5295827438004226 │   │\n",
       "│  └───────────────────────────┘    ││  └────────────────────────────┘   │\n",
       "│  MIP:                             ││  MIP:                             │\n",
       "│     ∅    D,E   F,G                ││     ∅     D    E,F,G              │\n",
       "│    ─── ✕ ─── ✕ ───                ││    ─── ✕ ─── ✕ ─────              │\n",
       "│     ∅     E     F                 ││     ∅     ∅     E,F               │\n",
       "│  Forward probability:             ││  Forward probability:             │\n",
       "│      0.1404149856695687           ││      0.5277048382236467           │\n",
       "│  Partitioned forward probability: ││  Partitioned forward probability: │\n",
       "│      0.11779397186391323          ││      0.48904929550618503          │\n",
       "│  #(ties): 0                       ││  #(ties): 1                       │\n",
       "└───────────────────────────────────┘└───────────────────────────────────┘"
      ]
     },
     "execution_count": 77,
     "metadata": {},
     "output_type": "execute_result"
    }
   ],
   "source": [
    "V1.subsystem().concept((3,4,5,6))"
   ]
  },
  {
   "cell_type": "code",
   "execution_count": 78,
   "id": "676d50a5-2533-4f25-b9f3-cddd1e7a323e",
   "metadata": {
    "tags": []
   },
   "outputs": [
    {
     "data": {
      "text/plain": [
       "ExplicitTPM(\n",
       "[[[[0.27356704]\n",
       "   [0.37999268]]\n",
       "\n",
       "  [[0.5       ]\n",
       "   [0.62000732]]]\n",
       "\n",
       "\n",
       " [[[0.37999268]\n",
       "   [0.5       ]]\n",
       "\n",
       "  [[0.62000732]\n",
       "   [0.72643296]]]]\n",
       ")"
      ]
     },
     "execution_count": 78,
     "metadata": {},
     "output_type": "execute_result"
    }
   ],
   "source": [
    "V1.units[3].tpm"
   ]
  },
  {
   "cell_type": "code",
   "execution_count": null,
   "id": "6ce377ed-d2c8-4d67-b5a5-ddf94d463fe6",
   "metadata": {},
   "outputs": [],
   "source": []
  },
  {
   "cell_type": "code",
   "execution_count": 34,
   "id": "61b848fa-4f3a-447e-8632-09f6a15b5d5a",
   "metadata": {
    "tags": []
   },
   "outputs": [
    {
     "data": {
      "text/html": [
       "<div>\n",
       "<style scoped>\n",
       "    .dataframe tbody tr th:only-of-type {\n",
       "        vertical-align: middle;\n",
       "    }\n",
       "\n",
       "    .dataframe tbody tr th {\n",
       "        vertical-align: top;\n",
       "    }\n",
       "\n",
       "    .dataframe thead th {\n",
       "        text-align: right;\n",
       "    }\n",
       "</style>\n",
       "<table border=\"1\" class=\"dataframe\">\n",
       "  <thead>\n",
       "    <tr style=\"text-align: right;\">\n",
       "      <th></th>\n",
       "      <th>mechanism</th>\n",
       "      <th>mechanism_state</th>\n",
       "      <th>phi</th>\n",
       "      <th>cause_purview</th>\n",
       "      <th>cause_state</th>\n",
       "      <th>cause_phi</th>\n",
       "      <th>effect_purview</th>\n",
       "      <th>effect_state</th>\n",
       "      <th>effect_phi</th>\n",
       "    </tr>\n",
       "  </thead>\n",
       "  <tbody>\n",
       "    <tr>\n",
       "      <th>0</th>\n",
       "      <td>D|</td>\n",
       "      <td>0</td>\n",
       "      <td>0.186485</td>\n",
       "      <td>D|</td>\n",
       "      <td>0</td>\n",
       "      <td>0.186485</td>\n",
       "      <td>D|</td>\n",
       "      <td>0</td>\n",
       "      <td>0.186485</td>\n",
       "    </tr>\n",
       "    <tr>\n",
       "      <th>1</th>\n",
       "      <td>C|D</td>\n",
       "      <td>00</td>\n",
       "      <td>0.109100</td>\n",
       "      <td>C|D</td>\n",
       "      <td>00</td>\n",
       "      <td>0.109100</td>\n",
       "      <td>C|D</td>\n",
       "      <td>00</td>\n",
       "      <td>0.114861</td>\n",
       "    </tr>\n",
       "    <tr>\n",
       "      <th>2</th>\n",
       "      <td>B|C|D</td>\n",
       "      <td>000</td>\n",
       "      <td>0.079727</td>\n",
       "      <td>C|</td>\n",
       "      <td>0</td>\n",
       "      <td>0.221913</td>\n",
       "      <td>C|</td>\n",
       "      <td>0</td>\n",
       "      <td>0.079727</td>\n",
       "    </tr>\n",
       "    <tr>\n",
       "      <th>3</th>\n",
       "      <td>B|C|D|E</td>\n",
       "      <td>0000</td>\n",
       "      <td>0.057916</td>\n",
       "      <td>C|D</td>\n",
       "      <td>00</td>\n",
       "      <td>0.125731</td>\n",
       "      <td>C|D</td>\n",
       "      <td>00</td>\n",
       "      <td>0.057916</td>\n",
       "    </tr>\n",
       "    <tr>\n",
       "      <th>4</th>\n",
       "      <td>B|C|D|E|F</td>\n",
       "      <td>00000</td>\n",
       "      <td>0.080312</td>\n",
       "      <td>C|D|E</td>\n",
       "      <td>000</td>\n",
       "      <td>0.080312</td>\n",
       "      <td>C|D|E</td>\n",
       "      <td>000</td>\n",
       "      <td>0.084145</td>\n",
       "    </tr>\n",
       "    <tr>\n",
       "      <th>5</th>\n",
       "      <td>B|C|D|E|F|G</td>\n",
       "      <td>000000</td>\n",
       "      <td>0.051032</td>\n",
       "      <td>C|D|E|F</td>\n",
       "      <td>0000</td>\n",
       "      <td>0.051032</td>\n",
       "      <td>C|D|E|F</td>\n",
       "      <td>0000</td>\n",
       "      <td>0.061125</td>\n",
       "    </tr>\n",
       "  </tbody>\n",
       "</table>\n",
       "</div>"
      ],
      "text/plain": [
       "     mechanism mechanism_state       phi cause_purview cause_state  cause_phi  \\\n",
       "0           D|               0  0.186485            D|           0   0.186485   \n",
       "1          C|D              00  0.109100           C|D          00   0.109100   \n",
       "2        B|C|D             000  0.079727            C|           0   0.221913   \n",
       "3      B|C|D|E            0000  0.057916           C|D          00   0.125731   \n",
       "4    B|C|D|E|F           00000  0.080312         C|D|E         000   0.080312   \n",
       "5  B|C|D|E|F|G          000000  0.051032       C|D|E|F        0000   0.051032   \n",
       "\n",
       "  effect_purview effect_state  effect_phi  \n",
       "0             D|            0    0.186485  \n",
       "1            C|D           00    0.114861  \n",
       "2             C|            0    0.079727  \n",
       "3            C|D           00    0.057916  \n",
       "4          C|D|E          000    0.084145  \n",
       "5        C|D|E|F         0000    0.061125  "
      ]
     },
     "execution_count": 34,
     "metadata": {},
     "output_type": "execute_result"
    }
   ],
   "source": [
    "ces2df(pyphi.models.CauseEffectStructure(cons,subsystem=V1))"
   ]
  }
 ],
 "metadata": {
  "kernelspec": {
   "display_name": "Python 3 (ipykernel)",
   "language": "python",
   "name": "python3"
  },
  "language_info": {
   "codemirror_mode": {
    "name": "ipython",
    "version": 3
   },
   "file_extension": ".py",
   "mimetype": "text/x-python",
   "name": "python",
   "nbconvert_exporter": "python",
   "pygments_lexer": "ipython3",
   "version": "3.10.9"
  }
 },
 "nbformat": 4,
 "nbformat_minor": 5
}
